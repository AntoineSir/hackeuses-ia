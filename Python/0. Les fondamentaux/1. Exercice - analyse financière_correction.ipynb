{
 "cells": [
  {
   "cell_type": "markdown",
   "metadata": {},
   "source": [
    "# Exercice analyse financière"
   ]
  },
  {
   "cell_type": "markdown",
   "metadata": {},
   "source": [
    "*__Scénario :__*  \n",
    "Vous travaillez pour une boîte de conseil et un de vos collègue du département d'audit vous demande de l'aider à mesurer la situation financière de l'entreprise ABC.  \n",
    "Pour cela, vous disposez de 2 listes de données : le revenu mensuel de l'année 2018 et les dépenses mensuelles de l'année 2018.\n",
    "\n",
    "*__Votre tâche :__*  \n",
    "Vous devez calculer les mesures suivantes :\n",
    "- le bénéfice mensuel\n",
    "- le bénéfice mensuel net (avec un taux d'imposition de 30%)\n",
    "- la marge bénéficiaire nette\n",
    "- les \"bons\" mois : ceux où le bénéfice est supérieur au bénéfice mensuel moyen\n",
    "- les \"mauvais\" mois : ceux où le bénéfice est inférieur au bénéfice mensuel moyen\n",
    "- le \"meilleur\" mois\n",
    "- le \"pire\" mois\n",
    "\n",
    "*__Vos contraintes :__*  \n",
    "Les résultats doivent être présentés sous une certaine forme :\n",
    "- les résultats doivent être présentés sous forme de listes\n",
    "- les résultats monnétaires en euro doivent être calculés avec une précision de 2 chiffres après la virgule mais doivent être présentés en unités de 1000€ (k€)\n",
    "- la marge bénéficiaire nette doit être présentée % arrondi à l'unité\n",
    "\n",
    "**Note :** les taxes de certains mois peuvent tout à fait être négatives"
   ]
  },
  {
   "cell_type": "code",
   "execution_count": null,
   "metadata": {},
   "outputs": [],
   "source": [
    "# données \n",
    "rev = [14574.49, 7606.46, 8611.41, 9175.41, 8058.65, 8105.44, 11496.28, 9766.09, 10305.32, 14379.96, 10713.97, 15433.50]\n",
    "dep = [12051.82, 5695.07, 12319.20, 12089.72, 8658.57, 840.20, 3285.73, 5821.12, 6976.93, 16618.61, 10054.37, 3803.96]"
   ]
  },
  {
   "cell_type": "markdown",
   "metadata": {},
   "source": [
    "## Bénéfice mensuel"
   ]
  },
  {
   "cell_type": "markdown",
   "metadata": {},
   "source": [
    "__Astuce pour les boucles__\n",
    "\n",
    "```python\n",
    "# compréhension de liste:\n",
    "[element for element in qqch]\n",
    "\n",
    "#équivalent à une boucle for classique:\n",
    "l=[]\n",
    "for element in qqch:\n",
    "    l.append(element)\n",
    "```"
   ]
  },
  {
   "cell_type": "code",
   "execution_count": null,
   "metadata": {},
   "outputs": [],
   "source": [
    "# fonction pour mettre au bon format les données\n",
    "def format_euros(liste):\n",
    "    return [round(el/1000, 2) for el in liste]"
   ]
  },
  {
   "cell_type": "code",
   "execution_count": null,
   "metadata": {},
   "outputs": [],
   "source": [
    "# calcul du bénéf mensuel : rev - dep pour chaque mois\n",
    "benef_mensuel = []\n",
    "for i in range(len(rev)):\n",
    "    benef_mensuel.append(rev[i] - dep[i])"
   ]
  },
  {
   "cell_type": "code",
   "execution_count": null,
   "metadata": {},
   "outputs": [],
   "source": [
    "# même chose en compréhension de liste\n",
    "benef_mensuel = [rev[i] - dep[i] for i in range(len(rev))]"
   ]
  },
  {
   "cell_type": "code",
   "execution_count": null,
   "metadata": {},
   "outputs": [],
   "source": [
    "print(format_euros(benef_mensuel))"
   ]
  },
  {
   "cell_type": "code",
   "execution_count": null,
   "metadata": {},
   "outputs": [],
   "source": [
    "# on affiche avec un joli format\n",
    "benef_mensuel_str = []\n",
    "for i in benef_mensuel:\n",
    "    format_euros(benef_mensuel_str).append(f\"{i}k€\")"
   ]
  },
  {
   "cell_type": "markdown",
   "metadata": {},
   "source": [
    "## Bénéfice mensuel net"
   ]
  },
  {
   "cell_type": "code",
   "execution_count": null,
   "metadata": {},
   "outputs": [],
   "source": [
    "# compréhension de liste : 70% de chaque élément de benef_mensuel\n",
    "benef_netm = [0.7 * i for i in benef_mensuel]"
   ]
  },
  {
   "cell_type": "code",
   "execution_count": null,
   "metadata": {},
   "outputs": [],
   "source": [
    "benef_netm"
   ]
  },
  {
   "cell_type": "markdown",
   "metadata": {},
   "source": [
    "## Marge bénéficiaire nette"
   ]
  },
  {
   "cell_type": "code",
   "execution_count": null,
   "metadata": {},
   "outputs": [],
   "source": [
    "# marge : benefice sur revenu\n",
    "marge_benef_net = []\n",
    "for i in range(len(rev)):\n",
    "    marge_benef_net.append(round(benef_netm[i] / rev[i] * 100))"
   ]
  },
  {
   "cell_type": "code",
   "execution_count": null,
   "metadata": {},
   "outputs": [],
   "source": [
    "marge_benef_net"
   ]
  },
  {
   "cell_type": "markdown",
   "metadata": {},
   "source": [
    "## Bons mois / mauvais mois"
   ]
  },
  {
   "cell_type": "code",
   "execution_count": null,
   "metadata": {},
   "outputs": [],
   "source": [
    "# on calcule la moyenne mensuelle sur toute l'année\n",
    "mean_benef = sum(benef_netm) / len(benef_netm)\n",
    "print(mean_benef)"
   ]
  },
  {
   "cell_type": "code",
   "execution_count": null,
   "metadata": {},
   "outputs": [],
   "source": [
    "# on initialise les listes où on va stocker chaque élément supérieur ou inférieur à la moyenne\n",
    "bons_mois = []\n",
    "mauvais_mois = []\n",
    "\n",
    "for i in range(len(benef_netm)):\n",
    "    # si supérieur:\n",
    "    if benef_netm[i] > mean_benef:\n",
    "        bons_mois.append(f\"Mois {i + 1}, {benef_netm[i]}€\")\n",
    "    # si inférieur : \n",
    "    else:\n",
    "        mauvais_mois.append(f\"Mois {i + 1}, {benef_netm[i]}€\")"
   ]
  },
  {
   "cell_type": "code",
   "execution_count": null,
   "metadata": {},
   "outputs": [],
   "source": [
    "liste_mois = [\"jan\", \"feb\", \"mar\", \"av\", \"mai\", \"june\", \"jul\", \"aug\", \"sept\", \"oct\", \"nov\", \"dec\"]\n",
    "bons_mois = []\n",
    "mauvais_mois = []\n",
    "# avec enumerate on a directement accès à l'index ET à la valeur\n",
    "for i, j in enumerate(benef_netm):\n",
    "    if j > mean_benef:\n",
    "        bons_mois.append(f\"Mois {liste_mois[i]}, {j}€\")\n",
    "    else:\n",
    "        mauvais_mois.append(f\"Mois {liste_mois[i]}, {j}€\")"
   ]
  },
  {
   "cell_type": "markdown",
   "metadata": {},
   "source": [
    "## Meilleur mois /pire mois"
   ]
  },
  {
   "cell_type": "code",
   "execution_count": null,
   "metadata": {},
   "outputs": [],
   "source": [
    "# meilleur mois : max du vecteur\n",
    "meilleur_mois = max(benef_netm)\n",
    "print(meilleur_mois)"
   ]
  },
  {
   "cell_type": "code",
   "execution_count": null,
   "metadata": {},
   "outputs": [],
   "source": [
    "# pire mois : min du vecteur\n",
    "pire_mois = min(benef_netm)\n",
    "print(pire_mois)"
   ]
  },
  {
   "cell_type": "code",
   "execution_count": null,
   "metadata": {},
   "outputs": [],
   "source": [
    "# on peut accéder à l'index en  fonction de valeur avec \n",
    "# la syntaxe vecteur.index(value)\n",
    "print(benef_netm.index(meilleur_mois) + 1)"
   ]
  },
  {
   "cell_type": "code",
   "execution_count": null,
   "metadata": {},
   "outputs": [],
   "source": [
    "print(benef_netm.index(pire_mois) + 1)"
   ]
  },
  {
   "cell_type": "code",
   "execution_count": null,
   "metadata": {},
   "outputs": [],
   "source": []
  }
 ],
 "metadata": {
  "kernelspec": {
   "display_name": "Python 3 (ipykernel)",
   "language": "python",
   "name": "python3"
  },
  "language_info": {
   "codemirror_mode": {
    "name": "ipython",
    "version": 3
   },
   "file_extension": ".py",
   "mimetype": "text/x-python",
   "name": "python",
   "nbconvert_exporter": "python",
   "pygments_lexer": "ipython3",
   "version": "3.8.13"
  }
 },
 "nbformat": 4,
 "nbformat_minor": 4
}
