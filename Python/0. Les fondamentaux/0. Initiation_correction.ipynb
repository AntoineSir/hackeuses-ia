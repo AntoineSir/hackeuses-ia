{
 "cells": [
  {
   "cell_type": "markdown",
   "metadata": {},
   "source": [
    "Initiation à ```python```\n",
    "============"
   ]
  },
  {
   "cell_type": "markdown",
   "metadata": {},
   "source": [
    "Sommaire:\n",
    "--------\n",
    "Introduction au langage:\n",
    "- Avantages de python\n",
    "- Racourcis Jupyter\n",
    "- Les types numériques\n",
    "- Les chaînes de caractères\n",
    "- Les bouléens et conditions\n",
    "- Les boucles\n",
    "- Les fonctions\n",
    "- Les listes\n",
    "- Les dictionaires"
   ]
  },
  {
   "cell_type": "markdown",
   "metadata": {},
   "source": [
    "Avantages de ```python```\n",
    "-------------------------\n",
    "* Langage lisible et simple de prise en main\n",
    "* Très utilisé (Youtube est développé en ```python```) avec une communauté active\n",
    "* Open Source\n",
    "* Multi OS\n",
    "* Nombreux packages allant du machine learning au dévelopement web"
   ]
  },
  {
   "cell_type": "markdown",
   "metadata": {},
   "source": [
    "Jupyter\n",
    "--------\n",
    "\n",
    "Jupyter est un service Web permettant de faire des notebooks. Ces notebooks facilitent le développement intéractif et sont de bons outils d'exploration données entre autres.\n",
    "\n",
    "Quelques raccourcis utiles pour l'utilisation de jupyter\n",
    "\n",
    "En mode navigation:\n",
    "* ```Shift + Enter``` : Lancer une cellule \n",
    "* ```Enter``` : Passer en mode EDITION\n",
    "* ```M``` : Passer la cellule en mode Markdown\n",
    "* ```Y``` : Passer la cellule en mode code\n",
    "* ```A``` : Insérer une cellule Au-dessus (Above)\n",
    "* ```B``` : Insérer une cellule en Bas (Below)\n",
    "* ```O``` : Permet de fermer la sortie d'une cellule, utile quand celui-ci prend trop de place par exemple\n",
    "\n",
    "En mode édition: \n",
    "* ```Shift + Enter``` : Lancer une cellule \n",
    "* ```Esc``` : Retour au mode de navigation entre les cellules\n",
    "* ```Shift``` : Autocomplétion\n",
    "* ```Shift+Tab``` : Documentation/aide de la fonction ou méthode utilisée. Premier ```Tab``` résumé de la documentation, deuxième ```Tab``` documentation complète\n",
    "* ```Alt+flèche``` : Aller au début ou en fin de ligne"
   ]
  },
  {
   "cell_type": "markdown",
   "metadata": {},
   "source": [
    "*N'hésitez pas à modifier le code pour voir ce qu'il se passe*\n",
    "------------------\n",
    "Les types numériques\n",
    "-------"
   ]
  },
  {
   "cell_type": "code",
   "execution_count": 2,
   "metadata": {},
   "outputs": [],
   "source": [
    "# On va commencer par assigner une variable\n",
    "a = 1"
   ]
  },
  {
   "cell_type": "code",
   "execution_count": 4,
   "metadata": {},
   "outputs": [
    {
     "name": "stdout",
     "output_type": "stream",
     "text": [
      "1\n"
     ]
    }
   ],
   "source": [
    "# Il suffit de la réindiquer pour voir sa valeur\n",
    "print(a)"
   ]
  },
  {
   "cell_type": "code",
   "execution_count": 5,
   "metadata": {},
   "outputs": [
    {
     "data": {
      "text/plain": [
       "4"
      ]
     },
     "execution_count": 5,
     "metadata": {},
     "output_type": "execute_result"
    }
   ],
   "source": [
    "# Une variable peut être réassignée\n",
    "a = 4\n",
    "a"
   ]
  },
  {
   "cell_type": "code",
   "execution_count": 8,
   "metadata": {},
   "outputs": [
    {
     "data": {
      "text/plain": [
       "19"
      ]
     },
     "execution_count": 8,
     "metadata": {},
     "output_type": "execute_result"
    }
   ],
   "source": [
    "# De différentes manières\n",
    "a = a + 1 + 1 + 1 + \\\n",
    "1 + 1\n",
    "# Le \\ permet de revenir à la ligne\n",
    "a"
   ]
  },
  {
   "cell_type": "code",
   "execution_count": 9,
   "metadata": {},
   "outputs": [
    {
     "data": {
      "text/plain": [
       "23"
      ]
     },
     "execution_count": 9,
     "metadata": {},
     "output_type": "execute_result"
    }
   ],
   "source": [
    "a += 2 * 2 # * pour la multiplication\n",
    "a"
   ]
  },
  {
   "cell_type": "code",
   "execution_count": 10,
   "metadata": {},
   "outputs": [
    {
     "data": {
      "text/plain": [
       "25"
      ]
     },
     "execution_count": 10,
     "metadata": {},
     "output_type": "execute_result"
    }
   ],
   "source": [
    "b = 5 ** 2 # ** pour la puissance\n",
    "b"
   ]
  },
  {
   "cell_type": "code",
   "execution_count": 12,
   "metadata": {},
   "outputs": [
    {
     "data": {
      "text/plain": [
       "48"
      ]
     },
     "execution_count": 12,
     "metadata": {},
     "output_type": "execute_result"
    }
   ],
   "source": [
    "eval('a+b')"
   ]
  },
  {
   "cell_type": "code",
   "execution_count": 13,
   "metadata": {},
   "outputs": [
    {
     "data": {
      "text/plain": [
       "'a+b'"
      ]
     },
     "execution_count": 13,
     "metadata": {},
     "output_type": "execute_result"
    }
   ],
   "source": [
    "\"a+b\""
   ]
  },
  {
   "cell_type": "code",
   "execution_count": 11,
   "metadata": {},
   "outputs": [
    {
     "data": {
      "text/plain": [
       "48"
      ]
     },
     "execution_count": 11,
     "metadata": {},
     "output_type": "execute_result"
    }
   ],
   "source": [
    "a+b"
   ]
  },
  {
   "cell_type": "code",
   "execution_count": 14,
   "metadata": {},
   "outputs": [
    {
     "name": "stdout",
     "output_type": "stream",
     "text": [
      "Donner moi un chiffre3\n"
     ]
    }
   ],
   "source": [
    "a = input(\"Donner moi un chiffre\")"
   ]
  },
  {
   "cell_type": "code",
   "execution_count": 15,
   "metadata": {},
   "outputs": [
    {
     "data": {
      "text/plain": [
       "('3', str)"
      ]
     },
     "execution_count": 15,
     "metadata": {},
     "output_type": "execute_result"
    }
   ],
   "source": [
    "a, type(a)"
   ]
  },
  {
   "cell_type": "code",
   "execution_count": 16,
   "metadata": {},
   "outputs": [
    {
     "name": "stdout",
     "output_type": "stream",
     "text": [
      "1 5 10\n"
     ]
    }
   ],
   "source": [
    "# il est possible de faire de la multi assignation\n",
    "a, b, c = 1, 5, 10\n",
    "\n",
    "# print() permet d'imprimer dans la console\n",
    "print(a,b,c)"
   ]
  },
  {
   "cell_type": "code",
   "execution_count": 17,
   "metadata": {},
   "outputs": [
    {
     "name": "stdout",
     "output_type": "stream",
     "text": [
      "6 16 26\n"
     ]
    }
   ],
   "source": [
    "a, b, c = 1, 5, 10\n",
    "a = a+b\n",
    "b = a+c\n",
    "c = b+c\n",
    "print(a,b,c)"
   ]
  },
  {
   "cell_type": "code",
   "execution_count": 18,
   "metadata": {},
   "outputs": [
    {
     "name": "stdout",
     "output_type": "stream",
     "text": [
      "22 32 42\n"
     ]
    }
   ],
   "source": [
    "a, b, c = a+b, a+c, b+c\n",
    "print(a,b,c)"
   ]
  },
  {
   "cell_type": "code",
   "execution_count": 19,
   "metadata": {},
   "outputs": [
    {
     "data": {
      "text/plain": [
       "3.14"
      ]
     },
     "execution_count": 19,
     "metadata": {},
     "output_type": "execute_result"
    }
   ],
   "source": [
    "# En plus des integer (int) il y a les float disponibles dans python\n",
    "pi = 3.14\n",
    "pi"
   ]
  },
  {
   "cell_type": "code",
   "execution_count": 20,
   "metadata": {
    "scrolled": true
   },
   "outputs": [
    {
     "data": {
      "text/plain": [
       "int"
      ]
     },
     "execution_count": 20,
     "metadata": {},
     "output_type": "execute_result"
    }
   ],
   "source": [
    "# On peut retrouver le type de variable grâce à type()\n",
    "type(a)"
   ]
  },
  {
   "cell_type": "code",
   "execution_count": 21,
   "metadata": {},
   "outputs": [
    {
     "data": {
      "text/plain": [
       "float"
      ]
     },
     "execution_count": 21,
     "metadata": {},
     "output_type": "execute_result"
    }
   ],
   "source": [
    "type(pi)"
   ]
  },
  {
   "cell_type": "code",
   "execution_count": 22,
   "metadata": {},
   "outputs": [
    {
     "data": {
      "text/plain": [
       "str"
      ]
     },
     "execution_count": 22,
     "metadata": {},
     "output_type": "execute_result"
    }
   ],
   "source": [
    "type(\"chaine_caracteres\")"
   ]
  },
  {
   "cell_type": "markdown",
   "metadata": {},
   "source": [
    "Exo 1\n",
    "------\n",
    "Assigner la variable ```preums``` à 125 et ```deuz``` à 15 puis mettre la division dans une troisième variable du nom de votre choix. Imprimer cette variable."
   ]
  },
  {
   "cell_type": "markdown",
   "metadata": {},
   "source": [
    "Les chaînes de caractères\n",
    "----"
   ]
  },
  {
   "cell_type": "code",
   "execution_count": 24,
   "metadata": {},
   "outputs": [
    {
     "name": "stdout",
     "output_type": "stream",
     "text": [
      "Ma première chaîne est : Bonsoir tout le monde !\n"
     ]
    }
   ],
   "source": [
    "# Il y a aussi les string qui sont des chaînes de caractères\n",
    "ma_chaine = 'Bonsoir tout le monde !'\n",
    "print(f'Ma première chaîne est : {ma_chaine}')"
   ]
  },
  {
   "cell_type": "code",
   "execution_count": 28,
   "metadata": {},
   "outputs": [],
   "source": [
    "# Plusieurs possibilités pour les chaînes de caractères:\n",
    "simple_cote = 'Les simples cotes marchent.'\n",
    "simple_cote_bis = \"les cotes simples 'marchent' aussi\"\n",
    "double_cote = \"Les doubles aussi avec la possiblité de mettre les simples 'Comme ceci'.\"\n",
    "triple_double_cote= \"\"\"Les triples sont utiles pour le passage à la ligne\n",
    "dans une même chaîne.\"\"\"\n",
    "echapement = 'L\\'échapement permet d\\'avoir des caractères spéciaux dans une chaîne de caractères.'\n",
    "autre_echap = \"C'est aussi bon comme ça\"\n",
    "\n",
    "# print(simple_cote)\n",
    "# print(double_cote)\n",
    "# print(triple_double_cote)\n",
    "# print(echapement)\n",
    "# print(autre_echap)\n",
    "# print('Le type des chaînes de caractères est:',type(simple_cote))"
   ]
  },
  {
   "cell_type": "code",
   "execution_count": 32,
   "metadata": {},
   "outputs": [
    {
     "name": "stdout",
     "output_type": "stream",
     "text": [
      "Les simples cotes marchent. Les doubles aussi avec la possiblité de mettre les simples 'Comme ceci'.\n"
     ]
    }
   ],
   "source": [
    "# Les string sont des séquences de caractères\n",
    "concatenation = 'On peut donc les' + ' concaténer'\n",
    "#print(concatenation)\n",
    "print(simple_cote + \" \" + double_cote)"
   ]
  },
  {
   "cell_type": "code",
   "execution_count": 33,
   "metadata": {},
   "outputs": [
    {
     "name": "stdout",
     "output_type": "stream",
     "text": [
      "voire les multiplier, multiplier, multiplier, ...\n"
     ]
    }
   ],
   "source": [
    "multi = 'voire les ' + 'multiplier, ' * 3 + '...'\n",
    "\n",
    "print(multi)"
   ]
  },
  {
   "cell_type": "code",
   "execution_count": 34,
   "metadata": {},
   "outputs": [
    {
     "name": "stdout",
     "output_type": "stream",
     "text": [
      "La variable 'a' a pour valeur 22\n",
      "On peut mettre des strings comme par exemple: La variable 'a' a pour valeur 22\n"
     ]
    }
   ],
   "source": [
    "# il est possible de faire du formatage de string en utilisant f\" mon string avec {ma_variable}\"\n",
    "je_formate = f\"La variable 'a' a pour valeur {a}\"\n",
    "tu_formates = f\"On peut mettre des strings comme par exemple: {je_formate}\"\n",
    "\n",
    "print(je_formate)\n",
    "print(tu_formates)"
   ]
  },
  {
   "cell_type": "code",
   "execution_count": 35,
   "metadata": {},
   "outputs": [
    {
     "data": {
      "text/plain": [
       "'o'"
      ]
     },
     "execution_count": 35,
     "metadata": {},
     "output_type": "execute_result"
    }
   ],
   "source": [
    "# Les string sont considérés comme des séquences de caractères. \n",
    "# On peut faire de l'extraction d'éléments en utilisant les crochets mon_string[mon_element]\n",
    "# Les éléments commencent à l'indice 0 dans python.\n",
    "\n",
    "mon_string = \"bonjour, appuyer sans cesse sur shift+enter m'épuise\"\n",
    "mon_string[1]"
   ]
  },
  {
   "cell_type": "code",
   "execution_count": 36,
   "metadata": {},
   "outputs": [
    {
     "data": {
      "text/plain": [
       "'e'"
      ]
     },
     "execution_count": 36,
     "metadata": {},
     "output_type": "execute_result"
    }
   ],
   "source": [
    "# On peut récupérer des éléments en commencant par la fin en utilisant l'opérateur -\n",
    "# Par exemple le dernier élément est à l'indice -1\n",
    "\n",
    "mon_string[-1]"
   ]
  },
  {
   "cell_type": "code",
   "execution_count": 37,
   "metadata": {},
   "outputs": [
    {
     "data": {
      "text/plain": [
       "'p'"
      ]
     },
     "execution_count": 37,
     "metadata": {},
     "output_type": "execute_result"
    }
   ],
   "source": [
    "mon_string[-5]"
   ]
  },
  {
   "cell_type": "code",
   "execution_count": 38,
   "metadata": {},
   "outputs": [
    {
     "data": {
      "text/plain": [
       "'njo'"
      ]
     },
     "execution_count": 38,
     "metadata": {},
     "output_type": "execute_result"
    }
   ],
   "source": [
    "# Il est possible de récupérer plusieurs élements d'une séquence en utilisant l'opérateur :\n",
    "# Ce concept est appeler \"slicing\"\n",
    "\n",
    "mon_string[2:5]"
   ]
  },
  {
   "cell_type": "code",
   "execution_count": 39,
   "metadata": {},
   "outputs": [
    {
     "data": {
      "text/plain": [
       "'bonjour, a'"
      ]
     },
     "execution_count": 39,
     "metadata": {},
     "output_type": "execute_result"
    }
   ],
   "source": [
    "mon_string[:10]"
   ]
  },
  {
   "cell_type": "code",
   "execution_count": 40,
   "metadata": {},
   "outputs": [
    {
     "data": {
      "text/plain": [
       "52"
      ]
     },
     "execution_count": 40,
     "metadata": {},
     "output_type": "execute_result"
    }
   ],
   "source": [
    "# len(mon_string) va permettre de connaître la taille d'un string\n",
    "# length\n",
    "len(mon_string)"
   ]
  },
  {
   "cell_type": "code",
   "execution_count": 42,
   "metadata": {},
   "outputs": [
    {
     "data": {
      "text/plain": [
       "\"r m'épuis\""
      ]
     },
     "execution_count": 42,
     "metadata": {},
     "output_type": "execute_result"
    }
   ],
   "source": [
    "# On peut récupérer l'ensemble des éléments jusqu'à la fin en utilisant la longueur du string\n",
    "\n",
    "mon_string[42:len(mon_string)]"
   ]
  },
  {
   "cell_type": "code",
   "execution_count": 43,
   "metadata": {},
   "outputs": [
    {
     "data": {
      "text/plain": [
       "\"r m'épuise\""
      ]
     },
     "execution_count": 43,
     "metadata": {},
     "output_type": "execute_result"
    }
   ],
   "source": [
    "# En ne mettant pas d'indice avant ou après le : permet de récupérer l'ensemble des éléments avant ou après l'indice\n",
    "\n",
    "mon_string[42:]"
   ]
  },
  {
   "cell_type": "code",
   "execution_count": 44,
   "metadata": {},
   "outputs": [
    {
     "data": {
      "text/plain": [
       "'bonjour'"
      ]
     },
     "execution_count": 44,
     "metadata": {},
     "output_type": "execute_result"
    }
   ],
   "source": [
    "mon_string[:7]"
   ]
  },
  {
   "cell_type": "code",
   "execution_count": 45,
   "metadata": {},
   "outputs": [
    {
     "data": {
      "text/plain": [
       "'bonjour'"
      ]
     },
     "execution_count": 45,
     "metadata": {},
     "output_type": "execute_result"
    }
   ],
   "source": [
    "# On peut utiliser les indices négatifs pour faire des combinaisons équivalentes\n",
    "\n",
    "mon_string[:-45]"
   ]
  },
  {
   "cell_type": "code",
   "execution_count": 46,
   "metadata": {},
   "outputs": [
    {
     "data": {
      "text/plain": [
       "''"
      ]
     },
     "execution_count": 46,
     "metadata": {},
     "output_type": "execute_result"
    }
   ],
   "source": [
    "# Dans les cas impossibles le string retourné est vide\n",
    "\n",
    "mon_string[25:2]"
   ]
  },
  {
   "cell_type": "code",
   "execution_count": 47,
   "metadata": {
    "scrolled": true
   },
   "outputs": [
    {
     "ename": "TypeError",
     "evalue": "'str' object does not support item assignment",
     "output_type": "error",
     "traceback": [
      "\u001b[0;31m---------------------------------------------------------------------------\u001b[0m",
      "\u001b[0;31mTypeError\u001b[0m                                 Traceback (most recent call last)",
      "\u001b[0;32m/tmp/ipykernel_11265/3510940947.py\u001b[0m in \u001b[0;36m<module>\u001b[0;34m\u001b[0m\n\u001b[1;32m      1\u001b[0m \u001b[0;31m# Il n'est pas possible de modifier un élément d'un string, ceux-ci sont immutables\u001b[0m\u001b[0;34m\u001b[0m\u001b[0;34m\u001b[0m\u001b[0;34m\u001b[0m\u001b[0m\n\u001b[1;32m      2\u001b[0m \u001b[0;34m\u001b[0m\u001b[0m\n\u001b[0;32m----> 3\u001b[0;31m \u001b[0mmon_string\u001b[0m\u001b[0;34m[\u001b[0m\u001b[0;36m0\u001b[0m\u001b[0;34m]\u001b[0m \u001b[0;34m=\u001b[0m \u001b[0;34m'B'\u001b[0m\u001b[0;34m\u001b[0m\u001b[0;34m\u001b[0m\u001b[0m\n\u001b[0m",
      "\u001b[0;31mTypeError\u001b[0m: 'str' object does not support item assignment"
     ]
    }
   ],
   "source": [
    "# Il n'est pas possible de modifier un élément d'un string, ceux-ci sont immutables\n",
    "\n",
    "mon_string[0] = 'B'"
   ]
  },
  {
   "cell_type": "code",
   "execution_count": 48,
   "metadata": {},
   "outputs": [
    {
     "data": {
      "text/plain": [
       "\"Bonjour, appuyer sans cesse sur shift+enter m'épuise\""
      ]
     },
     "execution_count": 48,
     "metadata": {},
     "output_type": "execute_result"
    }
   ],
   "source": [
    "# Pour faire un équivalent il faut réassigner mon_string\n",
    "\n",
    "mon_string = 'B' + mon_string[1:]\n",
    "mon_string"
   ]
  },
  {
   "cell_type": "markdown",
   "metadata": {},
   "source": [
    "Exo 2\n",
    "---------\n",
    "Créer un string de votre choix, remplacer les 8ième et 9ième éléments par \"42\" en utilisant le slicing avec l'opérateur ```\":\"``` et la concaténation. Imprimer ce string."
   ]
  },
  {
   "cell_type": "code",
   "execution_count": 51,
   "metadata": {},
   "outputs": [],
   "source": [
    "var_carac = \"Les Hackeuses de Simplon font de l'IA\"\n",
    "\n",
    "var1 = var_carac[:7]\n",
    "var2 = \"42\"\n",
    "var3 = var_carac[9:]\n",
    "\n",
    "var_concatene = var1 + var2+ var3"
   ]
  },
  {
   "cell_type": "code",
   "execution_count": 52,
   "metadata": {},
   "outputs": [
    {
     "name": "stdout",
     "output_type": "stream",
     "text": [
      "Les Hac42uses de Simplon font de l'IA\n"
     ]
    }
   ],
   "source": [
    "print(var_concatene)"
   ]
  },
  {
   "cell_type": "markdown",
   "metadata": {},
   "source": [
    "Bouléens et conditions\n",
    "---------------------"
   ]
  },
  {
   "cell_type": "code",
   "execution_count": 53,
   "metadata": {},
   "outputs": [
    {
     "data": {
      "text/plain": [
       "(bool, bool)"
      ]
     },
     "execution_count": 53,
     "metadata": {},
     "output_type": "execute_result"
    }
   ],
   "source": [
    "# pour finir les booléens\n",
    "par_exemple = True\n",
    "ou_pas = False\n",
    "type(par_exemple), type(ou_pas)"
   ]
  },
  {
   "cell_type": "code",
   "execution_count": 54,
   "metadata": {},
   "outputs": [
    {
     "data": {
      "text/plain": [
       "True"
      ]
     },
     "execution_count": 54,
     "metadata": {},
     "output_type": "execute_result"
    }
   ],
   "source": [
    "# Il y a plusieurs opérateurs pour les conditions\n",
    "a > 0"
   ]
  },
  {
   "cell_type": "code",
   "execution_count": 55,
   "metadata": {},
   "outputs": [
    {
     "data": {
      "text/plain": [
       "22"
      ]
     },
     "execution_count": 55,
     "metadata": {},
     "output_type": "execute_result"
    }
   ],
   "source": [
    "a"
   ]
  },
  {
   "cell_type": "code",
   "execution_count": 57,
   "metadata": {},
   "outputs": [
    {
     "data": {
      "text/plain": [
       "True"
      ]
     },
     "execution_count": 57,
     "metadata": {},
     "output_type": "execute_result"
    }
   ],
   "source": [
    "a >= 22"
   ]
  },
  {
   "cell_type": "code",
   "execution_count": 60,
   "metadata": {},
   "outputs": [
    {
     "data": {
      "text/plain": [
       "False"
      ]
     },
     "execution_count": 60,
     "metadata": {},
     "output_type": "execute_result"
    }
   ],
   "source": [
    "# Egalité\n",
    "a == 15"
   ]
  },
  {
   "cell_type": "code",
   "execution_count": 61,
   "metadata": {},
   "outputs": [
    {
     "name": "stdout",
     "output_type": "stream",
     "text": [
      "True\n",
      "False\n"
     ]
    }
   ],
   "source": [
    "# On peut enchaîner les conditions avec des opérateurs and et or respectivement\n",
    "# print(\"a = \" + str(a)) # pour concaténer un int avec un string il faut le cast en string en utilisant str()\n",
    "print(a == 12 or a >= 0)\n",
    "print(a == 12 and a >= 0)"
   ]
  },
  {
   "cell_type": "code",
   "execution_count": 62,
   "metadata": {},
   "outputs": [
    {
     "name": "stdout",
     "output_type": "stream",
     "text": [
      "True\n",
      "False\n"
     ]
    }
   ],
   "source": [
    "# Les opérateurs & et | nécéssitent des parenthèses pour la séparation des conditions\n",
    "print((a == 12) | (a >= 0))\n",
    "print((a == 12) & (a >= 0))"
   ]
  },
  {
   "cell_type": "code",
   "execution_count": 63,
   "metadata": {},
   "outputs": [
    {
     "name": "stdout",
     "output_type": "stream",
     "text": [
      "True\n",
      "False\n"
     ]
    }
   ],
   "source": [
    "# opérateur \"in\" qui permet de voir si un élément est présent dans une séquence, ici un string\n",
    "print('b' in 'bonjour je suis là')\n",
    "print(3 in [1,4,5])"
   ]
  },
  {
   "cell_type": "markdown",
   "metadata": {},
   "source": [
    "Les conditions\n",
    "--------\n",
    "\n",
    "Synthaxe:\n",
    "\n",
    "```python\n",
    "if condition:\n",
    "    code_a_executer()\n",
    "elif autre_condition:\n",
    "    un_autre_code_a_executer()\n",
    "else:\n",
    "    pour_le_reste()\n",
    "```\n",
    "\n",
    "Attention à l'indentation!"
   ]
  },
  {
   "cell_type": "code",
   "execution_count": 72,
   "metadata": {},
   "outputs": [
    {
     "name": "stdout",
     "output_type": "stream",
     "text": [
      "a qui vaut 224 est bien supérieur à b qui vaut 210\n"
     ]
    }
   ],
   "source": [
    "a = 14 * 16\n",
    "b = 15 * 14\n",
    "\n",
    "if a > b:\n",
    "    print(f\"a qui vaut {a} est bien supérieur à b qui vaut {b}\")\n",
    "else:\n",
    "    print(\"ou pas\")"
   ]
  },
  {
   "cell_type": "code",
   "execution_count": 80,
   "metadata": {},
   "outputs": [
    {
     "name": "stdout",
     "output_type": "stream",
     "text": [
      "a qui vaut 224 est bien supérieur à b qui vaut 210\n",
      "ou pas\n"
     ]
    }
   ],
   "source": [
    "# Une mauvaise indentation ne donnera pas le résultat attendu voire des erreurs\n",
    "if a > b:\n",
    "    print(f\"a qui vaut {a} est bien supérieur à b qui vaut {b}\")\n",
    "else:\n",
    "    pass\n",
    "print(\"ou pas\")"
   ]
  },
  {
   "cell_type": "code",
   "execution_count": 76,
   "metadata": {},
   "outputs": [
    {
     "name": "stdout",
     "output_type": "stream",
     "text": [
      "42000\n"
     ]
    }
   ],
   "source": [
    "# Il est possible de mettre une opération if en une seule ligne mais pour plus de lisibilité on préférera utiliser l'indentation\n",
    "ce_nest_pas_super_lisible = 42\n",
    "if ce_nest_pas_super_lisible<50: \n",
    "    ce_nest_pas_super_lisible = ce_nest_pas_super_lisible * 1000 \n",
    "    print(ce_nest_pas_super_lisible)"
   ]
  },
  {
   "cell_type": "code",
   "execution_count": 84,
   "metadata": {},
   "outputs": [
    {
     "name": "stdout",
     "output_type": "stream",
     "text": [
      "La promo IA c'est cool\n"
     ]
    }
   ],
   "source": [
    "# les elif permettent d'avoir plusieurs conditions qui se suivent\n",
    "variable = 110\n",
    "phrase = \"La promo IA c'est cool\"\n",
    "\n",
    "if variable > 100:\n",
    "    variable -= 50\n",
    "    print(f\"Voici ma variable -50: {variable}\")\n",
    "elif variable == 50:\n",
    "    variable = 42\n",
    "    print(f\"Je préfère le nombre {variable}\")\n",
    "else:\n",
    "    print(phrase)"
   ]
  },
  {
   "cell_type": "markdown",
   "metadata": {},
   "source": [
    "Exo 3\n",
    "----------\n",
    "\n",
    "Vérifier que la longueur de ```mon_string``` est bien supérieure à 42, sinon réassigner la variable ```mon_string``` à \"Tant pis\" et imprimer ```mon_string```. Tester avec plusieurs valeurs pour ```mon_string```"
   ]
  },
  {
   "cell_type": "code",
   "execution_count": 85,
   "metadata": {},
   "outputs": [
    {
     "name": "stdout",
     "output_type": "stream",
     "text": [
      "Bonjour, appuyer sans cesse sur shift+enter m'épuise\n"
     ]
    }
   ],
   "source": [
    "print(mon_string)"
   ]
  },
  {
   "cell_type": "code",
   "execution_count": 87,
   "metadata": {},
   "outputs": [],
   "source": [
    "mon_string = \"Les hackeuses\""
   ]
  },
  {
   "cell_type": "code",
   "execution_count": 88,
   "metadata": {},
   "outputs": [
    {
     "name": "stdout",
     "output_type": "stream",
     "text": [
      "Tant pis\n"
     ]
    }
   ],
   "source": [
    "if len(mon_string) <= 42:\n",
    "    mon_string = \"Tant pis\"\n",
    "print(mon_string)"
   ]
  },
  {
   "cell_type": "markdown",
   "metadata": {},
   "source": [
    "Les boucles\n",
    "----------\n",
    "Il existe deux types de boucle sous python.\n",
    "\n",
    "Boucle ```while```:\n",
    "\n",
    "```python\n",
    "while condition:\n",
    "    ici_le_code_a_executer()\n",
    "```\n",
    "Les boucles ```while``` vont exécuter le code indenté tant que la condition reste vraie. Attention: les boucles infinies sont courantes avec ces boucles\n",
    "\n",
    "Boucle ```for```:\n",
    "\n",
    "```python\n",
    "for mon_element in une_sequence:\n",
    "    ici_mon_code(mon_element)\n",
    "```\n",
    "\n",
    "Les boucles ```for``` itèrent sur chaque élément d'une séquence. Cet élément est ensuite à disposition dans le code indenté.\n",
    "\n",
    "Il est possible d'interrompre l'exécution d'une cellule en utilisant le bouton avec l'icône stop dans la barre en haut de l'écran"
   ]
  },
  {
   "cell_type": "code",
   "execution_count": 89,
   "metadata": {},
   "outputs": [],
   "source": [
    "import time"
   ]
  },
  {
   "cell_type": "code",
   "execution_count": 94,
   "metadata": {
    "scrolled": true
   },
   "outputs": [
    {
     "name": "stdout",
     "output_type": "stream",
     "text": [
      "Hackeuses24\n",
      "Hackeuses24Hackeuses24\n",
      "Hackeuses24Hackeuses24Hackeuses24\n",
      "Hackeuses24Hackeuses24Hackeuses24Hackeuses24\n"
     ]
    }
   ],
   "source": [
    "# Il va falloir interompre cette boucle au plus vite. Il faut cliquer sur le carré stop/\"interrupt kernel\" dans la barre \"outils\"\n",
    "subliminal = \"\"\n",
    "while len(subliminal) < 42:\n",
    "    time.sleep(0.5)\n",
    "    subliminal += \"Hackeuses24\"\n",
    "    print(subliminal)"
   ]
  },
  {
   "cell_type": "code",
   "execution_count": 97,
   "metadata": {},
   "outputs": [],
   "source": [
    "mon_string = \"ah làlà ces chaîne sde caractère trop courtes\""
   ]
  },
  {
   "cell_type": "code",
   "execution_count": 98,
   "metadata": {},
   "outputs": [
    {
     "name": "stdout",
     "output_type": "stream",
     "text": [
      "a\n",
      "h\n",
      " \n",
      "l\n",
      "à\n",
      "l\n",
      "à\n",
      " \n",
      "c\n",
      "e\n",
      "s\n",
      " \n"
     ]
    }
   ],
   "source": [
    "# Voici un exemple de boucle while.\n",
    "indice = 0\n",
    "while indice < 12:\n",
    "    time.sleep(0.5)\n",
    "    print(mon_string[indice])\n",
    "    indice += 1"
   ]
  },
  {
   "cell_type": "code",
   "execution_count": 100,
   "metadata": {
    "scrolled": true
   },
   "outputs": [
    {
     "name": "stdout",
     "output_type": "stream",
     "text": [
      "a\n",
      "h\n",
      " \n",
      "l\n",
      "à\n",
      "l\n",
      "à\n",
      " \n",
      "c\n",
      "e\n",
      "s\n",
      " \n"
     ]
    }
   ],
   "source": [
    "# Voici l'équivalent en boucle for\n",
    "# Pour rappel les strings se comportent comme des séquences de caractères\n",
    "for i in mon_string[:12]: \n",
    "    time.sleep(0.5)\n",
    "    print(i)\n",
    "    \n",
    "# Pour mieux comprendre ce qu'il se passe vous pouvez imprimer mon_string[:12]"
   ]
  },
  {
   "cell_type": "code",
   "execution_count": 102,
   "metadata": {},
   "outputs": [
    {
     "name": "stdout",
     "output_type": "stream",
     "text": [
      "0\n",
      "1\n",
      "2\n",
      "3\n",
      "4\n",
      "5\n",
      "6\n",
      "7\n",
      "8\n",
      "9\n",
      "10\n",
      "11\n"
     ]
    }
   ],
   "source": [
    "for i in range(12):\n",
    "    print(i)"
   ]
  },
  {
   "cell_type": "code",
   "execution_count": 103,
   "metadata": {},
   "outputs": [
    {
     "name": "stdout",
     "output_type": "stream",
     "text": [
      "a\n",
      "h\n",
      " \n",
      "l\n",
      "à\n",
      "l\n",
      "à\n",
      " \n",
      "c\n",
      "e\n",
      "s\n",
      " \n"
     ]
    }
   ],
   "source": [
    "for i in range(12):\n",
    "    time.sleep(0.5)\n",
    "    print(mon_string[i])"
   ]
  },
  {
   "cell_type": "code",
   "execution_count": 104,
   "metadata": {},
   "outputs": [
    {
     "name": "stdout",
     "output_type": "stream",
     "text": [
      "16\n",
      "16\n"
     ]
    }
   ],
   "source": [
    "# exemple de comptage d'élement dans un string\n",
    "ceci_est_un_test = \"Ceci est un test\"\n",
    "resultat = 0\n",
    "for el in ceci_est_un_test:\n",
    "    resultat += 1\n",
    "    \n",
    "print(resultat)\n",
    "print(len(ceci_est_un_test))"
   ]
  },
  {
   "cell_type": "code",
   "execution_count": 106,
   "metadata": {},
   "outputs": [
    {
     "name": "stdout",
     "output_type": "stream",
     "text": [
      "dans mon_string il y a 5 e\n",
      "ah làlà ces chaîne sde caractère trop courtes\n"
     ]
    }
   ],
   "source": [
    "# il est possible de combiner les boucles et conditions\n",
    "nombre_do = 0\n",
    "for element in mon_string:\n",
    "    if element == 'e':\n",
    "        nombre_do += 1\n",
    "\n",
    "print(f\"dans mon_string il y a {nombre_do} e\")\n",
    "print(mon_string)"
   ]
  },
  {
   "cell_type": "code",
   "execution_count": 107,
   "metadata": {},
   "outputs": [],
   "source": [
    "mon_string = \"Une chaîne de caractères, avec une virgule\""
   ]
  },
  {
   "cell_type": "code",
   "execution_count": 108,
   "metadata": {
    "scrolled": true
   },
   "outputs": [
    {
     "name": "stdout",
     "output_type": "stream",
     "text": [
      "U\n",
      "n\n",
      "e\n",
      " \n",
      "c\n",
      "h\n",
      "a\n",
      "î\n",
      "n\n",
      "e\n",
      " \n",
      "d\n",
      "e\n",
      " \n",
      "c\n",
      "a\n",
      "r\n",
      "a\n",
      "c\n",
      "t\n",
      "è\n",
      "r\n",
      "e\n",
      "s\n",
      ",\n"
     ]
    }
   ],
   "source": [
    "# il est possible d'utiliser les mots clés break et continue pour interrompre des boucles. \n",
    "# Leur utilisation porte à confusion et peut compliquer le code inutilement dans un premier temps\n",
    "# évitez de les utiliser.\n",
    "\n",
    "for element in mon_string:\n",
    "    print(element)\n",
    "    if element == ',':\n",
    "        break"
   ]
  },
  {
   "cell_type": "markdown",
   "metadata": {},
   "source": [
    "Exo 4\n",
    "-------\n",
    "Compter le nombre de voyelles dans ```mon_string```. \n",
    "\n",
    "Indice: Plus haut on avait vu une condition qui permettait de voir si une lettre était présente dans un string."
   ]
  },
  {
   "cell_type": "code",
   "execution_count": 109,
   "metadata": {},
   "outputs": [
    {
     "data": {
      "text/plain": [
       "'Une chaîne de caractères, avec une virgule'"
      ]
     },
     "execution_count": 109,
     "metadata": {},
     "output_type": "execute_result"
    }
   ],
   "source": [
    "mon_string"
   ]
  },
  {
   "cell_type": "code",
   "execution_count": 114,
   "metadata": {},
   "outputs": [
    {
     "data": {
      "text/plain": [
       "'une chaîne de caractères, avec une virgule'"
      ]
     },
     "execution_count": 114,
     "metadata": {},
     "output_type": "execute_result"
    }
   ],
   "source": [
    "mon_string.lower()"
   ]
  },
  {
   "cell_type": "code",
   "execution_count": 115,
   "metadata": {},
   "outputs": [
    {
     "name": "stdout",
     "output_type": "stream",
     "text": [
      "1\n",
      "1\n",
      "2\n",
      "2\n",
      "2\n",
      "2\n",
      "3\n",
      "3\n",
      "3\n",
      "4\n",
      "4\n",
      "4\n",
      "5\n",
      "5\n",
      "5\n",
      "6\n",
      "6\n",
      "7\n",
      "7\n",
      "7\n",
      "7\n",
      "7\n",
      "8\n",
      "8\n",
      "8\n",
      "8\n",
      "9\n",
      "9\n",
      "10\n",
      "10\n",
      "10\n",
      "11\n",
      "11\n",
      "12\n",
      "12\n",
      "12\n",
      "13\n",
      "13\n",
      "13\n",
      "14\n",
      "14\n",
      "15\n"
     ]
    }
   ],
   "source": [
    "result = 0\n",
    "for i in mon_string:\n",
    "    if i.lower() in \"aeiouy\":\n",
    "        result += 1\n",
    "    print(result)"
   ]
  },
  {
   "cell_type": "code",
   "execution_count": 116,
   "metadata": {},
   "outputs": [
    {
     "name": "stdout",
     "output_type": "stream",
     "text": [
      "15\n"
     ]
    }
   ],
   "source": [
    "print(result)"
   ]
  },
  {
   "cell_type": "markdown",
   "metadata": {},
   "source": [
    "Les fonctions\n",
    "----------------"
   ]
  },
  {
   "cell_type": "markdown",
   "metadata": {},
   "source": [
    "Dans ```python``` il est possible de mettre en place des fonctions pour automatiser certaines tâches par exemple. on utilise pour cela le mot clef ```def```\n",
    "\n",
    "```python\n",
    "def ma_fonction(parametre_1, parametre_2):\n",
    "    je_fais_ce_que_je_veux(en utilisant parametre_1 et parametre_2)\n",
    "    return ici_ce_que_je_veux_retourner\n",
    "```\n",
    "\n",
    "Les fonctions peuvent prendre des paramètres. Ceux-ci peuvent avoir des valeurs par défaut. Elles peuvent aussi renvoyer des résultats via ```return```.\n"
   ]
  },
  {
   "cell_type": "code",
   "execution_count": null,
   "metadata": {},
   "outputs": [],
   "source": [
    "# un cas simple\n",
    "def imprimer_42():\n",
    "    print(42)\n",
    "    \n",
    "def imprimer_42_bis():\n",
    "    return 42"
   ]
  },
  {
   "cell_type": "code",
   "execution_count": null,
   "metadata": {},
   "outputs": [],
   "source": [
    "# On peut appeler ensuite notre nouvelle méthode comme ci-suit\n",
    "a = imprimer_42() #print(42)\n",
    "print(type(a))\n",
    "\n",
    "b = imprimer_42_bis()\n",
    "print(type(b))"
   ]
  },
  {
   "cell_type": "code",
   "execution_count": null,
   "metadata": {},
   "outputs": [],
   "source": [
    "# Il est possible d'avoir des paramètres dans une fonction\n",
    "def imprimer_42_avec_parametre(param):\n",
    "    print(f\"Je n'aime pas trop {param}, je préfère 42\")"
   ]
  },
  {
   "cell_type": "code",
   "execution_count": null,
   "metadata": {},
   "outputs": [],
   "source": [
    "imprimer_42_avec_parametre(14)"
   ]
  },
  {
   "cell_type": "code",
   "execution_count": null,
   "metadata": {},
   "outputs": [],
   "source": [
    "# Une fonction peut retourner une variable\n",
    "def compter_les_voyelles(un_string):\n",
    "    nombre_voyelles = 0\n",
    "    for lettre in un_string:\n",
    "        if lettre in 'aeiouy':\n",
    "            nombre_voyelles += 1\n",
    "    return nombre_voyelles"
   ]
  },
  {
   "cell_type": "code",
   "execution_count": null,
   "metadata": {},
   "outputs": [],
   "source": [
    "a=compter_les_voyelles(\"Bonjour\")\n",
    "a, type(a)"
   ]
  },
  {
   "cell_type": "code",
   "execution_count": null,
   "metadata": {},
   "outputs": [],
   "source": [
    "# Le résultat de tout à l'heure\n",
    "mon_string = \"bonjour, appuyer sans cesse sur shift+enter m'épuise\"\n",
    "compter_les_voyelles(mon_string)"
   ]
  },
  {
   "cell_type": "code",
   "execution_count": null,
   "metadata": {},
   "outputs": [],
   "source": [
    "# Il est possible de donner des valeurs par défaut à certains paramètres\n",
    "def multiplier_par_42_ou_pas(premier_int, deuxieme_int=42):\n",
    "    return premier_int*deuxieme_int"
   ]
  },
  {
   "cell_type": "code",
   "execution_count": null,
   "metadata": {},
   "outputs": [],
   "source": [
    "multiplier_par_42_ou_pas(42)"
   ]
  },
  {
   "cell_type": "code",
   "execution_count": null,
   "metadata": {},
   "outputs": [],
   "source": [
    "# Il est possible de modifier les deux paramètres en indiquant le bon nombre de paramètres\n",
    "\n",
    "print(multiplier_par_42_ou_pas(3,\"test\"))\n",
    "print(multiplier_par_42_ou_pas(3,4))"
   ]
  },
  {
   "cell_type": "code",
   "execution_count": null,
   "metadata": {},
   "outputs": [],
   "source": [
    "# Il est possible d'expliciter les paramètres avec un =\n",
    "\n",
    "multiplier_par_42_ou_pas(deuxieme_int=3, premier_int=4)\n",
    "multiplier_par_42_ou_pas(3, 4)\n",
    "multiplier_par_42_ou_pas(3, deuxieme_int=4)\n",
    "multiplier_par_42_ou_pas(3, premier_int=4)\n",
    "#multiplier_par_42_ou_pas(deuxieme_int=3, 4)"
   ]
  },
  {
   "cell_type": "markdown",
   "metadata": {},
   "source": [
    "Les imports\n",
    "-----------"
   ]
  },
  {
   "cell_type": "markdown",
   "metadata": {},
   "source": [
    "Un package que l'on peut traduire par module est une bibliothèque de méthodes ou de classes que l'on peut récupérer dans son code pour l'utiliser. Il existe énormément de packages en python permettant de faire du scraping ou de l'interrogation de base de données voire de la construction de site web. Plus tard dans le notebook, certains packages vont être présentés.\n",
    "\n",
    "Il est possible d'importer un package comme ceci:\n",
    "```python\n",
    "import mon_package\n",
    "```\n",
    "\n",
    "Plusieurs façons d'importer des packages sont possibles."
   ]
  },
  {
   "cell_type": "code",
   "execution_count": 117,
   "metadata": {},
   "outputs": [],
   "source": [
    "# on va commencer par importer le package \"math\" qui a un ensemble de fonctions comme par exemple sqrt\n",
    "import math"
   ]
  },
  {
   "cell_type": "code",
   "execution_count": 118,
   "metadata": {},
   "outputs": [
    {
     "data": {
      "text/plain": [
       "7.0"
      ]
     },
     "execution_count": 118,
     "metadata": {},
     "output_type": "execute_result"
    }
   ],
   "source": [
    "# On doit indiquer le module avant la fonction\n",
    "math.sqrt(49)"
   ]
  },
  {
   "cell_type": "code",
   "execution_count": 119,
   "metadata": {},
   "outputs": [],
   "source": [
    "# Il est possible de renommer un package pour en faciliter l'utilisation\n",
    "import math as mt"
   ]
  },
  {
   "cell_type": "code",
   "execution_count": 121,
   "metadata": {},
   "outputs": [
    {
     "data": {
      "text/plain": [
       "7.0"
      ]
     },
     "execution_count": 121,
     "metadata": {},
     "output_type": "execute_result"
    }
   ],
   "source": [
    "mt.sqrt(49)"
   ]
  },
  {
   "cell_type": "code",
   "execution_count": 122,
   "metadata": {},
   "outputs": [
    {
     "data": {
      "text/plain": [
       "7.0"
      ]
     },
     "execution_count": 122,
     "metadata": {},
     "output_type": "execute_result"
    }
   ],
   "source": [
    "# On peut aussi importer uniquemet certaines fonctions ou ensemble de fonctions qui nous intéressent\n",
    "# et les utiliser directement ensuite\n",
    "from math import sqrt\n",
    "sqrt(49)"
   ]
  },
  {
   "cell_type": "code",
   "execution_count": 123,
   "metadata": {},
   "outputs": [
    {
     "data": {
      "text/plain": [
       "7.0"
      ]
     },
     "execution_count": 123,
     "metadata": {},
     "output_type": "execute_result"
    }
   ],
   "source": [
    "from math import *\n",
    "sqrt(49)"
   ]
  },
  {
   "cell_type": "code",
   "execution_count": 124,
   "metadata": {},
   "outputs": [
    {
     "name": "stdout",
     "output_type": "stream",
     "text": [
      "Help on built-in function sqrt in module math:\n",
      "\n",
      "sqrt(x, /)\n",
      "    Return the square root of x.\n",
      "\n"
     ]
    }
   ],
   "source": [
    "# Il est possible de récupérer une aide sur une méthode via help(...) ou ... ?\n",
    "help(math.sqrt)"
   ]
  },
  {
   "cell_type": "markdown",
   "metadata": {},
   "source": [
    "En usage avancé de python il est possible de construire ses propres modules."
   ]
  },
  {
   "cell_type": "markdown",
   "metadata": {},
   "source": [
    "Les listes\n",
    "--------------"
   ]
  },
  {
   "cell_type": "markdown",
   "metadata": {},
   "source": [
    "Les listes sont des objets qui peuvent contenir d'autres objets dans un ordre précis. Comme les string ce sont des séquences mais au lieu de caractères ce sont des objets. On peut ainsi y mettre une succession de chiffres, des strings, d'autres listes, ou tout à la fois. Les listes sont définies par des crochets ```[]``` dans python. Comme les string on peut récupérer leurs éléments par indice voire par \"slicing\"."
   ]
  },
  {
   "cell_type": "code",
   "execution_count": 125,
   "metadata": {},
   "outputs": [
    {
     "data": {
      "text/plain": [
       "[]"
      ]
     },
     "execution_count": 125,
     "metadata": {},
     "output_type": "execute_result"
    }
   ],
   "source": [
    "# On peut initier une liste vide comme ceci\n",
    "ma_premiere_liste = [] #ou list()\n",
    "ma_premiere_liste"
   ]
  },
  {
   "cell_type": "code",
   "execution_count": 126,
   "metadata": {},
   "outputs": [
    {
     "data": {
      "text/plain": [
       "(['abcdefghi'], ['a', 'b', 'c', 'd', 'e', 'f', 'g', 'h', 'i'])"
      ]
     },
     "execution_count": 126,
     "metadata": {},
     "output_type": "execute_result"
    }
   ],
   "source": [
    "l1 = ['abcdefghi']\n",
    "l2 = list('abcdefghi')\n",
    "l1, l2"
   ]
  },
  {
   "cell_type": "code",
   "execution_count": 127,
   "metadata": {},
   "outputs": [
    {
     "data": {
      "text/plain": [
       "list"
      ]
     },
     "execution_count": 127,
     "metadata": {},
     "output_type": "execute_result"
    }
   ],
   "source": [
    "# les listes sont du type list\n",
    "type(ma_premiere_liste)"
   ]
  },
  {
   "cell_type": "code",
   "execution_count": 128,
   "metadata": {},
   "outputs": [
    {
     "data": {
      "text/plain": [
       "[0, 1, 2, 3, 4, 5, 6, 7]"
      ]
     },
     "execution_count": 128,
     "metadata": {},
     "output_type": "execute_result"
    }
   ],
   "source": [
    "# On peut définir directement une liste avec l'ensemble de ses éléments\n",
    "ma_deuxieme_liste = [0,1,2,3,4,5,6,7]\n",
    "ma_deuxieme_liste"
   ]
  },
  {
   "cell_type": "code",
   "execution_count": 129,
   "metadata": {},
   "outputs": [
    {
     "data": {
      "text/plain": [
       "['DREES', 178, '10-18 place des 5 martyrs du lycée buffon', 4.7]"
      ]
     },
     "execution_count": 129,
     "metadata": {},
     "output_type": "execute_result"
    }
   ],
   "source": [
    "# les objets à l'intérieur d'une liste n'ont pas besoin d'être du même type\n",
    "ma_troisieme_liste = [\"DREES\", 178, \"10-18 place des 5 martyrs du lycée buffon\", 4.7]\n",
    "ma_troisieme_liste"
   ]
  },
  {
   "cell_type": "code",
   "execution_count": 130,
   "metadata": {},
   "outputs": [
    {
     "data": {
      "text/plain": [
       "2"
      ]
     },
     "execution_count": 130,
     "metadata": {},
     "output_type": "execute_result"
    }
   ],
   "source": [
    "# Comme dans les string ont peut récupérer les éléments de la liste via leur indice ou par slicing\n",
    "ma_deuxieme_liste[2]"
   ]
  },
  {
   "cell_type": "code",
   "execution_count": 131,
   "metadata": {},
   "outputs": [
    {
     "data": {
      "text/plain": [
       "[2, 3, 4, 5]"
      ]
     },
     "execution_count": 131,
     "metadata": {},
     "output_type": "execute_result"
    }
   ],
   "source": [
    "ma_deuxieme_liste[2:-2]"
   ]
  },
  {
   "cell_type": "code",
   "execution_count": 132,
   "metadata": {},
   "outputs": [
    {
     "data": {
      "text/plain": [
       "0"
      ]
     },
     "execution_count": 132,
     "metadata": {},
     "output_type": "execute_result"
    }
   ],
   "source": [
    "ma_deuxieme_liste[0]"
   ]
  },
  {
   "cell_type": "code",
   "execution_count": 133,
   "metadata": {},
   "outputs": [
    {
     "data": {
      "text/plain": [
       "[42, 1, 2, 3, 4, 5, 6, 7]"
      ]
     },
     "execution_count": 133,
     "metadata": {},
     "output_type": "execute_result"
    }
   ],
   "source": [
    "# Contrairement aux strings les listes sont mutables, on peut modifier les éléments de la liste, en ajouter, en supprimer\n",
    "ma_deuxieme_liste[0] = 42\n",
    "ma_deuxieme_liste"
   ]
  },
  {
   "cell_type": "code",
   "execution_count": 134,
   "metadata": {},
   "outputs": [],
   "source": [
    "# la méthode .append(élément) permet d'ajouter des élements en fin de liste\n",
    "ma_deuxieme_liste.append(42)\n",
    "# A noter que contrairement au string on a pas besoin de réassigner la variable ma_deuxieme_liste à ma_deuxieme_liste.append(42)\n",
    "# ma_deuxieme_liste est modifiée directement"
   ]
  },
  {
   "cell_type": "code",
   "execution_count": 135,
   "metadata": {},
   "outputs": [
    {
     "data": {
      "text/plain": [
       "[42, 1, 2, 3, 4, 5, 6, 7, 42]"
      ]
     },
     "execution_count": 135,
     "metadata": {},
     "output_type": "execute_result"
    }
   ],
   "source": [
    "ma_deuxieme_liste"
   ]
  },
  {
   "cell_type": "code",
   "execution_count": 136,
   "metadata": {},
   "outputs": [
    {
     "data": {
      "text/plain": [
       "[42, 1, 2, 3, 4, 'jpp', 5, 6, 7, 42]"
      ]
     },
     "execution_count": 136,
     "metadata": {},
     "output_type": "execute_result"
    }
   ],
   "source": [
    "# .insert(indice, élément) permet d'ajouter un élément à l'indice désiré\n",
    "ma_deuxieme_liste.insert(5, 'jpp')\n",
    "ma_deuxieme_liste"
   ]
  },
  {
   "cell_type": "code",
   "execution_count": 137,
   "metadata": {},
   "outputs": [
    {
     "data": {
      "text/plain": [
       "[1, 2, 3, 4, 'jpp', 5, 6, 7, 42]"
      ]
     },
     "execution_count": 137,
     "metadata": {},
     "output_type": "execute_result"
    }
   ],
   "source": [
    "# on peut supprimer des éléments soit par indice avec del\n",
    "del ma_deuxieme_liste[0] # suppresion du premier élément\n",
    "ma_deuxieme_liste"
   ]
  },
  {
   "cell_type": "code",
   "execution_count": 138,
   "metadata": {},
   "outputs": [
    {
     "data": {
      "text/plain": [
       "[2, 3, 4, 'jpp', 5, 6, 7, 42]"
      ]
     },
     "execution_count": 138,
     "metadata": {},
     "output_type": "execute_result"
    }
   ],
   "source": [
    "# ou la méthode .pop(indice)\n",
    "ma_deuxieme_liste.pop(0)\n",
    "ma_deuxieme_liste"
   ]
  },
  {
   "cell_type": "code",
   "execution_count": 139,
   "metadata": {},
   "outputs": [
    {
     "data": {
      "text/plain": [
       "[2, 3, 4, 'jpp', 5, 6, 7]"
      ]
     },
     "execution_count": 139,
     "metadata": {},
     "output_type": "execute_result"
    }
   ],
   "source": [
    "ma_deuxieme_liste.pop()\n",
    "ma_deuxieme_liste"
   ]
  },
  {
   "cell_type": "code",
   "execution_count": 140,
   "metadata": {},
   "outputs": [
    {
     "data": {
      "text/plain": [
       "([2, 3, 4, 'jpp', 5, 6], 7)"
      ]
     },
     "execution_count": 140,
     "metadata": {},
     "output_type": "execute_result"
    }
   ],
   "source": [
    "a = ma_deuxieme_liste.pop()\n",
    "ma_deuxieme_liste, a"
   ]
  },
  {
   "cell_type": "code",
   "execution_count": 141,
   "metadata": {},
   "outputs": [
    {
     "data": {
      "text/plain": [
       "[2, 3, 4, 5, 6]"
      ]
     },
     "execution_count": 141,
     "metadata": {},
     "output_type": "execute_result"
    }
   ],
   "source": [
    "# soit par valeur avec .remove(élément)\n",
    "ma_deuxieme_liste.remove('jpp')\n",
    "ma_deuxieme_liste"
   ]
  },
  {
   "cell_type": "code",
   "execution_count": 152,
   "metadata": {},
   "outputs": [
    {
     "data": {
      "text/plain": [
       "1"
      ]
     },
     "execution_count": 152,
     "metadata": {},
     "output_type": "execute_result"
    }
   ],
   "source": [
    "test_list = [1, 4, 1, 1]\n",
    "test_list.pop()"
   ]
  },
  {
   "cell_type": "code",
   "execution_count": 153,
   "metadata": {},
   "outputs": [
    {
     "data": {
      "text/plain": [
       "[1, 4, 1]"
      ]
     },
     "execution_count": 153,
     "metadata": {},
     "output_type": "execute_result"
    }
   ],
   "source": [
    "test_list"
   ]
  },
  {
   "cell_type": "code",
   "execution_count": 151,
   "metadata": {},
   "outputs": [
    {
     "name": "stdout",
     "output_type": "stream",
     "text": [
      "1\n"
     ]
    }
   ],
   "source": [
    "print(element_removed)"
   ]
  },
  {
   "cell_type": "code",
   "execution_count": 154,
   "metadata": {},
   "outputs": [
    {
     "data": {
      "text/plain": [
       "[2, 1, 1, 1]"
      ]
     },
     "execution_count": 154,
     "metadata": {},
     "output_type": "execute_result"
    }
   ],
   "source": [
    "# Attention .remove ne supprime que le premier élément de la liste avec la valeur que l'on veut remove\n",
    "des_uns = [1,2,1,1,1]\n",
    "des_uns.remove(1)\n",
    "des_uns"
   ]
  },
  {
   "cell_type": "code",
   "execution_count": 155,
   "metadata": {},
   "outputs": [
    {
     "data": {
      "text/plain": [
       "[2, 3, 4, 5, 6, 'DREES', 178, '10-18 place des 5 martyrs du lycée buffon', 4.7]"
      ]
     },
     "execution_count": 155,
     "metadata": {},
     "output_type": "execute_result"
    }
   ],
   "source": [
    "# Comme les string on peut concaténer ou multiplier des listes\n",
    "ma_deuxieme_liste + ma_troisieme_liste"
   ]
  },
  {
   "cell_type": "code",
   "execution_count": 156,
   "metadata": {},
   "outputs": [
    {
     "data": {
      "text/plain": [
       "[2, 3, 4, 5, 6, 2, 3, 4, 5, 6]"
      ]
     },
     "execution_count": 156,
     "metadata": {},
     "output_type": "execute_result"
    }
   ],
   "source": [
    "ma_deuxieme_liste * 2"
   ]
  },
  {
   "cell_type": "code",
   "execution_count": 157,
   "metadata": {},
   "outputs": [
    {
     "data": {
      "text/plain": [
       "[2, 3, 4, 5, 6, 12, 14, 20]"
      ]
     },
     "execution_count": 157,
     "metadata": {},
     "output_type": "execute_result"
    }
   ],
   "source": [
    "# .extend(list) permet d'ajouter plusieurs éléments d'un coup\n",
    "ma_deuxieme_liste.extend([12,14,20])\n",
    "ma_deuxieme_liste"
   ]
  },
  {
   "cell_type": "code",
   "execution_count": 158,
   "metadata": {},
   "outputs": [
    {
     "data": {
      "text/plain": [
       "[2, 3, 4, 5, 6, 12, 14, 20, 'a', 'z', 'e', 'r', 't', 'y']"
      ]
     },
     "execution_count": 158,
     "metadata": {},
     "output_type": "execute_result"
    }
   ],
   "source": [
    "ma_deuxieme_liste.extend('azerty')\n",
    "ma_deuxieme_liste"
   ]
  },
  {
   "cell_type": "code",
   "execution_count": 160,
   "metadata": {},
   "outputs": [
    {
     "data": {
      "text/plain": [
       "[2, 3, 4, 5, 6, 12, 14, 20, 'a', 'z', 'e', 'r', 't', 'y', 'azerty', 'azerty']"
      ]
     },
     "execution_count": 160,
     "metadata": {},
     "output_type": "execute_result"
    }
   ],
   "source": [
    "ma_deuxieme_liste.extend(['azerty'])\n",
    "ma_deuxieme_liste"
   ]
  },
  {
   "cell_type": "code",
   "execution_count": 161,
   "metadata": {},
   "outputs": [
    {
     "name": "stdout",
     "output_type": "stream",
     "text": [
      "2\n",
      "3\n",
      "4\n",
      "5\n",
      "6\n",
      "12\n",
      "14\n",
      "20\n",
      "a\n",
      "z\n",
      "e\n",
      "r\n",
      "t\n",
      "y\n",
      "azerty\n",
      "azerty\n"
     ]
    }
   ],
   "source": [
    "# On peut parcourir les éléments d'une liste par une boucle for comme on l'a vu dans le cas des strings\n",
    "for element in ma_deuxieme_liste:\n",
    "    print(element)"
   ]
  },
  {
   "cell_type": "code",
   "execution_count": 162,
   "metadata": {},
   "outputs": [
    {
     "name": "stdout",
     "output_type": "stream",
     "text": [
      "[2, 3, 4, 5, 6, 12, 14, 20, 'a', 'z', 'e', 'r', 't', 'y', 'azerty'] azerty\n",
      "[2, 3, 4, 5, 6, 12, 14, 20, 'a', 'z', 'e', 'r', 't', 'y'] azerty\n",
      "[2, 3, 4, 5, 6, 12, 14, 20, 'a', 'z', 'e', 'r', 't'] y\n",
      "[2, 3, 4, 5, 6, 12, 14, 20, 'a', 'z', 'e', 'r'] t\n",
      "[2, 3, 4, 5, 6, 12, 14, 20, 'a', 'z', 'e'] r\n",
      "[2, 3, 4, 5, 6, 12, 14, 20, 'a', 'z'] e\n",
      "[2, 3, 4, 5, 6, 12, 14, 20, 'a'] z\n",
      "[2, 3, 4, 5, 6, 12, 14, 20] a\n",
      "[2, 3, 4, 5, 6, 12, 14] 20\n",
      "[2, 3, 4, 5, 6, 12] 14\n",
      "[2, 3, 4, 5, 6] 12\n",
      "[2, 3, 4, 5] 6\n",
      "[2, 3, 4] 5\n",
      "[2, 3] 4\n",
      "[2] 3\n"
     ]
    }
   ],
   "source": [
    "while len(ma_deuxieme_liste)>1:\n",
    "    a = ma_deuxieme_liste.pop() # par défaut pop supprime le dernier élément\n",
    "    print(ma_deuxieme_liste, a)"
   ]
  },
  {
   "cell_type": "code",
   "execution_count": 164,
   "metadata": {},
   "outputs": [
    {
     "name": "stdout",
     "output_type": "stream",
     "text": [
      "(0, 'DREES')\n",
      "(1, 178)\n",
      "(2, '10-18 place des 5 martyrs du lycée buffon')\n",
      "(3, 4.7)\n"
     ]
    }
   ],
   "source": [
    "# la méthode enumerate peut être utile pour récupérer à la fois un élément d'une liste mais aussi son indice\n",
    "for double in enumerate(ma_troisieme_liste):\n",
    "    print(double)"
   ]
  },
  {
   "cell_type": "code",
   "execution_count": 165,
   "metadata": {},
   "outputs": [
    {
     "name": "stdout",
     "output_type": "stream",
     "text": [
      "Indice: 0, élément: DREES\n",
      "Indice: 1, élément: 178\n",
      "Indice: 2, élément: 10-18 place des 5 martyrs du lycée buffon\n",
      "Indice: 3, élément: 4.7\n"
     ]
    }
   ],
   "source": [
    "# on peut récupérer ces deux variables proprement comme ceci :\n",
    "for i, j in enumerate(ma_troisieme_liste):\n",
    "    print(f\"Indice: {i}, élément: {j}\")"
   ]
  },
  {
   "cell_type": "code",
   "execution_count": 166,
   "metadata": {
    "scrolled": true
   },
   "outputs": [],
   "source": [
    "# Il est possible de faire des modifications de liste ou filtrage de liste via \n",
    "# des compréhensions de listes. La synthaxe se fait entre []\n",
    "# Ci-suit un exemple pour faire deux fois la même chose via une boucle ou une compréhension de liste\n",
    "liste_origine = [1,2,3,4,5,6,7,8]\n",
    "resultat = []\n",
    "for element in liste_origine:\n",
    "    resultat.append(element * element) # on crée une liste dont les élément sont le carré de liste_origine"
   ]
  },
  {
   "cell_type": "code",
   "execution_count": 167,
   "metadata": {},
   "outputs": [
    {
     "data": {
      "text/plain": [
       "[1, 4, 9, 16, 25, 36, 49, 64]"
      ]
     },
     "execution_count": 167,
     "metadata": {},
     "output_type": "execute_result"
    }
   ],
   "source": [
    "resultat"
   ]
  },
  {
   "cell_type": "code",
   "execution_count": 170,
   "metadata": {},
   "outputs": [
    {
     "data": {
      "text/plain": [
       "[1, 4, 9, 16, 25, 36, 49, 64]"
      ]
     },
     "execution_count": 170,
     "metadata": {},
     "output_type": "execute_result"
    }
   ],
   "source": [
    "resultat_cl = [i * i for i in liste_origine]\n",
    "resultat_cl"
   ]
  },
  {
   "cell_type": "code",
   "execution_count": 171,
   "metadata": {},
   "outputs": [
    {
     "name": "stdout",
     "output_type": "stream",
     "text": [
      "resultat: [1, 4, 9, 16, 25, 36, 49, 64]\n",
      "resultat_cl: [1, 4, 9, 16, 25, 36, 49, 64]\n",
      "resultat_cl_pairs: [4, 16, 36, 64]\n"
     ]
    }
   ],
   "source": [
    "resultat_cl_pairs= [element * element for element in liste_origine if element%2==0]\n",
    "\n",
    "print(f\"resultat: {resultat}\")\n",
    "print(f\"resultat_cl: {resultat_cl}\")\n",
    "print(f\"resultat_cl_pairs: {resultat_cl_pairs}\")"
   ]
  },
  {
   "cell_type": "code",
   "execution_count": 172,
   "metadata": {},
   "outputs": [
    {
     "name": "stdout",
     "output_type": "stream",
     "text": [
      "resultat: [2, 4, 6, 8]\n",
      "resultat_cl: [2, 4, 6, 8]\n"
     ]
    }
   ],
   "source": [
    "# Il est possible de faire du filtrage aussi\n",
    "resultat = []\n",
    "for element in liste_origine:\n",
    "    if element%2==0: #Si l'élément est pair on l'ajoute à la liste  \n",
    "        resultat.append(element)\n",
    "\n",
    "resultat_cl = [element for element in liste_origine if element%2 == 0]\n",
    "\n",
    "print(f\"resultat: {resultat}\")\n",
    "print(f\"resultat_cl: {resultat_cl}\")"
   ]
  },
  {
   "cell_type": "markdown",
   "metadata": {},
   "source": [
    "Exo 6\n",
    "-------"
   ]
  },
  {
   "cell_type": "markdown",
   "metadata": {},
   "source": [
    "À partir de la liste ```poprock``` ajouter les années d'activité qui suivent la virgule dans une liste ```annees_actives```. Imprimer chaque élément de ```annees_actives```. \n",
    "\n",
    "_Indice_: Plusieurs manières de le faire, une bonne idée est d'utiliser la méthode ```.split()``` des strings. Pour voir la doc: ```help(str.split)```"
   ]
  },
  {
   "cell_type": "code",
   "execution_count": 174,
   "metadata": {},
   "outputs": [],
   "source": [
    "poprock = [\"The Beatles, 1960-1970\", \n",
    "           \"The Rolling Stones, depuis 1962\", \n",
    "           \"Pink Floyd, 1965-1995\", \n",
    "           \"Led Zeppelin, 1968-1980\",\n",
    "           \"The Who, 1964-1983\",\n",
    "           \"Queen, depuis 1971\",\n",
    "           \"Depeche Mode, depuis 1980\", \n",
    "           \"Radiohead, depuis 1985\", \n",
    "           \"The Smiths, 1982-1987\",\n",
    "           \"The Libertines, 1997-2004\", \n",
    "           \"Arctic Monkeys, 2002-2014\"]"
   ]
  },
  {
   "cell_type": "code",
   "execution_count": 179,
   "metadata": {},
   "outputs": [
    {
     "data": {
      "text/plain": [
       "['The Beatles', '1960-1970']"
      ]
     },
     "execution_count": 179,
     "metadata": {},
     "output_type": "execute_result"
    }
   ],
   "source": [
    "first_element = poprock[0]\n",
    "first_element.split(\", \")"
   ]
  },
  {
   "cell_type": "code",
   "execution_count": 181,
   "metadata": {},
   "outputs": [
    {
     "data": {
      "text/plain": [
       "'The Beatles'"
      ]
     },
     "execution_count": 181,
     "metadata": {},
     "output_type": "execute_result"
    }
   ],
   "source": [
    "first_element.split(\", \")[0]"
   ]
  },
  {
   "cell_type": "code",
   "execution_count": 185,
   "metadata": {},
   "outputs": [
    {
     "data": {
      "text/plain": [
       "['1960-1970',\n",
       " 'depuis 1962',\n",
       " '1965-1995',\n",
       " '1968-1980',\n",
       " '1964-1983',\n",
       " 'depuis 1971',\n",
       " 'depuis 1980',\n",
       " 'depuis 1985',\n",
       " '1982-1987',\n",
       " '1997-2004',\n",
       " '2002-2014']"
      ]
     },
     "execution_count": 185,
     "metadata": {},
     "output_type": "execute_result"
    }
   ],
   "source": [
    "# Avec append\n",
    "annees_actives = []\n",
    "for i in poprock:\n",
    "    annees_actives.append(i.split(\", \")[1])\n",
    "annees_actives"
   ]
  },
  {
   "cell_type": "code",
   "execution_count": 186,
   "metadata": {},
   "outputs": [
    {
     "data": {
      "text/plain": [
       "['1960-1970',\n",
       " 'depuis 1962',\n",
       " '1965-1995',\n",
       " '1968-1980',\n",
       " '1964-1983',\n",
       " 'depuis 1971',\n",
       " 'depuis 1980',\n",
       " 'depuis 1985',\n",
       " '1982-1987',\n",
       " '1997-2004',\n",
       " '2002-2014']"
      ]
     },
     "execution_count": 186,
     "metadata": {},
     "output_type": "execute_result"
    }
   ],
   "source": [
    "# avec liste compréhensive\n",
    "annees_actives_bis = [i.split(\", \")[1] for i in poprock]\n",
    "annees_actives_bis"
   ]
  },
  {
   "cell_type": "markdown",
   "metadata": {},
   "source": [
    "Les dictionnaires\n",
    "-----------------"
   ]
  },
  {
   "cell_type": "markdown",
   "metadata": {},
   "source": [
    "Les dictionnaires sont comme les listes des objets contenant d'autres objets. À la différence des listes il n'y a pas d'ordre. Les données dans un dictionaire sont dans un format clé-valeur. Une clé va permettre de retrouver une valeur qui peut être de plusieurs types. Les crochets ```{}``` permettent de définir des dictionaires."
   ]
  },
  {
   "cell_type": "code",
   "execution_count": 187,
   "metadata": {},
   "outputs": [],
   "source": [
    "# on peut initialiser un dictionaire comme ci-suit\n",
    "mon_premier_dict = {}  #dict()"
   ]
  },
  {
   "cell_type": "code",
   "execution_count": 188,
   "metadata": {},
   "outputs": [
    {
     "data": {
      "text/plain": [
       "{'ma_cle': 'la_valeur_associee_a_ma_cle',\n",
       " 'mon prénom': 'Bob',\n",
       " 'mot de passe': '*******',\n",
       " 'un nombre': 12}"
      ]
     },
     "execution_count": 188,
     "metadata": {},
     "output_type": "execute_result"
    }
   ],
   "source": [
    "# On peut ajouter des éléments au dictionaire\n",
    "mon_premier_dict[\"ma_cle\"] = \"la_valeur_associee_a_ma_cle\"\n",
    "mon_premier_dict[\"mon prénom\"] = \"Bob\"\n",
    "mon_premier_dict[\"mot de passe\"] = \"*******\"\n",
    "mon_premier_dict[\"un nombre\"] = 12\n",
    "mon_premier_dict"
   ]
  },
  {
   "cell_type": "code",
   "execution_count": 189,
   "metadata": {},
   "outputs": [
    {
     "data": {
      "text/plain": [
       "{'ma_cle': 'la_valeur_associee_a_ma_cle',\n",
       " 'mon prénom': 'Bob',\n",
       " 'mot de passe': 1234,\n",
       " 'un nombre': 12}"
      ]
     },
     "execution_count": 189,
     "metadata": {},
     "output_type": "execute_result"
    }
   ],
   "source": [
    "# en modifiant la valeur à une clé on perd la version précédente\n",
    "mon_premier_dict[\"mot de passe\"] = 1234\n",
    "mon_premier_dict"
   ]
  },
  {
   "cell_type": "code",
   "execution_count": 190,
   "metadata": {},
   "outputs": [
    {
     "data": {
      "text/plain": [
       "'Bob'"
      ]
     },
     "execution_count": 190,
     "metadata": {},
     "output_type": "execute_result"
    }
   ],
   "source": [
    "# On peut récupérer un élément du dictionaire via une clé\n",
    "mon_premier_dict[\"mon prénom\"]"
   ]
  },
  {
   "cell_type": "code",
   "execution_count": 191,
   "metadata": {},
   "outputs": [
    {
     "data": {
      "text/plain": [
       "{'cle': 'valeur',\n",
       " 'prenom': 'Charles',\n",
       " 'nom': 'V',\n",
       " 'ville': 'Paris',\n",
       " 'cp': 75018,\n",
       " 'nombre de vaches': 3.14,\n",
       " 'mois': 'Novembre'}"
      ]
     },
     "execution_count": 191,
     "metadata": {},
     "output_type": "execute_result"
    }
   ],
   "source": [
    "# on peut initialiser directement un dictionaire via les {}\n",
    "mon_deuxieme_dict = {\n",
    "    \"cle\": \"valeur\",\n",
    "    \"prenom\": \"Charles\",\n",
    "    \"nom\": \"V\",\n",
    "    \"ville\": \"Paris\",\n",
    "    \"cp\": 75018,\n",
    "    \"nombre de vaches\": 3.14,\n",
    "    \"mois\": \"Novembre\"\n",
    "}\n",
    "mon_deuxieme_dict"
   ]
  },
  {
   "cell_type": "code",
   "execution_count": 192,
   "metadata": {},
   "outputs": [
    {
     "data": {
      "text/plain": [
       "({'cle': 'valeur',\n",
       "  'nom': 'V',\n",
       "  'ville': 'Paris',\n",
       "  'cp': 75018,\n",
       "  'nombre de vaches': 3.14,\n",
       "  'mois': 'Novembre'},\n",
       " 'Charles')"
      ]
     },
     "execution_count": 192,
     "metadata": {},
     "output_type": "execute_result"
    }
   ],
   "source": [
    "# Comme une liste on peu supprimer une valeur via del ou .pop(clé)\n",
    "a = mon_deuxieme_dict.pop(\"prenom\")\n",
    "mon_deuxieme_dict, a"
   ]
  },
  {
   "cell_type": "code",
   "execution_count": 193,
   "metadata": {},
   "outputs": [
    {
     "name": "stdout",
     "output_type": "stream",
     "text": [
      "cle\n",
      "nom\n",
      "ville\n",
      "cp\n",
      "nombre de vaches\n",
      "mois\n"
     ]
    }
   ],
   "source": [
    "# On peut parcourir une liste grâce à la boucle for. A noter que les dictionaire n'ont pas de structure ordonnée\n",
    "for element in mon_deuxieme_dict:\n",
    "    print(element)"
   ]
  },
  {
   "cell_type": "code",
   "execution_count": 194,
   "metadata": {},
   "outputs": [
    {
     "name": "stdout",
     "output_type": "stream",
     "text": [
      "cle\n",
      "nom\n",
      "ville\n",
      "cp\n",
      "nombre de vaches\n",
      "mois\n"
     ]
    }
   ],
   "source": [
    "# Par défaut en parcourant un dictionaire, on obtient les clés, un équivalent:\n",
    "for cle in mon_deuxieme_dict.keys():\n",
    "    print(cle)"
   ]
  },
  {
   "cell_type": "code",
   "execution_count": 195,
   "metadata": {},
   "outputs": [
    {
     "name": "stdout",
     "output_type": "stream",
     "text": [
      "valeur\n",
      "V\n",
      "Paris\n",
      "75018\n",
      "3.14\n",
      "Novembre\n"
     ]
    }
   ],
   "source": [
    "# pour le parcours des valeurs\n",
    "for valeur in mon_deuxieme_dict.values():\n",
    "    print(valeur)"
   ]
  },
  {
   "cell_type": "code",
   "execution_count": 196,
   "metadata": {},
   "outputs": [
    {
     "name": "stdout",
     "output_type": "stream",
     "text": [
      "la clé: cle | la valeur: valeur\n",
      "la clé: nom | la valeur: V\n",
      "la clé: ville | la valeur: Paris\n",
      "la clé: cp | la valeur: 75018\n",
      "la clé: nombre de vaches | la valeur: 3.14\n",
      "la clé: mois | la valeur: Novembre\n"
     ]
    }
   ],
   "source": [
    "# et les deux d'un coup via items()\n",
    "for cle, valeur in mon_deuxieme_dict.items():\n",
    "    print (f\"la clé: {cle} | la valeur: {valeur}\")"
   ]
  },
  {
   "cell_type": "code",
   "execution_count": 197,
   "metadata": {},
   "outputs": [
    {
     "name": "stdout",
     "output_type": "stream",
     "text": [
      "cle valeur\n",
      "nom V\n",
      "ville Paris\n",
      "cp 75018\n",
      "nombre de vaches 3.14\n",
      "mois Novembre\n"
     ]
    }
   ],
   "source": [
    "for item in mon_deuxieme_dict.items():\n",
    "    print(item[0], item[1])"
   ]
  },
  {
   "cell_type": "markdown",
   "metadata": {},
   "source": [
    "Exo 7\n",
    "-------------\n",
    "A partir de la liste ```poprock``` créer un dictionaire contenant en clé le nom du groupe et en valeur les dates d'activité. Imprimer chaque élément de ce dictionaire."
   ]
  },
  {
   "cell_type": "code",
   "execution_count": 198,
   "metadata": {},
   "outputs": [],
   "source": [
    "groupes = [i.split(\", \")[0] for i in poprock]"
   ]
  },
  {
   "cell_type": "code",
   "execution_count": 200,
   "metadata": {},
   "outputs": [
    {
     "data": {
      "text/plain": [
       "{'The Beatles': '1960-1970',\n",
       " 'The Rolling Stones': 'depuis 1962',\n",
       " 'Pink Floyd': '1965-1995',\n",
       " 'Led Zeppelin': '1968-1980',\n",
       " 'The Who': '1964-1983',\n",
       " 'Queen': 'depuis 1971',\n",
       " 'Depeche Mode': 'depuis 1980',\n",
       " 'Radiohead': 'depuis 1985',\n",
       " 'The Smiths': '1982-1987',\n",
       " 'The Libertines': '1997-2004',\n",
       " 'Arctic Monkeys': '2002-2014'}"
      ]
     },
     "execution_count": 200,
     "metadata": {},
     "output_type": "execute_result"
    }
   ],
   "source": [
    "my_dict = {}\n",
    "for i in range(len(groupes)):\n",
    "    my_dict[groupes[i]] = annees_actives[i]\n",
    "\n",
    "my_dict"
   ]
  },
  {
   "cell_type": "code",
   "execution_count": 201,
   "metadata": {},
   "outputs": [
    {
     "data": {
      "text/plain": [
       "'depuis 1971'"
      ]
     },
     "execution_count": 201,
     "metadata": {},
     "output_type": "execute_result"
    }
   ],
   "source": [
    "my_dict[\"Queen\"]"
   ]
  },
  {
   "cell_type": "code",
   "execution_count": null,
   "metadata": {},
   "outputs": [],
   "source": []
  }
 ],
 "metadata": {
  "kernelspec": {
   "display_name": "Python 3 (ipykernel)",
   "language": "python",
   "name": "python3"
  },
  "language_info": {
   "codemirror_mode": {
    "name": "ipython",
    "version": 3
   },
   "file_extension": ".py",
   "mimetype": "text/x-python",
   "name": "python",
   "nbconvert_exporter": "python",
   "pygments_lexer": "ipython3",
   "version": "3.8.13"
  }
 },
 "nbformat": 4,
 "nbformat_minor": 4
}
