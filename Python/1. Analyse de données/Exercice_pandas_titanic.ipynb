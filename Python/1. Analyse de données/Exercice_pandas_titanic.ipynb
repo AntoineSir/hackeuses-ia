{
 "cells": [
  {
   "cell_type": "markdown",
   "id": "e6c409c4",
   "metadata": {},
   "source": [
    "# Exercices pandas\n",
    "\n",
    "On va appliquer ici certaines pratiques vues ensemble sur le dataset `titanic`que vous trouverez dans le dossier `Data` (`titanic-survival.csv`)\n"
   ]
  },
  {
   "cell_type": "markdown",
   "id": "cbd2fad2",
   "metadata": {},
   "source": [
    "## 1. Import des données  \n",
    "\n",
    "- Importer le fichier CSV dans un dataframe que vous nommerez `titanic`  \n",
    "- Afficher le nombre de lignes du dataframe\n",
    "- Afficher le nombre de colonnes du dataframe  \n",
    "- Afficher les 3 premières lignes, puis afficher les 10 premières lignes  \n",
    "- Afficher les 3 dernières lignes, puis afficher les 10 dernières lignes  \n",
    "- Créer une liste contenant l'ensemble des noms des variables du dataframe  \n",
    "- Afficher le type de l'ensemble des variables  \n"
   ]
  },
  {
   "cell_type": "markdown",
   "id": "01ee68a7",
   "metadata": {},
   "source": [
    "## 2. Sélection des lignes et des variables  \n",
    "\n",
    "### 2.1. Sélection par l'index  (`.iloc`)\n",
    "\n",
    "- En utilisant leur index, afficher les lignes 0 à 4 inclus.  \n",
    "- En utilisant leur index, afficher les lignes 4,5, 8, 9 et 10.  \n",
    "- En utilisant leur index, afficher les colonnes 0 à 4 inclus.  \n",
    "- En utilisant leur index, afficher les colonnes 4,5, 8, 9 et 10. \n",
    "- En utilisant leur index, afficher les lignes 0 à 4 inclus avec seulement les colonnes 2 et 3.  "
   ]
  },
  {
   "cell_type": "markdown",
   "id": "83e595c7",
   "metadata": {},
   "source": [
    "### 2.2. Sélection par les noms (`.loc`)  \n",
    "\n",
    "- Créer un dataframe `titanic_bis` avec seulement les colonnes `survived`, `sex` et `age`  \n",
    "- Afficher ces mêmes colonnes seulement pour les 10 premières lignes  \n",
    "- Créer un dataframe contenant toutes les variables de `titanic` sauf l'âge  "
   ]
  },
  {
   "cell_type": "markdown",
   "id": "ec4214c6",
   "metadata": {},
   "source": [
    "### 2.3. Sélection par les conditions (`.loc`)\n",
    "\n",
    "- Créer un dataframe ne contenant que les passagers femmes. Vous l'appellerez `titanic_femmes`  \n",
    "- Créer un dataframe ne contenant que les passagers majeurs. Vous l'appelerez `titanic_majeurs`  \n",
    "- Créer un dataframe ne contenant que les passagers se rendant à New York. Vous l'appelerez `titanic_new_york`"
   ]
  },
  {
   "cell_type": "code",
   "execution_count": null,
   "id": "5765695c",
   "metadata": {},
   "outputs": [],
   "source": []
  }
 ],
 "metadata": {
  "kernelspec": {
   "display_name": "Python 3 (ipykernel)",
   "language": "python",
   "name": "python3"
  },
  "language_info": {
   "codemirror_mode": {
    "name": "ipython",
    "version": 3
   },
   "file_extension": ".py",
   "mimetype": "text/x-python",
   "name": "python",
   "nbconvert_exporter": "python",
   "pygments_lexer": "ipython3",
   "version": "3.8.13"
  }
 },
 "nbformat": 4,
 "nbformat_minor": 5
}
