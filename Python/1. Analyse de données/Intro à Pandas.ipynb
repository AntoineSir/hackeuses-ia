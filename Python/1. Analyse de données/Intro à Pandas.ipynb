{
 "cells": [
  {
   "cell_type": "markdown",
   "metadata": {},
   "source": [
    "# Introduction à la libraire Pandas"
   ]
  },
  {
   "cell_type": "markdown",
   "metadata": {},
   "source": [
    "DataFrame : structure de données équivalente à un numpy.array avec des fonctionnalités en plus"
   ]
  },
  {
   "cell_type": "markdown",
   "metadata": {},
   "source": [
    "Avantages de Pandas :\n",
    " - pas de restriction à un seul type de données\n",
    " - gestion des NaN simplifié\n",
    " - extraction de valeurs et de sous-ensembles facile"
   ]
  },
  {
   "cell_type": "markdown",
   "metadata": {},
   "source": [
    "## Généralités"
   ]
  },
  {
   "cell_type": "code",
   "execution_count": null,
   "metadata": {},
   "outputs": [],
   "source": [
    "import pandas as pd"
   ]
  },
  {
   "cell_type": "code",
   "execution_count": null,
   "metadata": {},
   "outputs": [],
   "source": [
    "### Lecture d'un fichier csv\n",
    "data = pd.read_csv('Data/food-info.csv')\n",
    "type(data)\n",
    "data.head(3)"
   ]
  },
  {
   "cell_type": "code",
   "execution_count": null,
   "metadata": {},
   "outputs": [],
   "source": [
    "### Affichage des données\n",
    "# data.head()\n",
    "# data.head(3)\n",
    "# data.tail()\n",
    "data.tail()"
   ]
  },
  {
   "cell_type": "code",
   "execution_count": null,
   "metadata": {},
   "outputs": [],
   "source": [
    "### Attributs columns et shape\n",
    "print(data.shape,'\\n',data.columns)"
   ]
  },
  {
   "cell_type": "code",
   "execution_count": null,
   "metadata": {},
   "outputs": [],
   "source": [
    "### type des données avec dtypes :\n",
    "#object (pour les string ou les variables ayant différents types)\n",
    "#int, float, datetime, bool\n",
    "print(data.dtypes)"
   ]
  },
  {
   "cell_type": "markdown",
   "metadata": {},
   "source": [
    "## Sélection de ligne.s et de colonne.s"
   ]
  },
  {
   "cell_type": "code",
   "execution_count": null,
   "metadata": {},
   "outputs": [],
   "source": [
    "type(data.iloc[0, :])"
   ]
  },
  {
   "cell_type": "code",
   "execution_count": null,
   "metadata": {},
   "outputs": [],
   "source": [
    "### sélection d'une seule ligne\n",
    "data.iloc[0]"
   ]
  },
  {
   "cell_type": "code",
   "execution_count": null,
   "metadata": {},
   "outputs": [],
   "source": [
    "### sélection de plusieurs lignes\n",
    "data.iloc[3:6]"
   ]
  },
  {
   "cell_type": "code",
   "execution_count": null,
   "metadata": {},
   "outputs": [],
   "source": [
    "data.iloc[3:6,:]"
   ]
  },
  {
   "cell_type": "code",
   "execution_count": null,
   "metadata": {},
   "outputs": [],
   "source": [
    "data.iloc[[2,10,5], :]"
   ]
  },
  {
   "cell_type": "code",
   "execution_count": null,
   "metadata": {},
   "outputs": [],
   "source": [
    "list(range(2,5))+list(range(9,11))"
   ]
  },
  {
   "cell_type": "code",
   "execution_count": null,
   "metadata": {},
   "outputs": [],
   "source": [
    "data.iloc[list(range(2,5))+list(range(9,11)), :]"
   ]
  },
  {
   "cell_type": "code",
   "execution_count": null,
   "metadata": {},
   "outputs": [],
   "source": [
    "### sélection d'une colonne\n",
    "data['Water_(g)']"
   ]
  },
  {
   "cell_type": "code",
   "execution_count": null,
   "metadata": {},
   "outputs": [],
   "source": [
    "data.NDB_No"
   ]
  },
  {
   "cell_type": "code",
   "execution_count": null,
   "metadata": {},
   "outputs": [],
   "source": [
    "### sélection d'une colonne avec .loc\n",
    "data.loc[:, \"NDB_No\"]"
   ]
  },
  {
   "cell_type": "code",
   "execution_count": null,
   "metadata": {},
   "outputs": [],
   "source": [
    "### sélection d'une colonne avec .iloc[]\n",
    "data.iloc[:,0]"
   ]
  },
  {
   "cell_type": "code",
   "execution_count": null,
   "metadata": {},
   "outputs": [],
   "source": [
    "### sélection de plusieurs colonnes\n",
    "data[[\"Zinc_(mg)\",\"NDB_No\"]].head(9)"
   ]
  },
  {
   "cell_type": "code",
   "execution_count": null,
   "metadata": {},
   "outputs": [],
   "source": [
    "### sélection de plusieurs colonnes avec loc\n",
    "data.loc[0:6, [\"NDB_No\",\"Calcium_(mg)\",\"Energ_Kcal\"]]"
   ]
  },
  {
   "cell_type": "code",
   "execution_count": null,
   "metadata": {},
   "outputs": [],
   "source": [
    "data.iloc[1:7, 2:5]"
   ]
  },
  {
   "cell_type": "code",
   "execution_count": null,
   "metadata": {},
   "outputs": [],
   "source": [
    "type(list(range(2,5)))"
   ]
  },
  {
   "cell_type": "code",
   "execution_count": null,
   "metadata": {},
   "outputs": [],
   "source": [
    "### sélection de plusieurs colonnes avec iloc\n",
    "data2 = data.iloc[:, [0, 1] + list(range(2,5))]"
   ]
  },
  {
   "cell_type": "code",
   "execution_count": null,
   "metadata": {},
   "outputs": [],
   "source": [
    "data2.head()"
   ]
  },
  {
   "cell_type": "markdown",
   "metadata": {},
   "source": [
    "### Exo : afficher les 3 premières lignes des colonnes utilisant comme unité de mesure les grammes"
   ]
  },
  {
   "cell_type": "markdown",
   "metadata": {},
   "source": [
    "En regardant les noms des colonnes, on constate qu'elles sont identifiables via le suffixe \"(g)\". Il y a plus qu'à...\n",
    "\n",
    "Deux solutions possibles mais il y en a d'autres. **Surtout, essayez d'abord par vous-même !**"
   ]
  },
  {
   "cell_type": "markdown",
   "metadata": {},
   "source": [
    "## Manipulation de données avec Pandas"
   ]
  },
  {
   "cell_type": "markdown",
   "metadata": {},
   "source": [
    "### Transformation d'une colonne"
   ]
  },
  {
   "cell_type": "markdown",
   "metadata": {},
   "source": [
    "On peut facilement transformer une colonne en ajoutant, enlevant, multipliant ou divisant une toutes les lignes par une même valeur. Deux exemples ci-dessous pour convertir des valeurs des milligrammes vers les grammes et inversement."
   ]
  },
  {
   "cell_type": "code",
   "execution_count": null,
   "metadata": {},
   "outputs": [],
   "source": [
    "### Pour convertir des mg en g\n",
    "iron_g = data[\"Iron_(mg)\"]/1000\n",
    "\n",
    "### Pour convertir des g en mg\n",
    "protein_mg = data[\"Protein_(g)\"]*1000\n",
    "\n",
    "print(iron_g,protein_mg)"
   ]
  },
  {
   "cell_type": "markdown",
   "metadata": {},
   "source": [
    "### Création et suppression d'une colonne"
   ]
  },
  {
   "cell_type": "markdown",
   "metadata": {},
   "source": [
    "Pour créer une nouvelle colonne, il suffit d'affecter un objet Series à un nouveau de colonne dans le dataframe. Si on affecte à un nom de colonne déjà existant, on remplace l'ensemble des valeurs par la nouvelle série."
   ]
  },
  {
   "cell_type": "code",
   "execution_count": null,
   "metadata": {},
   "outputs": [],
   "source": [
    "### La nouvelle colonne est créée à la fin du dataframe\n",
    "data[\"Iron_(g)\"] = data[\"Iron_(mg)\"]/1000\n",
    "data.head(1)"
   ]
  },
  {
   "cell_type": "markdown",
   "metadata": {},
   "source": [
    "Pour supprimer une colonne, on peut utiliser del ou drop"
   ]
  },
  {
   "cell_type": "code",
   "execution_count": null,
   "metadata": {},
   "outputs": [],
   "source": [
    "### Avec del\n",
    "del data[\"Iron_(g)\"]\n",
    "data.head(1)"
   ]
  },
  {
   "cell_type": "code",
   "execution_count": null,
   "metadata": {},
   "outputs": [],
   "source": [
    "### Avec drop\n",
    "data[\"Iron_(g)\"] = data[\"Iron_(mg)\"]/1000 # on recréé la variable à supprimer\n",
    "data.drop([\"Iron_(g)\"], axis='columns', inplace=True)\n",
    "\n",
    "data.shape\n",
    "# ATTENTION à l'option inplace, qui remplace directement le dataframe par le dataframe sans les colonnes à supprimer...\n",
    "# par précaution et par défaut inplace = FALSE et la méthode drop retourne un nouveau dataframe"
   ]
  },
  {
   "cell_type": "markdown",
   "metadata": {},
   "source": [
    "### Opérations entre colonnes"
   ]
  },
  {
   "cell_type": "code",
   "execution_count": null,
   "metadata": {},
   "outputs": [],
   "source": [
    "### Pour ajouter les quantités de fer et de calcium contenues dans un aliment\n",
    "fer_calcium = data[\"Iron_(mg)\"] + data[\"Calcium_(mg)\"]\n",
    "fer_calcium.head()"
   ]
  },
  {
   "cell_type": "code",
   "execution_count": null,
   "metadata": {},
   "outputs": [],
   "source": [
    "### On peut multiplier (ou diviser) des colonnes\n",
    "water_energy = data[\"Water_(g)\"]*data[\"Energ_Kcal\"]\n",
    "water_energy[:5]"
   ]
  },
  {
   "cell_type": "markdown",
   "metadata": {},
   "source": [
    "### Filtrer sur une condition\n",
    "\n",
    "Avec la méthode `.loc` on peut filtrer les observations (= les lignes) sur des conditions sur les colonnes (ou \"variables\"). \n",
    "Exemple : \n",
    "- Créer un dataframe ne contenant que les aliments avec 30g d'eau ou moins  \n",
    "- Après avoir lu sa documentation, utiliser la méthode `isin()` pour créer un dataframe avec seulement les aliments eggnog, whey acid fluid et cumin seed"
   ]
  },
  {
   "cell_type": "markdown",
   "metadata": {},
   "source": [
    "### Trier un dataframe"
   ]
  },
  {
   "cell_type": "code",
   "execution_count": null,
   "metadata": {},
   "outputs": [],
   "source": [
    "### on utilise la méthode sort_values()\n",
    "data.sort_values([\"Water_(g)\", \"Protein_(g)\"], ascending = [True, False], inplace=True)\n",
    "# Pensez à bien regarder la documentation et notamment l'existence des paramètres inplace= et ascending="
   ]
  },
  {
   "cell_type": "code",
   "execution_count": null,
   "metadata": {
    "collapsed": true
   },
   "outputs": [],
   "source": [
    "help(data.sort_values)"
   ]
  },
  {
   "cell_type": "markdown",
   "metadata": {},
   "source": [
    "### Exo : un judoka de haut niveau voudrait adapter son alimentation à son programme d'entraînement et vous demande de déterminer les aliments à la fois riches en protéine et faibles en lipides. Son entraîneur vous contacte ensuite pour vous préciser que le plus important est qu'il y ait un maximum de protéine !"
   ]
  },
  {
   "cell_type": "markdown",
   "metadata": {},
   "source": [
    "Pour faire cet exercice, voici quelques indications. Vous pouvez tout à fait faire sans mais si vous ne savez pas par où commencer, ces quelques lignes vous aideront sûrement.\n",
    "\n",
    "Comme on souhaite regarder coinjointement les quantités de protéines et de lipides, le plus simple est de calculer un score faisant intervenir les variables Protein_(g) et Lipid_Tot_(g). L'idée de ce score est que plus il sera élevé, plus l'aliment répondra à nos critères (bcp de protéines/peu de lipides).\n",
    "\n",
    "Vous calculerez donc un score sous la forme __*Score = a * Protéine + b * Lipide* où a et b sont des constantes qu'il faudra fixer__ (arbitrairement certes mais en justifiant le choix quand même !).\n",
    "\n",
    "Les questions que vous devez vous poser :\n",
    " - Tout d'abord, quel doivent être les signes de a et de b pour répondre à notre problématique ?\n",
    " - Quel coefficient doit être le plus grand en valeur absolue ?\n",
    " - Ensuite, quelles sont les min et max des variables Protein_(g) et Lipid_Tot_(g) ?\n",
    " - Par conséquent, comment gérer le fait que ces deux variables n'évoluent pas du tout sur la même échelle ?\n",
    "\n",
    "À vous de jouer !\n"
   ]
  },
  {
   "cell_type": "markdown",
   "metadata": {},
   "source": [
    "## Traitement des valeurs manquantes "
   ]
  },
  {
   "cell_type": "markdown",
   "metadata": {},
   "source": [
    "### Les données"
   ]
  },
  {
   "cell_type": "code",
   "execution_count": null,
   "metadata": {},
   "outputs": [],
   "source": [
    "titanic = pd.read_csv(\"Data/titanic-survival.csv\")\n",
    "titanic.tail()"
   ]
  },
  {
   "cell_type": "code",
   "execution_count": null,
   "metadata": {},
   "outputs": [],
   "source": [
    "titanic.drop([1309], axis='index', inplace=True)\n",
    "#titanic = titanic.iloc[:-1,:]\n",
    "titanic.tail()"
   ]
  },
  {
   "cell_type": "code",
   "execution_count": null,
   "metadata": {},
   "outputs": [],
   "source": [
    "titanic.dtypes"
   ]
  },
  {
   "cell_type": "code",
   "execution_count": null,
   "metadata": {},
   "outputs": [],
   "source": [
    "### La méthode describe() renvoie quelques statistiques du dataframe par variable\n",
    "titanic.describe()"
   ]
  },
  {
   "cell_type": "markdown",
   "metadata": {},
   "source": [
    "### Identifier les manquants"
   ]
  },
  {
   "cell_type": "code",
   "execution_count": null,
   "metadata": {},
   "outputs": [],
   "source": [
    "### la méthode isnull()\n",
    "titanic[\"age\"].isnull()"
   ]
  },
  {
   "cell_type": "markdown",
   "metadata": {},
   "source": [
    "Comment récupérer le nombre de valeurs manquantes ?"
   ]
  },
  {
   "cell_type": "markdown",
   "metadata": {},
   "source": [
    "### Problème avec les valeurs manquantes : calcul de la moyenne"
   ]
  },
  {
   "cell_type": "code",
   "execution_count": null,
   "metadata": {},
   "outputs": [],
   "source": [
    "### Calcul de l'âge moyen sans build-in function\n",
    "age_mean =  sum(titanic[\"age\"])/len(titanic[\"age\"])\n",
    "age_mean"
   ]
  },
  {
   "cell_type": "code",
   "execution_count": null,
   "metadata": {},
   "outputs": [],
   "source": [
    "sum(titanic.loc[~titanic[\"age\"].isnull(),\"age\"])"
   ]
  },
  {
   "cell_type": "code",
   "execution_count": null,
   "metadata": {},
   "outputs": [],
   "source": [
    "age_mean_wo_null = sum(titanic.loc[~titanic[\"age\"].isnull(),\"age\"])/len(titanic.loc[~titanic[\"age\"].isnull(),\"age\"])\n",
    "age_mean_wo_null"
   ]
  },
  {
   "cell_type": "code",
   "execution_count": null,
   "metadata": {},
   "outputs": [],
   "source": [
    "### Une méthode bien plus simple : la fonction build-in Series.mean()\n",
    "titanic[\"age\"].mean()"
   ]
  },
  {
   "cell_type": "code",
   "execution_count": null,
   "metadata": {},
   "outputs": [],
   "source": [
    "titanic[\"fare\"].mean()"
   ]
  },
  {
   "cell_type": "markdown",
   "metadata": {},
   "source": [
    "### Exo : calculer le tarif moyen par classe. Retourner les résultats sous forme d'un dictionnaire"
   ]
  },
  {
   "cell_type": "code",
   "execution_count": null,
   "metadata": {},
   "outputs": [],
   "source": [
    "titanic.pclass.unique()"
   ]
  },
  {
   "cell_type": "code",
   "execution_count": null,
   "metadata": {},
   "outputs": [],
   "source": [
    "dico_res={}\n",
    "for i in titanic.pclass.unique():\n",
    "    tarif_moy = titanic.loc[titanic[\"pclass\"]==i, \"fare\"].mean()\n",
    "    dico_res[i] = tarif_moy\n",
    "print(dico_res)"
   ]
  },
  {
   "cell_type": "code",
   "execution_count": null,
   "metadata": {},
   "outputs": [],
   "source": [
    "titanic.groupby(\"pclass\").fare.mean()"
   ]
  },
  {
   "cell_type": "markdown",
   "metadata": {},
   "source": [
    "### Supprimer des valeurs manquantes"
   ]
  },
  {
   "cell_type": "code",
   "execution_count": null,
   "metadata": {},
   "outputs": [],
   "source": [
    "### La méthode .dropna()\n",
    "titanic.dropna(axis = 1)"
   ]
  },
  {
   "cell_type": "code",
   "execution_count": null,
   "metadata": {},
   "outputs": [],
   "source": [
    "titanic.dropna(axis = 0)"
   ]
  },
  {
   "cell_type": "code",
   "execution_count": null,
   "metadata": {},
   "outputs": [],
   "source": [
    "titanic.dropna(axis = 0, subset = [\"boat\"])"
   ]
  },
  {
   "cell_type": "code",
   "execution_count": null,
   "metadata": {},
   "outputs": [],
   "source": [
    "### Pour ne conserver uniquement les lignes pour lesquelles l'âge et le sexe sont renseignés\n",
    "titanic.dropna(axis = 0, subset = [\"age\",\"sex\"])"
   ]
  },
  {
   "cell_type": "code",
   "execution_count": null,
   "metadata": {},
   "outputs": [],
   "source": [
    "### On peut vérifier avec l'attribut shape\n",
    "titanic.dropna(axis = 0, subset = [\"age\",\"sex\"]).shape"
   ]
  },
  {
   "cell_type": "markdown",
   "metadata": {},
   "source": [
    "## Les pivots de tables"
   ]
  },
  {
   "cell_type": "markdown",
   "metadata": {},
   "source": [
    "Pour ceux qui connaissent, c'est l'équivalent des \"tableaux croisés dynamiques\" sur Excel."
   ]
  },
  {
   "cell_type": "code",
   "execution_count": null,
   "metadata": {},
   "outputs": [],
   "source": [
    "### Méthode DataFrame.pivot_table() : regardez la doc !!\n",
    "titanic.pivot_table(index = \"pclass\", values = \"survived\")"
   ]
  },
  {
   "cell_type": "code",
   "execution_count": null,
   "metadata": {},
   "outputs": [],
   "source": [
    "titanic.pivot_table(index = \"pclass\", values = \"survived\", aggfunc = sum)"
   ]
  },
  {
   "cell_type": "code",
   "execution_count": null,
   "metadata": {},
   "outputs": [],
   "source": [
    "titanic.pivot_table(index = \"pclass\", values = [\"age\",\"fare\",\"survived\"])"
   ]
  },
  {
   "cell_type": "code",
   "execution_count": null,
   "metadata": {},
   "outputs": [],
   "source": [
    "import numpy as np\n",
    "titanic.pivot_table(index=[\"pclass\", \"embarked\"], values = [\"survived\", \"fare\"], aggfunc = [np.mean,sum])"
   ]
  },
  {
   "cell_type": "markdown",
   "metadata": {},
   "source": [
    "### Exo : utiliser pivot table pour voir si différences de survie entre sexe persistent pour toutes les classes"
   ]
  },
  {
   "cell_type": "code",
   "execution_count": null,
   "metadata": {},
   "outputs": [],
   "source": [
    "titanic.pivot_table(index=[\"pclass\", \"sex\"], values=\"survived\", aggfunc = [np.mean, sum])"
   ]
  },
  {
   "cell_type": "markdown",
   "metadata": {},
   "source": [
    "### Exo : Après avoir lu la documentation, faites la même chose avec la méthode `groupby` "
   ]
  },
  {
   "cell_type": "markdown",
   "metadata": {},
   "source": [
    "## Tri et réindexation"
   ]
  },
  {
   "cell_type": "code",
   "execution_count": null,
   "metadata": {},
   "outputs": [],
   "source": [
    "new_titanic = titanic.sort_values(\"age\", ascending=False).copy()\n",
    "new_titanic.head(10)"
   ]
  },
  {
   "cell_type": "markdown",
   "metadata": {},
   "source": [
    "Nous avons déjà introduit les méthodes loc et iloc sans nous y arrêter vraiment. C'est l'occasion de le faire maintenant.\n",
    "\n",
    "Quelles différences entre les deux méthodes ? Regardez ce que donnent new_titanic.loc[9,:] et new_titanic.iloc[9,:] pour y voir plus clair..."
   ]
  },
  {
   "cell_type": "code",
   "execution_count": null,
   "metadata": {},
   "outputs": [],
   "source": [
    "new_titanic.loc[9,:]"
   ]
  },
  {
   "cell_type": "code",
   "execution_count": null,
   "metadata": {},
   "outputs": [],
   "source": [
    "new_titanic.iloc[9,:]"
   ]
  },
  {
   "cell_type": "markdown",
   "metadata": {},
   "source": [
    "On voit donc l'intérêt de réindexer les lignes d'un nouveau dataframe construit à partir d'un dataframe existant puisqu'en effet les indices de ligne ne correspondent plus aux numéros des lignes...\n"
   ]
  },
  {
   "cell_type": "code",
   "execution_count": null,
   "metadata": {},
   "outputs": [],
   "source": [
    "### méthode .reset_index()\n",
    "new_titanic.reset_index(inplace = True)\n",
    "### voir l'option drop pour ne pas avoir une nouvelle colonne avec l'ancien indice"
   ]
  },
  {
   "cell_type": "code",
   "execution_count": null,
   "metadata": {},
   "outputs": [],
   "source": [
    "# pour changer l'index par un autre index que les numéros de ligne on utilise .set_index()\n",
    "new_titanic.set_index(\"name\",inplace=True)\n",
    "new_titanic.reset_index()"
   ]
  },
  {
   "cell_type": "code",
   "execution_count": null,
   "metadata": {},
   "outputs": [],
   "source": [
    "very_new_titanic = new_titanic.set_index(\"pclass\").copy()"
   ]
  },
  {
   "cell_type": "code",
   "execution_count": null,
   "metadata": {},
   "outputs": [],
   "source": [
    "very_new_titanic.loc[1, \"fare\"]"
   ]
  },
  {
   "cell_type": "code",
   "execution_count": null,
   "metadata": {},
   "outputs": [],
   "source": [
    "titanic[\"age_label\"] = np.where(titanic.age < 18, \"mineur\",\n",
    "                                np.where(titanic.age >= 18, \n",
    "                                         \"majeur\", \"unknown\"))"
   ]
  },
  {
   "cell_type": "markdown",
   "metadata": {},
   "source": [
    "_Bonus_ : On peut arriver au même résultat en utilisant `np.where`"
   ]
  },
  {
   "cell_type": "markdown",
   "metadata": {},
   "source": [
    "### Exo : calculer le pourcentage de survie par groupe d'âge (majeur/mineur)"
   ]
  },
  {
   "cell_type": "markdown",
   "metadata": {},
   "source": [
    "Indication : l'exercice précédent a quasiment fait tout le boulot..."
   ]
  },
  {
   "cell_type": "code",
   "execution_count": null,
   "metadata": {},
   "outputs": [],
   "source": [
    "test = titanic.pivot_table(index = [\"age_label\", \"sex\"], values = \"survived\")"
   ]
  },
  {
   "cell_type": "code",
   "execution_count": null,
   "metadata": {},
   "outputs": [],
   "source": []
  }
 ],
 "metadata": {
  "kernelspec": {
   "display_name": "Python 3 (ipykernel)",
   "language": "python",
   "name": "python3"
  },
  "language_info": {
   "codemirror_mode": {
    "name": "ipython",
    "version": 3
   },
   "file_extension": ".py",
   "mimetype": "text/x-python",
   "name": "python",
   "nbconvert_exporter": "python",
   "pygments_lexer": "ipython3",
   "version": "3.8.13"
  },
  "vscode": {
   "interpreter": {
    "hash": "c7b3b6ea51dcb1fcbf48e8488b0be16d6146d6dc1a16bb156ed95d4e5e89cd73"
   }
  }
 },
 "nbformat": 4,
 "nbformat_minor": 4
}
