{
 "cells": [
  {
   "cell_type": "markdown",
   "metadata": {},
   "source": [
    "# Intro à l'analyse de données avec Numpy"
   ]
  },
  {
   "cell_type": "markdown",
   "metadata": {},
   "source": [
    "## Introduction à Numpy"
   ]
  },
  {
   "cell_type": "markdown",
   "metadata": {},
   "source": [
    "### Les listes"
   ]
  },
  {
   "cell_type": "code",
   "execution_count": 1,
   "metadata": {},
   "outputs": [
    {
     "data": {
      "text/plain": [
       "[['Bayonne', 64], ['Toulouse', 31], ['Bordeaux', 33]]"
      ]
     },
     "execution_count": 1,
     "metadata": {},
     "output_type": "execute_result"
    }
   ],
   "source": [
    "list_of_list =[[\"Bayonne\",64],[\"Toulouse\",31],[\"Bordeaux\",33]]\n",
    "list_of_list"
   ]
  },
  {
   "cell_type": "code",
   "execution_count": 2,
   "metadata": {},
   "outputs": [
    {
     "data": {
      "text/plain": [
       "'Toulouse'"
      ]
     },
     "execution_count": 2,
     "metadata": {},
     "output_type": "execute_result"
    }
   ],
   "source": [
    "list_of_list[1][0]"
   ]
  },
  {
   "cell_type": "code",
   "execution_count": 3,
   "metadata": {},
   "outputs": [
    {
     "data": {
      "text/plain": [
       "[1, 'plages', 8, 'montagne']"
      ]
     },
     "execution_count": 3,
     "metadata": {},
     "output_type": "execute_result"
    }
   ],
   "source": [
    "liste = [1,\"plages\",8]\n",
    "liste.append(\"montagne\")\n",
    "liste"
   ]
  },
  {
   "cell_type": "markdown",
   "metadata": {},
   "source": [
    "Avantages :\n",
    " - différents types de données\n",
    " - modification dynamique\n",
    " \n",
    "Inconvénients :\n",
    " - bcp de mémoire et d'énergie consommées\n",
    " - problème quand la taille des datasets augmente"
   ]
  },
  {
   "cell_type": "markdown",
   "metadata": {},
   "source": [
    "### Les tableaux"
   ]
  },
  {
   "cell_type": "markdown",
   "metadata": {},
   "source": [
    "#### Type ndarray = tableaux de dimensions n"
   ]
  },
  {
   "cell_type": "code",
   "execution_count": 4,
   "metadata": {},
   "outputs": [],
   "source": [
    "import numpy as np"
   ]
  },
  {
   "cell_type": "code",
   "execution_count": 5,
   "metadata": {},
   "outputs": [
    {
     "data": {
      "text/plain": [
       "(array([ 2,  4,  9, 17]), numpy.ndarray)"
      ]
     },
     "execution_count": 5,
     "metadata": {},
     "output_type": "execute_result"
    }
   ],
   "source": [
    "vector = np.array([2,4,9,17])\n",
    "vector, type(vector)"
   ]
  },
  {
   "cell_type": "code",
   "execution_count": 6,
   "metadata": {},
   "outputs": [
    {
     "data": {
      "text/plain": [
       "array([[ 1,  1, 18],\n",
       "       [23,  4, 90],\n",
       "       [17, 11, 87],\n",
       "       [18, 12, 88]])"
      ]
     },
     "execution_count": 6,
     "metadata": {},
     "output_type": "execute_result"
    }
   ],
   "source": [
    "matrix = np.array([[1,1,18],[23,4,90],[17,11,87],[18,12,88]])\n",
    "matrix"
   ]
  },
  {
   "cell_type": "code",
   "execution_count": 7,
   "metadata": {},
   "outputs": [
    {
     "data": {
      "text/plain": [
       "array([['1', '1', '18'],\n",
       "       ['23', '4', '90'],\n",
       "       ['17', '11', '87'],\n",
       "       ['18', '12', '88']], dtype='<U21')"
      ]
     },
     "execution_count": 7,
     "metadata": {},
     "output_type": "execute_result"
    }
   ],
   "source": [
    "matrix = np.array([[1,1,18],[23,\"4\",90],[17,11,87],[18,\"12\",88]])\n",
    "matrix"
   ]
  },
  {
   "cell_type": "code",
   "execution_count": 8,
   "metadata": {},
   "outputs": [
    {
     "data": {
      "text/plain": [
       "dtype('<U21')"
      ]
     },
     "execution_count": 8,
     "metadata": {},
     "output_type": "execute_result"
    }
   ],
   "source": [
    "matrix.dtype"
   ]
  },
  {
   "cell_type": "markdown",
   "metadata": {},
   "source": [
    "#### Taille d'un tableau"
   ]
  },
  {
   "cell_type": "code",
   "execution_count": 9,
   "metadata": {},
   "outputs": [
    {
     "name": "stdout",
     "output_type": "stream",
     "text": [
      "(4,)\n"
     ]
    }
   ],
   "source": [
    "# propriété shape\n",
    "print(vector.shape)"
   ]
  },
  {
   "cell_type": "code",
   "execution_count": 10,
   "metadata": {},
   "outputs": [
    {
     "name": "stdout",
     "output_type": "stream",
     "text": [
      "(4, 3)\n"
     ]
    }
   ],
   "source": [
    "print(matrix.shape)"
   ]
  },
  {
   "cell_type": "code",
   "execution_count": 11,
   "metadata": {},
   "outputs": [
    {
     "name": "stdout",
     "output_type": "stream",
     "text": [
      "4\n",
      "3\n"
     ]
    }
   ],
   "source": [
    "print(matrix.shape[0])\n",
    "print(matrix.shape[1])"
   ]
  },
  {
   "cell_type": "code",
   "execution_count": 12,
   "metadata": {},
   "outputs": [
    {
     "data": {
      "text/plain": [
       "(4, 4)"
      ]
     },
     "execution_count": 12,
     "metadata": {},
     "output_type": "execute_result"
    }
   ],
   "source": [
    "len(vector), len(matrix)"
   ]
  },
  {
   "cell_type": "code",
   "execution_count": 13,
   "metadata": {},
   "outputs": [
    {
     "name": "stdout",
     "output_type": "stream",
     "text": [
      "4 12\n"
     ]
    }
   ],
   "source": [
    "# méthode size\n",
    "print(vector.size,matrix.size)"
   ]
  },
  {
   "cell_type": "markdown",
   "metadata": {},
   "source": [
    "#### Lecture d'un fichier de données"
   ]
  },
  {
   "cell_type": "code",
   "execution_count": 14,
   "metadata": {},
   "outputs": [
    {
     "name": "stdout",
     "output_type": "stream",
     "text": [
      "<class 'numpy.ndarray'> float64\n"
     ]
    }
   ],
   "source": [
    "# numpy.genfromtxt() ou numpy.loadtxt()\n",
    "data0 = np.genfromtxt(\"Data/world-alcohol.csv\", delimiter = \",\")\n",
    "\n",
    "# les types de données classiques bool, int (16,32,64), float (16,32,64) et string\n",
    "print(type(data0),data0.dtype)"
   ]
  },
  {
   "cell_type": "code",
   "execution_count": 15,
   "metadata": {},
   "outputs": [
    {
     "data": {
      "text/plain": [
       "array([[      nan,       nan,       nan,       nan,       nan],\n",
       "       [1.986e+03,       nan,       nan,       nan, 0.000e+00],\n",
       "       [1.986e+03,       nan,       nan,       nan, 5.000e-01],\n",
       "       ...,\n",
       "       [1.986e+03,       nan,       nan,       nan, 2.540e+00],\n",
       "       [1.987e+03,       nan,       nan,       nan, 0.000e+00],\n",
       "       [1.986e+03,       nan,       nan,       nan, 5.150e+00]])"
      ]
     },
     "execution_count": 15,
     "metadata": {},
     "output_type": "execute_result"
    }
   ],
   "source": [
    "data0"
   ]
  },
  {
   "cell_type": "code",
   "execution_count": 16,
   "metadata": {},
   "outputs": [],
   "source": [
    "data1 = np.genfromtxt(\"Data/world-alcohol.csv\", delimiter = \",\", dtype=\"U75\")\n",
    "# afficher data0, data1 et data pour voir les effets et l'intérêt des paramètres dtype et skip_header"
   ]
  },
  {
   "cell_type": "code",
   "execution_count": 17,
   "metadata": {},
   "outputs": [
    {
     "data": {
      "text/plain": [
       "array([['Year', 'WHO region', 'Country', 'Beverage Types',\n",
       "        'Display Value'],\n",
       "       ['1986', 'Western Pacific', 'Viet Nam', 'Wine', '0'],\n",
       "       ['1986', 'Americas', 'Uruguay', 'Other', '0.5'],\n",
       "       ...,\n",
       "       ['1986', 'Europe', 'Switzerland', 'Spirits', '2.54'],\n",
       "       ['1987', 'Western Pacific', 'Papua New Guinea', 'Other', '0'],\n",
       "       ['1986', 'Africa', 'Swaziland', 'Other', '5.15']], dtype='<U75')"
      ]
     },
     "execution_count": 17,
     "metadata": {},
     "output_type": "execute_result"
    }
   ],
   "source": [
    "data1"
   ]
  },
  {
   "cell_type": "code",
   "execution_count": 18,
   "metadata": {},
   "outputs": [
    {
     "name": "stdout",
     "output_type": "stream",
     "text": [
      "[['1986' 'Western Pacific' 'Viet Nam' 'Wine' '0']\n",
      " ['1986' 'Americas' 'Uruguay' 'Other' '0.5']\n",
      " ['1985' 'Africa' \"Cte d'Ivoire\" 'Wine' '1.62']\n",
      " ...\n",
      " ['1986' 'Europe' 'Switzerland' 'Spirits' '2.54']\n",
      " ['1987' 'Western Pacific' 'Papua New Guinea' 'Other' '0']\n",
      " ['1986' 'Africa' 'Swaziland' 'Other' '5.15']]\n"
     ]
    }
   ],
   "source": [
    "data = np.genfromtxt(\"Data/world-alcohol.csv\", delimiter = \",\", dtype=\"U75\", skip_header =1)\n",
    "print(data)"
   ]
  },
  {
   "cell_type": "markdown",
   "metadata": {},
   "source": [
    "#### Extraction de valeurs et sous-ensembles"
   ]
  },
  {
   "cell_type": "markdown",
   "metadata": {},
   "source": [
    "Éxécuter les cellules suivantes pour voir et comprendre ce qui se passe. C'est ce qu'on appelle le *slicing*"
   ]
  },
  {
   "cell_type": "code",
   "execution_count": 19,
   "metadata": {},
   "outputs": [
    {
     "data": {
      "text/plain": [
       "'Wine'"
      ]
     },
     "execution_count": 19,
     "metadata": {},
     "output_type": "execute_result"
    }
   ],
   "source": [
    "data[0,3]"
   ]
  },
  {
   "cell_type": "code",
   "execution_count": 20,
   "metadata": {},
   "outputs": [
    {
     "data": {
      "text/plain": [
       "array(['1986', 'Western Pacific', 'Viet Nam', 'Wine', '0'], dtype='<U75')"
      ]
     },
     "execution_count": 20,
     "metadata": {},
     "output_type": "execute_result"
    }
   ],
   "source": [
    "data[0,:]"
   ]
  },
  {
   "cell_type": "code",
   "execution_count": 21,
   "metadata": {},
   "outputs": [
    {
     "data": {
      "text/plain": [
       "array(['Wine', 'Other', 'Wine', ..., 'Spirits', 'Other', 'Other'],\n",
       "      dtype='<U75')"
      ]
     },
     "execution_count": 21,
     "metadata": {},
     "output_type": "execute_result"
    }
   ],
   "source": [
    "data[:,3]"
   ]
  },
  {
   "cell_type": "code",
   "execution_count": 22,
   "metadata": {},
   "outputs": [
    {
     "name": "stdout",
     "output_type": "stream",
     "text": [
      "(3257, 5) (5, 3257)\n"
     ]
    }
   ],
   "source": [
    "print(data.shape,data.T.shape)"
   ]
  },
  {
   "cell_type": "code",
   "execution_count": 23,
   "metadata": {},
   "outputs": [
    {
     "data": {
      "text/plain": [
       "array(['Wine', 'Other', 'Wine', ..., 'Spirits', 'Other', 'Other'],\n",
       "      dtype='<U75')"
      ]
     },
     "execution_count": 23,
     "metadata": {},
     "output_type": "execute_result"
    }
   ],
   "source": [
    "data.T[3,:]"
   ]
  },
  {
   "cell_type": "code",
   "execution_count": 24,
   "metadata": {},
   "outputs": [
    {
     "data": {
      "text/plain": [
       "array([['1986', 'Western Pacific', 'Viet Nam', 'Wine', '0'],\n",
       "       ['1986', 'Americas', 'Uruguay', 'Other', '0.5'],\n",
       "       ['1985', 'Africa', \"Cte d'Ivoire\", 'Wine', '1.62']], dtype='<U75')"
      ]
     },
     "execution_count": 24,
     "metadata": {},
     "output_type": "execute_result"
    }
   ],
   "source": [
    "data[0:3,:]"
   ]
  },
  {
   "cell_type": "code",
   "execution_count": 25,
   "metadata": {},
   "outputs": [
    {
     "data": {
      "text/plain": [
       "array([['1986', 'Western Pacific'],\n",
       "       ['1986', 'Americas'],\n",
       "       ['1985', 'Africa']], dtype='<U75')"
      ]
     },
     "execution_count": 25,
     "metadata": {},
     "output_type": "execute_result"
    }
   ],
   "source": [
    "data[:3,:2]"
   ]
  },
  {
   "cell_type": "code",
   "execution_count": 26,
   "metadata": {},
   "outputs": [
    {
     "data": {
      "text/plain": [
       "array([['Viet Nam', 'Wine', '0'],\n",
       "       ['Uruguay', 'Other', '0.5'],\n",
       "       [\"Cte d'Ivoire\", 'Wine', '1.62'],\n",
       "       ...,\n",
       "       ['Switzerland', 'Spirits', '2.54'],\n",
       "       ['Papua New Guinea', 'Other', '0'],\n",
       "       ['Swaziland', 'Other', '5.15']], dtype='<U75')"
      ]
     },
     "execution_count": 26,
     "metadata": {},
     "output_type": "execute_result"
    }
   ],
   "source": [
    "data[:,2:5]"
   ]
  },
  {
   "cell_type": "code",
   "execution_count": 27,
   "metadata": {},
   "outputs": [
    {
     "data": {
      "text/plain": [
       "array([['Wine', '0'],\n",
       "       ['Other', '0.5'],\n",
       "       ['Wine', '1.62'],\n",
       "       ...,\n",
       "       ['Spirits', '2.54'],\n",
       "       ['Other', '0'],\n",
       "       ['Other', '5.15']], dtype='<U75')"
      ]
     },
     "execution_count": 27,
     "metadata": {},
     "output_type": "execute_result"
    }
   ],
   "source": [
    "data[:,-2:]"
   ]
  },
  {
   "cell_type": "markdown",
   "metadata": {},
   "source": [
    "## Analyse de données avec Numpy"
   ]
  },
  {
   "cell_type": "code",
   "execution_count": 28,
   "metadata": {},
   "outputs": [],
   "source": [
    "### On travaille sur les mêmes données\n",
    "data = np.genfromtxt(\"Data/world-alcohol.csv\", delimiter = \",\", dtype=\"U75\", skip_header =1)"
   ]
  },
  {
   "cell_type": "markdown",
   "metadata": {},
   "source": [
    "### Comparer"
   ]
  },
  {
   "cell_type": "markdown",
   "metadata": {},
   "source": [
    "Possibilité d'effectuer des comparaisons est ce qui rend la bibliothèque Numpy très intéressante !"
   ]
  },
  {
   "cell_type": "code",
   "execution_count": 29,
   "metadata": {},
   "outputs": [
    {
     "data": {
      "text/plain": [
       "array([ 2,  4,  9, 17])"
      ]
     },
     "execution_count": 29,
     "metadata": {},
     "output_type": "execute_result"
    }
   ],
   "source": [
    "vector"
   ]
  },
  {
   "cell_type": "code",
   "execution_count": 30,
   "metadata": {},
   "outputs": [
    {
     "data": {
      "text/plain": [
       "array([False, False,  True,  True])"
      ]
     },
     "execution_count": 30,
     "metadata": {},
     "output_type": "execute_result"
    }
   ],
   "source": [
    "vector>=9"
   ]
  },
  {
   "cell_type": "code",
   "execution_count": 31,
   "metadata": {},
   "outputs": [
    {
     "data": {
      "text/plain": [
       "array([ 9, 17])"
      ]
     },
     "execution_count": 31,
     "metadata": {},
     "output_type": "execute_result"
    }
   ],
   "source": [
    "vector[vector>=9]"
   ]
  },
  {
   "cell_type": "code",
   "execution_count": 32,
   "metadata": {},
   "outputs": [
    {
     "data": {
      "text/plain": [
       "array([False, False, False, ..., False, False, False])"
      ]
     },
     "execution_count": 32,
     "metadata": {},
     "output_type": "execute_result"
    }
   ],
   "source": [
    "data[:,2]=='France'"
   ]
  },
  {
   "cell_type": "code",
   "execution_count": 33,
   "metadata": {},
   "outputs": [
    {
     "data": {
      "text/plain": [
       "array([['1985', 'Europe', 'France', 'Spirits', '2.7'],\n",
       "       ['1989', 'Europe', 'France', 'Wine', '10.24'],\n",
       "       ['1986', 'Europe', 'France', 'Other', '0.25'],\n",
       "       ['1989', 'Europe', 'France', 'Other', '0.27'],\n",
       "       ['1984', 'Europe', 'France', 'Spirits', '2.58'],\n",
       "       ['1987', 'Europe', 'France', 'Beer', '2.45'],\n",
       "       ['1986', 'Europe', 'France', 'Spirits', '2.71'],\n",
       "       ['1989', 'Europe', 'France', 'Beer', '2.56'],\n",
       "       ['1986', 'Europe', 'France', 'Beer', '2.55'],\n",
       "       ['1984', 'Europe', 'France', 'Beer', '2.62'],\n",
       "       ['1984', 'Europe', 'France', 'Other', '0.24'],\n",
       "       ['1985', 'Europe', 'France', 'Wine', '11.1'],\n",
       "       ['1985', 'Europe', 'France', 'Other', '0.25'],\n",
       "       ['1986', 'Europe', 'France', 'Wine', '10.62'],\n",
       "       ['1989', 'Europe', 'France', 'Spirits', '2.98'],\n",
       "       ['1985', 'Europe', 'France', 'Beer', '2.54'],\n",
       "       ['1987', 'Europe', 'France', 'Wine', '10.42'],\n",
       "       ['1984', 'Europe', 'France', 'Wine', '11.45'],\n",
       "       ['1987', 'Europe', 'France', 'Other', '0.26'],\n",
       "       ['1987', 'Europe', 'France', 'Spirits', '2.77']], dtype='<U75')"
      ]
     },
     "execution_count": 33,
     "metadata": {},
     "output_type": "execute_result"
    }
   ],
   "source": [
    "data[data[:,2]=='France', ]"
   ]
  },
  {
   "cell_type": "code",
   "execution_count": 34,
   "metadata": {},
   "outputs": [
    {
     "data": {
      "text/plain": [
       "array([['1985', 'Europe', 'France', 'Spirits', '2.7'],\n",
       "       ['1984', 'Americas', 'Canada', 'Spirits', '3.35'],\n",
       "       ['1989', 'Europe', 'France', 'Wine', '10.24'],\n",
       "       ['1989', 'Americas', 'Canada', 'Wine', '1.27'],\n",
       "       ['1984', 'Americas', 'Canada', 'Beer', '5'],\n",
       "       ['1985', 'Americas', 'Canada', 'Beer', '4.94'],\n",
       "       ['1986', 'Europe', 'France', 'Other', '0.25'],\n",
       "       ['1987', 'Americas', 'Canada', 'Wine', '1.3'],\n",
       "       ['1989', 'Europe', 'France', 'Other', '0.27'],\n",
       "       ['1987', 'Americas', 'Canada', 'Beer', '4.83'],\n",
       "       ['1984', 'Europe', 'France', 'Spirits', '2.58'],\n",
       "       ['1987', 'Europe', 'France', 'Beer', '2.45'],\n",
       "       ['1986', 'Americas', 'Canada', 'Other', ''],\n",
       "       ['1986', 'Europe', 'France', 'Spirits', '2.71'],\n",
       "       ['1989', 'Europe', 'France', 'Beer', '2.56'],\n",
       "       ['1986', 'Europe', 'France', 'Beer', '2.55'],\n",
       "       ['1986', 'Americas', 'Canada', 'Spirits', '3.11'],\n",
       "       ['1985', 'Americas', 'Canada', 'Spirits', '3.21'],\n",
       "       ['1984', 'Europe', 'France', 'Beer', '2.62'],\n",
       "       ['1984', 'Europe', 'France', 'Other', '0.24'],\n",
       "       ['1985', 'Americas', 'Canada', 'Other', ''],\n",
       "       ['1986', 'Americas', 'Canada', 'Beer', '4.87'],\n",
       "       ['1985', 'Europe', 'France', 'Wine', '11.1'],\n",
       "       ['1984', 'Americas', 'Canada', 'Wine', '1.24'],\n",
       "       ['1985', 'Europe', 'France', 'Other', '0.25'],\n",
       "       ['1986', 'Europe', 'France', 'Wine', '10.62'],\n",
       "       ['1989', 'Europe', 'France', 'Spirits', '2.98'],\n",
       "       ['1985', 'Europe', 'France', 'Beer', '2.54'],\n",
       "       ['1989', 'Americas', 'Canada', 'Spirits', '2.91'],\n",
       "       ['1987', 'Europe', 'France', 'Wine', '10.42'],\n",
       "       ['1984', 'Europe', 'France', 'Wine', '11.45'],\n",
       "       ['1987', 'Europe', 'France', 'Other', '0.26'],\n",
       "       ['1984', 'Americas', 'Canada', 'Other', ''],\n",
       "       ['1985', 'Americas', 'Canada', 'Wine', '1.29'],\n",
       "       ['1987', 'Americas', 'Canada', 'Spirits', '2.99'],\n",
       "       ['1989', 'Americas', 'Canada', 'Beer', '4.82'],\n",
       "       ['1989', 'Americas', 'Canada', 'Other', ''],\n",
       "       ['1986', 'Americas', 'Canada', 'Wine', '1.33'],\n",
       "       ['1987', 'Europe', 'France', 'Spirits', '2.77'],\n",
       "       ['1987', 'Americas', 'Canada', 'Other', '']], dtype='<U75')"
      ]
     },
     "execution_count": 34,
     "metadata": {},
     "output_type": "execute_result"
    }
   ],
   "source": [
    "data[(data[:,2]=='Canada')|(data[:,2]=='France'), :]"
   ]
  },
  {
   "cell_type": "code",
   "execution_count": 35,
   "metadata": {},
   "outputs": [
    {
     "data": {
      "text/plain": [
       "array([['1986', 'Europe', 'France', 'Other', '0.25'],\n",
       "       ['1986', 'Americas', 'Canada', 'Other', ''],\n",
       "       ['1986', 'Europe', 'France', 'Spirits', '2.71'],\n",
       "       ['1986', 'Europe', 'France', 'Beer', '2.55'],\n",
       "       ['1986', 'Americas', 'Canada', 'Spirits', '3.11'],\n",
       "       ['1986', 'Americas', 'Canada', 'Beer', '4.87'],\n",
       "       ['1986', 'Europe', 'France', 'Wine', '10.62'],\n",
       "       ['1986', 'Americas', 'Canada', 'Wine', '1.33']], dtype='<U75')"
      ]
     },
     "execution_count": 35,
     "metadata": {},
     "output_type": "execute_result"
    }
   ],
   "source": [
    "data[((data[:,2]=='Canada') | (data[:,2]=='France')) & (data[:,0] == '1986')]"
   ]
  },
  {
   "cell_type": "code",
   "execution_count": 36,
   "metadata": {},
   "outputs": [
    {
     "data": {
      "text/plain": [
       "array([['1986', 'Europe', 'France', 'Other', '0.25'],\n",
       "       ['1986', 'Americas', 'Canada', 'Other', ''],\n",
       "       ['1986', 'Europe', 'France', 'Spirits', '2.71'],\n",
       "       ['1986', 'Europe', 'France', 'Beer', '2.55'],\n",
       "       ['1986', 'Americas', 'Canada', 'Spirits', '3.11'],\n",
       "       ['1986', 'Americas', 'Canada', 'Beer', '4.87'],\n",
       "       ['1986', 'Europe', 'France', 'Wine', '10.62'],\n",
       "       ['1986', 'Americas', 'Canada', 'Wine', '1.33']], dtype='<U75')"
      ]
     },
     "execution_count": 36,
     "metadata": {},
     "output_type": "execute_result"
    }
   ],
   "source": [
    "data86 = data[data[:,0] == '1986']\n",
    "data86[(data86[:,2]=='Canada') | (data86[:,2]=='France')]"
   ]
  },
  {
   "cell_type": "markdown",
   "metadata": {},
   "source": [
    "### Remplacer des valeurs"
   ]
  },
  {
   "cell_type": "code",
   "execution_count": 37,
   "metadata": {},
   "outputs": [
    {
     "data": {
      "text/plain": [
       "array([['2018', 'Western Pacific', 'Viet Nam', 'Wine', '0'],\n",
       "       ['2018', 'Americas', 'Uruguay', 'Other', '0.5'],\n",
       "       ['1985', 'Africa', \"Cte d'Ivoire\", 'Wine', '1.62'],\n",
       "       ...,\n",
       "       ['2018', 'Europe', 'Switzerland', 'Spirits', '2.54'],\n",
       "       ['1987', 'Western Pacific', 'Papua New Guinea', 'Other', '0'],\n",
       "       ['2018', 'Africa', 'Swaziland', 'Other', '5.15']], dtype='<U75')"
      ]
     },
     "execution_count": 37,
     "metadata": {},
     "output_type": "execute_result"
    }
   ],
   "source": [
    "data2=data.copy()\n",
    "data2[data2[:,0]=='1986', 0]='2018'\n",
    "data2"
   ]
  },
  {
   "cell_type": "markdown",
   "metadata": {},
   "source": [
    "### Convertir des types de données"
   ]
  },
  {
   "cell_type": "code",
   "execution_count": 38,
   "metadata": {},
   "outputs": [
    {
     "data": {
      "text/plain": [
       "array([0.  , 0.5 , 1.62, ..., 2.54, 0.  , 5.15])"
      ]
     },
     "execution_count": 38,
     "metadata": {},
     "output_type": "execute_result"
    }
   ],
   "source": [
    "### pour effectuer des calculs sur la consommation moyenne, celle-ci doit être numérique\n",
    "### or pour le moment il s'agit d'un string (conséquence du dtype=\"U75\")\n",
    "\n",
    "### On utilise la méthode .astype()\n",
    "mon_filtre_valeurs_vide = (data[:,4] == '')\n",
    "data[mon_filtre_valeurs_vide, 4] = '0'\n",
    "consommation = data[:,4].astype(float)\n",
    "consommation"
   ]
  },
  {
   "cell_type": "markdown",
   "metadata": {},
   "source": [
    "### Calculs avec Numpy"
   ]
  },
  {
   "cell_type": "code",
   "execution_count": 39,
   "metadata": {},
   "outputs": [
    {
     "data": {
      "text/plain": [
       "array([ 2,  4,  9, 17])"
      ]
     },
     "execution_count": 39,
     "metadata": {},
     "output_type": "execute_result"
    }
   ],
   "source": [
    "### sum(), mean(), max(), ...\n",
    "vector"
   ]
  },
  {
   "cell_type": "code",
   "execution_count": 40,
   "metadata": {},
   "outputs": [
    {
     "data": {
      "text/plain": [
       "32"
      ]
     },
     "execution_count": 40,
     "metadata": {},
     "output_type": "execute_result"
    }
   ],
   "source": [
    "sum(vector)"
   ]
  },
  {
   "cell_type": "code",
   "execution_count": 41,
   "metadata": {},
   "outputs": [
    {
     "data": {
      "text/plain": [
       "32"
      ]
     },
     "execution_count": 41,
     "metadata": {},
     "output_type": "execute_result"
    }
   ],
   "source": [
    "vector.sum()"
   ]
  },
  {
   "cell_type": "code",
   "execution_count": 42,
   "metadata": {},
   "outputs": [
    {
     "data": {
      "text/plain": [
       "8.0"
      ]
     },
     "execution_count": 42,
     "metadata": {},
     "output_type": "execute_result"
    }
   ],
   "source": [
    "vector.mean()"
   ]
  },
  {
   "cell_type": "code",
   "execution_count": 43,
   "metadata": {},
   "outputs": [
    {
     "data": {
      "text/plain": [
       "17"
      ]
     },
     "execution_count": 43,
     "metadata": {},
     "output_type": "execute_result"
    }
   ],
   "source": [
    "vector.max()"
   ]
  },
  {
   "cell_type": "code",
   "execution_count": 44,
   "metadata": {},
   "outputs": [
    {
     "data": {
      "text/plain": [
       "2"
      ]
     },
     "execution_count": 44,
     "metadata": {},
     "output_type": "execute_result"
    }
   ],
   "source": [
    "vector.min()"
   ]
  },
  {
   "cell_type": "code",
   "execution_count": 45,
   "metadata": {},
   "outputs": [
    {
     "data": {
      "text/plain": [
       "array([[ 1,  1, 18],\n",
       "       [23,  4, 90],\n",
       "       [17, 11, 87],\n",
       "       [18, 12, 88]])"
      ]
     },
     "execution_count": 45,
     "metadata": {},
     "output_type": "execute_result"
    }
   ],
   "source": [
    "matrix = matrix.astype(int)\n",
    "matrix"
   ]
  },
  {
   "cell_type": "code",
   "execution_count": 46,
   "metadata": {},
   "outputs": [
    {
     "data": {
      "text/plain": [
       "283"
      ]
     },
     "execution_count": 46,
     "metadata": {},
     "output_type": "execute_result"
    }
   ],
   "source": [
    "matrix[:,2].sum()"
   ]
  },
  {
   "cell_type": "code",
   "execution_count": 47,
   "metadata": {},
   "outputs": [
    {
     "data": {
      "text/plain": [
       "array([ 59,  28, 283])"
      ]
     },
     "execution_count": 47,
     "metadata": {},
     "output_type": "execute_result"
    }
   ],
   "source": [
    "matrix.sum(axis=0)"
   ]
  },
  {
   "cell_type": "code",
   "execution_count": 48,
   "metadata": {},
   "outputs": [
    {
     "data": {
      "text/plain": [
       "array([ 20, 117, 115, 118])"
      ]
     },
     "execution_count": 48,
     "metadata": {},
     "output_type": "execute_result"
    }
   ],
   "source": [
    "matrix.sum(axis=1)"
   ]
  },
  {
   "cell_type": "code",
   "execution_count": 49,
   "metadata": {},
   "outputs": [
    {
     "data": {
      "text/plain": [
       "283"
      ]
     },
     "execution_count": 49,
     "metadata": {},
     "output_type": "execute_result"
    }
   ],
   "source": [
    "matrix.sum(axis=0)[2]"
   ]
  },
  {
   "cell_type": "code",
   "execution_count": 50,
   "metadata": {},
   "outputs": [
    {
     "name": "stdout",
     "output_type": "stream",
     "text": [
      "[ 20 117 115 118]  et  [ 59  28 283]\n"
     ]
    }
   ],
   "source": [
    "print(matrix.sum(axis=1),' et ', matrix.sum(axis=0))"
   ]
  },
  {
   "cell_type": "code",
   "execution_count": 51,
   "metadata": {},
   "outputs": [
    {
     "name": "stdout",
     "output_type": "stream",
     "text": [
      "[18 90 87 88]  et  [23 12 90]\n"
     ]
    }
   ],
   "source": [
    "print(matrix.max(axis=1),' et ', matrix.max(axis=0))"
   ]
  },
  {
   "cell_type": "code",
   "execution_count": 52,
   "metadata": {},
   "outputs": [
    {
     "name": "stdout",
     "output_type": "stream",
     "text": [
      "[ 6.66666667 39.         38.33333333 39.33333333]  et  [14.75  7.   70.75]\n"
     ]
    }
   ],
   "source": [
    "print(matrix.mean(axis=1),' et ', matrix.mean(axis=0))"
   ]
  },
  {
   "cell_type": "markdown",
   "metadata": {},
   "source": [
    "## Exo : comparer les consommations annuelles d'alcool par pays et déterminer le pays qui a la plus grande consommation d'alcool"
   ]
  },
  {
   "cell_type": "code",
   "execution_count": 53,
   "metadata": {},
   "outputs": [
    {
     "name": "stdout",
     "output_type": "stream",
     "text": [
      "(3035, 5)\n"
     ]
    },
    {
     "data": {
      "text/plain": [
       "array([['1986', 'Western Pacific', 'Viet Nam', 'Wine', '0'],\n",
       "       ['1986', 'Americas', 'Uruguay', 'Other', '0.5'],\n",
       "       ['1985', 'Africa', \"Cte d'Ivoire\", 'Wine', '1.62'],\n",
       "       ...,\n",
       "       ['1986', 'Europe', 'Switzerland', 'Spirits', '2.54'],\n",
       "       ['1987', 'Western Pacific', 'Papua New Guinea', 'Other', '0'],\n",
       "       ['1986', 'Africa', 'Swaziland', 'Other', '5.15']], dtype='<U75')"
      ]
     },
     "execution_count": 53,
     "metadata": {},
     "output_type": "execute_result"
    }
   ],
   "source": [
    "import numpy as np\n",
    "data = np.genfromtxt(\"Data/world-alcohol.csv\", delimiter = \",\", dtype=\"U75\", skip_header =1)\n",
    "data = data[data[:,4]!='']\n",
    "print(data.shape)\n",
    "data"
   ]
  },
  {
   "cell_type": "code",
   "execution_count": 54,
   "metadata": {},
   "outputs": [
    {
     "data": {
      "text/plain": [
       "16.13"
      ]
     },
     "execution_count": 54,
     "metadata": {},
     "output_type": "execute_result"
    }
   ],
   "source": [
    "#Conso totale en Fr en 86\n",
    "data[(data[:, 2] == \"France\") & (data[:, 0] == \"1986\"), 4].astype(float).sum()"
   ]
  },
  {
   "cell_type": "code",
   "execution_count": 55,
   "metadata": {},
   "outputs": [
    {
     "data": {
      "text/plain": [
       "53.83"
      ]
     },
     "execution_count": 55,
     "metadata": {},
     "output_type": "execute_result"
    }
   ],
   "source": [
    "# Conso totale de vins en Fr\n",
    "data[(data[:, 2] == \"France\") & (data[:, 3] == \"Wine\"), 4].astype(float).sum()"
   ]
  },
  {
   "cell_type": "code",
   "execution_count": 56,
   "metadata": {},
   "outputs": [
    {
     "data": {
      "text/plain": [
       "10.766"
      ]
     },
     "execution_count": 56,
     "metadata": {},
     "output_type": "execute_result"
    }
   ],
   "source": [
    "np.mean(data[(data[:, 2] == \"France\") & (data[:, 3] == \"Wine\"), 4].astype(float))"
   ]
  },
  {
   "cell_type": "code",
   "execution_count": 57,
   "metadata": {},
   "outputs": [
    {
     "data": {
      "text/plain": [
       "10.766"
      ]
     },
     "execution_count": 57,
     "metadata": {},
     "output_type": "execute_result"
    }
   ],
   "source": [
    "# Conso moyenne de vins en Fr\n",
    "data[(data[:, 2] == \"France\") & (data[:, 3] == \"Wine\"), 4].astype(float).mean()"
   ]
  },
  {
   "cell_type": "code",
   "execution_count": 58,
   "metadata": {},
   "outputs": [
    {
     "data": {
      "text/plain": [
       "11.45"
      ]
     },
     "execution_count": 58,
     "metadata": {},
     "output_type": "execute_result"
    }
   ],
   "source": [
    "# Conso max de vins en Fr\n",
    "max_vins = np.max(data[(data[:, 2] == \"France\") & (data[:, 3] == \"Wine\"), 4].astype(float))\n",
    "max_vins"
   ]
  },
  {
   "cell_type": "code",
   "execution_count": 59,
   "metadata": {},
   "outputs": [
    {
     "data": {
      "text/plain": [
       "array(['1984'], dtype='<U75')"
      ]
     },
     "execution_count": 59,
     "metadata": {},
     "output_type": "execute_result"
    }
   ],
   "source": [
    "data[data[:, 4].astype(float) == max_vins, 0]"
   ]
  },
  {
   "cell_type": "code",
   "execution_count": 60,
   "metadata": {},
   "outputs": [
    {
     "data": {
      "text/plain": [
       "'1984'"
      ]
     },
     "execution_count": 60,
     "metadata": {},
     "output_type": "execute_result"
    }
   ],
   "source": [
    "# \n",
    "vins_fra = data[(data[:, 2] == \"France\") & (data[:, 3] == \"Wine\"), :]\n",
    "vins_fra[np.argmax(vins_fra[:, 4].astype(float)), 0]"
   ]
  },
  {
   "cell_type": "code",
   "execution_count": 66,
   "metadata": {
    "collapsed": true
   },
   "outputs": [
    {
     "data": {
      "text/plain": [
       "{'Afghanistan': {'1984': 0.0,\n",
       "  '1985': 0.0,\n",
       "  '1986': 0.0,\n",
       "  '1987': 0.0,\n",
       "  '1989': 0.0},\n",
       " 'Albania': {'1984': 1.58,\n",
       "  '1985': 1.6,\n",
       "  '1986': 1.38,\n",
       "  '1987': 1.63,\n",
       "  '1989': 1.73},\n",
       " 'Algeria': {'1984': 0.33,\n",
       "  '1985': 0.31,\n",
       "  '1986': 0.29,\n",
       "  '1987': 0.28,\n",
       "  '1989': 0.4},\n",
       " 'Angola': {'1984': 1.94,\n",
       "  '1985': 2.06,\n",
       "  '1986': 1.7,\n",
       "  '1987': 1.6300000000000001,\n",
       "  '1989': 2.28},\n",
       " 'Antigua and Barbuda': {'1984': 5.41,\n",
       "  '1985': 3.58,\n",
       "  '1986': 3.55,\n",
       "  '1987': 3.68,\n",
       "  '1989': 4.69},\n",
       " 'Argentina': {'1984': 13.839999999999998,\n",
       "  '1985': 12.749999999999998,\n",
       "  '1986': 12.89,\n",
       "  '1987': 12.759999999999998,\n",
       "  '1989': 10.82},\n",
       " 'Australia': {'1984': 12.73,\n",
       "  '1985': 12.9,\n",
       "  '1986': 12.3,\n",
       "  '1987': 12.46,\n",
       "  '1989': 12.09},\n",
       " 'Austria': {'1984': 13.9,\n",
       "  '1985': 13.3,\n",
       "  '1986': 13.6,\n",
       "  '1987': 13.5,\n",
       "  '1989': 13.9},\n",
       " 'Bahamas': {'1984': 14.74,\n",
       "  '1985': 14.55,\n",
       "  '1986': 14.120000000000001,\n",
       "  '1987': 14.139999999999999,\n",
       "  '1989': 12.290000000000001},\n",
       " 'Bahrain': {'1984': 6.53,\n",
       "  '1985': 5.45,\n",
       "  '1986': 5.11,\n",
       "  '1987': 5.5600000000000005,\n",
       "  '1989': 4.89},\n",
       " 'Bangladesh': {'1984': 0.0,\n",
       "  '1985': 0.0,\n",
       "  '1986': 0.0,\n",
       "  '1987': 0.0,\n",
       "  '1989': 0.0},\n",
       " 'Belarus': {'1984': 0.0,\n",
       "  '1985': 0.0,\n",
       "  '1986': 0.0,\n",
       "  '1987': 0.0,\n",
       "  '1989': 7.9799999999999995},\n",
       " 'Belgium': {'1984': 13.26,\n",
       "  '1985': 13.14,\n",
       "  '1986': 12.72,\n",
       "  '1987': 13.16,\n",
       "  '1989': 11.61},\n",
       " 'Belize': {'1984': 6.199999999999999,\n",
       "  '1985': 6.17,\n",
       "  '1986': 5.73,\n",
       "  '1987': 4.6499999999999995,\n",
       "  '1989': 0.0},\n",
       " 'Benin': {'1984': 1.43,\n",
       "  '1985': 1.24,\n",
       "  '1986': 1.26,\n",
       "  '1987': 1.54,\n",
       "  '1989': 1.3800000000000001},\n",
       " 'Bhutan': {'1984': 0.51,\n",
       "  '1985': 0.5,\n",
       "  '1986': 0.46,\n",
       "  '1987': 0.46,\n",
       "  '1989': 0.31},\n",
       " 'Bolivia (Plurinational State of)': {'1984': 2.9899999999999998,\n",
       "  '1985': 3.4099999999999997,\n",
       "  '1986': 3.29,\n",
       "  '1987': 3.06,\n",
       "  '1989': 3.05},\n",
       " 'Botswana': {'1984': 4.33,\n",
       "  '1985': 4.3500000000000005,\n",
       "  '1986': 4.4799999999999995,\n",
       "  '1987': 4.26,\n",
       "  '1989': 4.63},\n",
       " 'Brazil': {'1984': 3.7199999999999998,\n",
       "  '1985': 3.7899999999999996,\n",
       "  '1986': 4.13,\n",
       "  '1987': 3.94,\n",
       "  '1989': 5.52},\n",
       " 'Brunei Darussalam': {'1984': 4.06,\n",
       "  '1985': 3.3099999999999996,\n",
       "  '1986': 2.5300000000000002,\n",
       "  '1987': 2.8899999999999997,\n",
       "  '1989': 2.7800000000000002},\n",
       " 'Bulgaria': {'1984': 11.370000000000001,\n",
       "  '1985': 10.92,\n",
       "  '1986': 11.47,\n",
       "  '1987': 10.91,\n",
       "  '1989': 11.43},\n",
       " 'Burkina Faso': {'1984': 3.3,\n",
       "  '1985': 3.11,\n",
       "  '1986': 3.71,\n",
       "  '1987': 4.069999999999999,\n",
       "  '1989': 3.99},\n",
       " 'Burundi': {'1984': 7.43,\n",
       "  '1985': 8.26,\n",
       "  '1986': 8.35,\n",
       "  '1987': 8.22,\n",
       "  '1989': 8.159999999999998},\n",
       " 'Cabo Verde': {'1984': 2.62,\n",
       "  '1985': 2.5,\n",
       "  '1986': 2.92,\n",
       "  '1987': 3.36,\n",
       "  '1989': 2.79},\n",
       " 'Cambodia': {'1984': 0.3,\n",
       "  '1985': 0.25,\n",
       "  '1986': 0.22,\n",
       "  '1987': 0.22,\n",
       "  '1989': 0.33},\n",
       " 'Cameroon': {'1984': 5.97,\n",
       "  '1985': 6.21,\n",
       "  '1986': 6.5,\n",
       "  '1987': 6.500000000000001,\n",
       "  '1989': 6.359999999999999},\n",
       " 'Canada': {'1984': 9.59,\n",
       "  '1985': 9.440000000000001,\n",
       "  '1986': 9.31,\n",
       "  '1987': 9.120000000000001,\n",
       "  '1989': 9.0},\n",
       " 'Central African Republic': {'1984': 2.5,\n",
       "  '1985': 2.7999999999999994,\n",
       "  '1986': 2.94,\n",
       "  '1987': 2.7800000000000002,\n",
       "  '1989': 2.5199999999999996},\n",
       " 'Chad': {'1984': 0.33999999999999997,\n",
       "  '1985': 0.4,\n",
       "  '1986': 0.32,\n",
       "  '1987': 0.30000000000000004,\n",
       "  '1989': 0.30000000000000004},\n",
       " 'Chile': {'1984': 10.04,\n",
       "  '1985': 9.719999999999999,\n",
       "  '1986': 8.93,\n",
       "  '1987': 9.49,\n",
       "  '1989': 8.649999999999999},\n",
       " 'China': {'1984': 2.36,\n",
       "  '1985': 2.0500000000000003,\n",
       "  '1986': 2.38,\n",
       "  '1987': 3.1599999999999997,\n",
       "  '1989': 3.33},\n",
       " 'Colombia': {'1984': 6.18,\n",
       "  '1985': 6.33,\n",
       "  '1986': 6.609999999999999,\n",
       "  '1987': 6.819999999999999,\n",
       "  '1989': 6.960000000000001},\n",
       " 'Comoros': {'1984': 0.5,\n",
       "  '1985': 0.37,\n",
       "  '1986': 0.16,\n",
       "  '1987': 0.08,\n",
       "  '1989': 0.10999999999999999},\n",
       " 'Congo': {'1984': 6.1899999999999995,\n",
       "  '1985': 5.699999999999999,\n",
       "  '1986': 5.4,\n",
       "  '1987': 4.76,\n",
       "  '1989': 3.1500000000000004},\n",
       " 'Costa Rica': {'1984': 4.869999999999999,\n",
       "  '1985': 5.04,\n",
       "  '1986': 4.859999999999999,\n",
       "  '1987': 4.2299999999999995,\n",
       "  '1989': 5.3999999999999995},\n",
       " 'Croatia': {'1984': 0.0,\n",
       "  '1985': 0.0,\n",
       "  '1986': 0.0,\n",
       "  '1987': 13.51,\n",
       "  '1989': 10.92},\n",
       " \"Cte d'Ivoire\": {'1984': 2.76,\n",
       "  '1985': 3.12,\n",
       "  '1986': 2.8000000000000003,\n",
       "  '1987': 2.49,\n",
       "  '1989': 2.2},\n",
       " 'Cuba': {'1984': 3.75,\n",
       "  '1985': 3.96,\n",
       "  '1986': 4.04,\n",
       "  '1987': 4.37,\n",
       "  '1989': 4.37},\n",
       " 'Cyprus': {'1984': 7.609999999999999,\n",
       "  '1985': 7.93,\n",
       "  '1986': 8.32,\n",
       "  '1987': 8.870000000000001,\n",
       "  '1989': 9.29},\n",
       " 'Czech Republic': {'1984': 14.29,\n",
       "  '1985': 14.24,\n",
       "  '1986': 13.01,\n",
       "  '1987': 13.2,\n",
       "  '1989': 13.009999999999998},\n",
       " \"Democratic People's Republic of Korea\": {'1984': 3.33,\n",
       "  '1985': 3.47,\n",
       "  '1986': 3.5100000000000002,\n",
       "  '1987': 3.5900000000000003,\n",
       "  '1989': 3.6799999999999997},\n",
       " 'Democratic Republic of the Congo': {'1984': 2.27,\n",
       "  '1985': 2.69,\n",
       "  '1986': 2.34,\n",
       "  '1987': 2.3599999999999994,\n",
       "  '1989': 1.92},\n",
       " 'Denmark': {'1984': 12.4,\n",
       "  '1985': 12.200000000000001,\n",
       "  '1986': 12.26,\n",
       "  '1987': 11.74,\n",
       "  '1989': 11.649999999999999},\n",
       " 'Djibouti': {'1984': 2.4699999999999998,\n",
       "  '1985': 2.95,\n",
       "  '1986': 2.26,\n",
       "  '1987': 1.5899999999999999,\n",
       "  '1989': 0.87},\n",
       " 'Dominican Republic': {'1984': 3.63,\n",
       "  '1985': 3.5199999999999996,\n",
       "  '1986': 3.7199999999999998,\n",
       "  '1987': 4.37,\n",
       "  '1989': 4.53},\n",
       " 'Ecuador': {'1984': 2.33,\n",
       "  '1985': 2.3200000000000003,\n",
       "  '1986': 2.5,\n",
       "  '1987': 2.54,\n",
       "  '1989': 2.54},\n",
       " 'Egypt': {'1984': 0.38,\n",
       "  '1985': 0.37,\n",
       "  '1986': 0.39,\n",
       "  '1987': 0.39,\n",
       "  '1989': 0.42000000000000004},\n",
       " 'El Salvador': {'1984': 2.56,\n",
       "  '1985': 2.58,\n",
       "  '1986': 2.41,\n",
       "  '1987': 2.27,\n",
       "  '1989': 1.77},\n",
       " 'Equatorial Guinea': {'1984': 0.08,\n",
       "  '1985': 0.25,\n",
       "  '1986': 1.84,\n",
       "  '1987': 2.4,\n",
       "  '1989': 6.49},\n",
       " 'Eritrea': {'1984': 0.55,\n",
       "  '1985': 0.54,\n",
       "  '1986': 0.3,\n",
       "  '1987': 0.39,\n",
       "  '1989': 0.29},\n",
       " 'Ethiopia': {'1984': 0.6799999999999999,\n",
       "  '1985': 0.63,\n",
       "  '1986': 0.62,\n",
       "  '1987': 0.63,\n",
       "  '1989': 0.8600000000000001},\n",
       " 'Fiji': {'1984': 2.19,\n",
       "  '1985': 2.0500000000000003,\n",
       "  '1986': 1.81,\n",
       "  '1987': 1.6500000000000001,\n",
       "  '1989': 1.9600000000000002},\n",
       " 'Finland': {'1984': 8.059999999999999,\n",
       "  '1985': 8.06,\n",
       "  '1986': 8.510000000000002,\n",
       "  '1987': 8.75,\n",
       "  '1989': 9.419999999999998},\n",
       " 'France': {'1984': 16.89,\n",
       "  '1985': 16.59,\n",
       "  '1986': 16.13,\n",
       "  '1987': 15.9,\n",
       "  '1989': 16.05},\n",
       " 'Gabon': {'1984': 15.14,\n",
       "  '1985': 14.75,\n",
       "  '1986': 13.73,\n",
       "  '1987': 11.41,\n",
       "  '1989': 9.34},\n",
       " 'Gambia': {'1984': 1.2700000000000002,\n",
       "  '1985': 1.67,\n",
       "  '1986': 2.19,\n",
       "  '1987': 1.9600000000000002,\n",
       "  '1989': 1.6300000000000001},\n",
       " 'Germany': {'1984': 15.15,\n",
       "  '1985': 15.14,\n",
       "  '1986': 14.72,\n",
       "  '1987': 14.83,\n",
       "  '1989': 14.64},\n",
       " 'Ghana': {'1984': 1.3900000000000001,\n",
       "  '1985': 1.6700000000000002,\n",
       "  '1986': 1.45,\n",
       "  '1987': 1.28,\n",
       "  '1989': 1.8599999999999999},\n",
       " 'Greece': {'1984': 11.59,\n",
       "  '1985': 10.879999999999999,\n",
       "  '1986': 8.920000000000002,\n",
       "  '1987': 9.82,\n",
       "  '1989': 10.15},\n",
       " 'Guatemala': {'1984': 3.0300000000000002,\n",
       "  '1985': 3.03,\n",
       "  '1986': 2.58,\n",
       "  '1987': 2.78,\n",
       "  '1989': 2.47},\n",
       " 'Guinea': {'1984': 0.05,\n",
       "  '1985': 0.060000000000000005,\n",
       "  '1986': 0.16000000000000003,\n",
       "  '1987': 0.18,\n",
       "  '1989': 0.21},\n",
       " 'Guinea-Bissau': {'1984': 3.11,\n",
       "  '1985': 2.8499999999999996,\n",
       "  '1986': 2.44,\n",
       "  '1987': 2.4499999999999997,\n",
       "  '1989': 2.67},\n",
       " 'Guyana': {'1984': 4.0600000000000005,\n",
       "  '1985': 5.9,\n",
       "  '1986': 6.05,\n",
       "  '1987': 7.6,\n",
       "  '1989': 9.940000000000001},\n",
       " 'Haiti': {'1984': 4.449999999999999,\n",
       "  '1985': 6.4,\n",
       "  '1986': 5.7299999999999995,\n",
       "  '1987': 5.119999999999999,\n",
       "  '1989': 5.81},\n",
       " 'Honduras': {'1984': 2.18,\n",
       "  '1985': 1.89,\n",
       "  '1986': 2.05,\n",
       "  '1987': 2.01,\n",
       "  '1989': 2.15},\n",
       " 'Hungary': {'1984': 16.82,\n",
       "  '1985': 16.740000000000002,\n",
       "  '1986': 16.67,\n",
       "  '1987': 15.7,\n",
       "  '1989': 16.29},\n",
       " 'Iceland': {'1984': 5.379999999999999,\n",
       "  '1985': 5.359999999999999,\n",
       "  '1986': 5.48,\n",
       "  '1987': 5.6499999999999995,\n",
       "  '1989': 5.359999999999999},\n",
       " 'India': {'1984': 1.16,\n",
       "  '1985': 1.26,\n",
       "  '1986': 1.32,\n",
       "  '1987': 1.49,\n",
       "  '1989': 1.66},\n",
       " 'Indonesia': {'1984': 0.06,\n",
       "  '1985': 0.07,\n",
       "  '1986': 0.07,\n",
       "  '1987': 0.06,\n",
       "  '1989': 0.07},\n",
       " 'Iran (Islamic Republic of)': {'1984': 0.0,\n",
       "  '1985': 0.0,\n",
       "  '1986': 0.0,\n",
       "  '1987': 0.0,\n",
       "  '1989': 0.0},\n",
       " 'Iraq': {'1984': 0.8999999999999999,\n",
       "  '1985': 0.65,\n",
       "  '1986': 0.75,\n",
       "  '1987': 0.66,\n",
       "  '1989': 0.75},\n",
       " 'Ireland': {'1984': 11.07,\n",
       "  '1985': 11.63,\n",
       "  '1986': 11.24,\n",
       "  '1987': 10.98,\n",
       "  '1989': 11.79},\n",
       " 'Israel': {'1984': 2.65,\n",
       "  '1985': 2.6900000000000004,\n",
       "  '1986': 2.2600000000000002,\n",
       "  '1987': 2.26,\n",
       "  '1989': 2.0300000000000002},\n",
       " 'Italy': {'1984': 14.019999999999998,\n",
       "  '1985': 13.28,\n",
       "  '1986': 12.3,\n",
       "  '1987': 11.790000000000001,\n",
       "  '1989': 10.899999999999999},\n",
       " 'Jamaica': {'1984': 3.21,\n",
       "  '1985': 2.6799999999999997,\n",
       "  '1986': 2.77,\n",
       "  '1987': 3.11,\n",
       "  '1989': 3.03},\n",
       " 'Japan': {'1984': 7.1,\n",
       "  '1985': 6.9799999999999995,\n",
       "  '1986': 7.2,\n",
       "  '1987': 7.7,\n",
       "  '1989': 7.74},\n",
       " 'Jordan': {'1984': 0.37,\n",
       "  '1985': 0.24,\n",
       "  '1986': 0.29000000000000004,\n",
       "  '1987': 0.30000000000000004,\n",
       "  '1989': 0.19},\n",
       " 'Kenya': {'1984': 2.46,\n",
       "  '1985': 2.79,\n",
       "  '1986': 2.76,\n",
       "  '1987': 2.78,\n",
       "  '1989': 2.82},\n",
       " 'Kiribati': {'1984': 0.57,\n",
       "  '1985': 0.51,\n",
       "  '1986': 0.5800000000000001,\n",
       "  '1987': 0.63,\n",
       "  '1989': 0.48},\n",
       " 'Kuwait': {'1984': 0.0, '1985': 0.0, '1986': 0.0, '1987': 0.0, '1989': 0.0},\n",
       " 'Kyrgyzstan': {'1984': 0.0,\n",
       "  '1985': 7.07,\n",
       "  '1986': 3.41,\n",
       "  '1987': 3.01,\n",
       "  '1989': 4.279999999999999},\n",
       " \"Lao People's Democratic Republic\": {'1984': 4.67,\n",
       "  '1985': 4.81,\n",
       "  '1986': 4.93,\n",
       "  '1987': 4.59,\n",
       "  '1989': 5.95},\n",
       " 'Latvia': {'1984': 12.35,\n",
       "  '1985': 10.85,\n",
       "  '1986': 7.79,\n",
       "  '1987': 5.77,\n",
       "  '1989': 7.039999999999999},\n",
       " 'Lebanon': {'1984': 3.46,\n",
       "  '1985': 3.73,\n",
       "  '1986': 4.12,\n",
       "  '1987': 3.8099999999999996,\n",
       "  '1989': 3.94},\n",
       " 'Lesotho': {'1984': 3.28,\n",
       "  '1985': 2.5300000000000002,\n",
       "  '1986': 2.34,\n",
       "  '1987': 2.1,\n",
       "  '1989': 2.02},\n",
       " 'Liberia': {'1984': 3.62,\n",
       "  '1985': 3.99,\n",
       "  '1986': 4.43,\n",
       "  '1987': 4.869999999999999,\n",
       "  '1989': 5.61},\n",
       " 'Libya': {'1984': 0.0, '1985': 0.0, '1986': 0.0, '1987': 0.0, '1989': 0.0},\n",
       " 'Luxembourg': {'1984': 15.89,\n",
       "  '1985': 15.74,\n",
       "  '1986': 15.3,\n",
       "  '1987': 15.23,\n",
       "  '1989': 15.21},\n",
       " 'Madagascar': {'1984': 1.17,\n",
       "  '1985': 1.29,\n",
       "  '1986': 1.4,\n",
       "  '1987': 1.3299999999999998,\n",
       "  '1989': 1.38},\n",
       " 'Malawi': {'1984': 1.0899999999999999,\n",
       "  '1985': 1.35,\n",
       "  '1986': 1.35,\n",
       "  '1987': 1.12,\n",
       "  '1989': 1.02},\n",
       " 'Malaysia': {'1984': 0.66,\n",
       "  '1985': 0.6900000000000001,\n",
       "  '1986': 0.64,\n",
       "  '1987': 0.64,\n",
       "  '1989': 0.68},\n",
       " 'Mali': {'1984': 0.45,\n",
       "  '1985': 0.64,\n",
       "  '1986': 0.58,\n",
       "  '1987': 0.62,\n",
       "  '1989': 0.6699999999999999},\n",
       " 'Malta': {'1984': 5.05,\n",
       "  '1985': 4.91,\n",
       "  '1986': 5.34,\n",
       "  '1987': 5.0,\n",
       "  '1989': 7.13},\n",
       " 'Mauritania': {'1984': 0.04,\n",
       "  '1985': 0.05,\n",
       "  '1986': 0.03,\n",
       "  '1987': 0.02,\n",
       "  '1989': 0.02},\n",
       " 'Mauritius': {'1984': 2.8200000000000003,\n",
       "  '1985': 2.8600000000000003,\n",
       "  '1986': 3.04,\n",
       "  '1987': 3.42,\n",
       "  '1989': 3.54},\n",
       " 'Mexico': {'1984': 4.38,\n",
       "  '1985': 4.45,\n",
       "  '1986': 4.430000000000001,\n",
       "  '1987': 4.699999999999999,\n",
       "  '1989': 5.1},\n",
       " 'Micronesia (Federated States of)': {'1984': 0.0,\n",
       "  '1985': 0.0,\n",
       "  '1986': 0.0,\n",
       "  '1987': 0.0,\n",
       "  '1989': 0.0},\n",
       " 'Mongolia': {'1984': 3.6500000000000004,\n",
       "  '1985': 3.33,\n",
       "  '1986': 2.7300000000000004,\n",
       "  '1987': 2.1,\n",
       "  '1989': 2.59},\n",
       " 'Morocco': {'1984': 0.54,\n",
       "  '1985': 0.56,\n",
       "  '1986': 0.71,\n",
       "  '1987': 0.76,\n",
       "  '1989': 0.7},\n",
       " 'Mozambique': {'1984': 0.26,\n",
       "  '1985': 0.25,\n",
       "  '1986': 0.37,\n",
       "  '1987': 0.29000000000000004,\n",
       "  '1989': 0.39},\n",
       " 'Myanmar': {'1984': 0.29000000000000004,\n",
       "  '1985': 0.3,\n",
       "  '1986': 0.28,\n",
       "  '1987': 0.27,\n",
       "  '1989': 0.16},\n",
       " 'Namibia': {'1984': 0.27,\n",
       "  '1985': 0.27,\n",
       "  '1986': 0.26,\n",
       "  '1987': 0.25,\n",
       "  '1989': 0.24},\n",
       " 'Nepal': {'1984': 0.02,\n",
       "  '1985': 0.01,\n",
       "  '1986': 0.01,\n",
       "  '1987': 0.02,\n",
       "  '1989': 0.03},\n",
       " 'Netherlands': {'1984': 10.76,\n",
       "  '1985': 10.55,\n",
       "  '1986': 10.620000000000001,\n",
       "  '1987': 10.2,\n",
       "  '1989': 10.030000000000001},\n",
       " 'New Zealand': {'1984': 12.079999999999998,\n",
       "  '1985': 11.959999999999999,\n",
       "  '1986': 12.219999999999999,\n",
       "  '1987': 12.27,\n",
       "  '1989': 11.52},\n",
       " 'Nicaragua': {'1984': 3.0999999999999996,\n",
       "  '1985': 3.3499999999999996,\n",
       "  '1986': 3.48,\n",
       "  '1987': 3.45,\n",
       "  '1989': 2.5},\n",
       " 'Niger': {'1984': 0.21,\n",
       "  '1985': 0.14,\n",
       "  '1986': 0.17,\n",
       "  '1987': 0.16,\n",
       "  '1989': 0.11},\n",
       " 'Nigeria': {'1984': 7.35,\n",
       "  '1985': 7.27,\n",
       "  '1986': 7.26,\n",
       "  '1987': 7.319999999999999,\n",
       "  '1989': 6.74},\n",
       " 'Norway': {'1984': 4.9799999999999995,\n",
       "  '1985': 5.22,\n",
       "  '1986': 5.27,\n",
       "  '1987': 5.38,\n",
       "  '1989': 5.08},\n",
       " 'Oman': {'1984': 0.14,\n",
       "  '1985': 0.12,\n",
       "  '1986': 0.14,\n",
       "  '1987': 1.17,\n",
       "  '1989': 1.03},\n",
       " 'Pakistan': {'1984': 0.02,\n",
       "  '1985': 0.02,\n",
       "  '1986': 0.02,\n",
       "  '1987': 0.02,\n",
       "  '1989': 0.02},\n",
       " 'Panama': {'1984': 4.99,\n",
       "  '1985': 4.87,\n",
       "  '1986': 5.08,\n",
       "  '1987': 5.05,\n",
       "  '1989': 4.6000000000000005},\n",
       " 'Papua New Guinea': {'1984': 1.2500000000000002,\n",
       "  '1985': 1.3,\n",
       "  '1986': 1.23,\n",
       "  '1987': 1.29,\n",
       "  '1989': 1.1099999999999999},\n",
       " 'Paraguay': {'1984': 7.03,\n",
       "  '1985': 6.85,\n",
       "  '1986': 7.48,\n",
       "  '1987': 7.35,\n",
       "  '1989': 6.51},\n",
       " 'Peru': {'1984': 5.73,\n",
       "  '1985': 5.1,\n",
       "  '1986': 5.96,\n",
       "  '1987': 6.680000000000001,\n",
       "  '1989': 4.99},\n",
       " 'Philippines': {'1984': 4.300000000000001,\n",
       "  '1985': 4.57,\n",
       "  '1986': 4.1,\n",
       "  '1987': 4.42,\n",
       "  '1989': 3.78},\n",
       " 'Poland': {'1984': 8.31,\n",
       "  '1985': 8.5,\n",
       "  '1986': 9.18,\n",
       "  '1987': 9.41,\n",
       "  '1989': 9.33},\n",
       " 'Portugal': {'1984': 17.5,\n",
       "  '1985': 15.010000000000002,\n",
       "  '1986': 14.43,\n",
       "  '1987': 13.22,\n",
       "  '1989': 15.350000000000001},\n",
       " 'Qatar': {'1984': 2.23,\n",
       "  '1985': 2.06,\n",
       "  '1986': 2.11,\n",
       "  '1987': 1.42,\n",
       "  '1989': 1.4500000000000002},\n",
       " 'Republic of Korea': {'1984': 10.67,\n",
       "  '1985': 10.18,\n",
       "  '1986': 10.25,\n",
       "  '1987': 10.18,\n",
       "  '1989': 9.620000000000001},\n",
       " 'Romania': {'1984': 9.719999999999999,\n",
       "  '1985': 9.690000000000001,\n",
       "  '1986': 9.9,\n",
       "  '1987': 7.08,\n",
       "  '1989': 8.41},\n",
       " 'Russian Federation': {'1984': 8.979999999999999,\n",
       "  '1985': 7.61,\n",
       "  '1986': 5.289999999999999,\n",
       "  '1987': 4.59,\n",
       "  '1989': 5.35},\n",
       " 'Rwanda': {'1984': 7.09,\n",
       "  '1985': 7.509999999999999,\n",
       "  '1986': 6.87,\n",
       "  '1987': 6.489999999999999,\n",
       "  '1989': 7.549999999999999},\n",
       " 'Saint Kitts and Nevis': {'1984': 3.9699999999999998,\n",
       "  '1985': 3.5100000000000002,\n",
       "  '1986': 3.98,\n",
       "  '1987': 3.18,\n",
       "  '1989': 4.65},\n",
       " 'Saint Lucia': {'1984': 9.07,\n",
       "  '1985': 8.9,\n",
       "  '1986': 9.66,\n",
       "  '1987': 10.030000000000001,\n",
       "  '1989': 11.62},\n",
       " 'Samoa': {'1984': 1.69,\n",
       "  '1985': 1.74,\n",
       "  '1986': 1.6400000000000001,\n",
       "  '1987': 3.1399999999999997,\n",
       "  '1989': 2.63},\n",
       " 'Sao Tome and Principe': {'1984': 0.95,\n",
       "  '1985': 0.76,\n",
       "  '1986': 0.65,\n",
       "  '1987': 1.9,\n",
       "  '1989': 2.57},\n",
       " 'Saudi Arabia': {'1984': 0.4,\n",
       "  '1985': 0.27,\n",
       "  '1986': 0.2,\n",
       "  '1987': 0.21,\n",
       "  '1989': 0.15},\n",
       " 'Senegal': {'1984': 0.5800000000000001,\n",
       "  '1985': 0.45,\n",
       "  '1986': 0.44,\n",
       "  '1987': 0.45999999999999996,\n",
       "  '1989': 0.6100000000000001},\n",
       " 'Seychelles': {'1984': 3.1100000000000003,\n",
       "  '1985': 3.19,\n",
       "  '1986': 3.21,\n",
       "  '1987': 3.27,\n",
       "  '1989': 3.3000000000000003},\n",
       " 'Sierra Leone': {'1984': 4.58,\n",
       "  '1985': 4.79,\n",
       "  '1986': 4.61,\n",
       "  '1987': 4.52,\n",
       "  '1989': 4.380000000000001},\n",
       " 'Singapore': {'1984': 2.3200000000000003,\n",
       "  '1985': 1.79,\n",
       "  '1986': 1.6300000000000001,\n",
       "  '1987': 1.74,\n",
       "  '1989': 1.61},\n",
       " 'Slovakia': {'1984': 14.33,\n",
       "  '1985': 13.819999999999999,\n",
       "  '1986': 13.3,\n",
       "  '1987': 13.240000000000002,\n",
       "  '1989': 12.700000000000001},\n",
       " 'Slovenia': {'1984': 17.23,\n",
       "  '1985': 15.080000000000002,\n",
       "  '1986': 18.13,\n",
       "  '1987': 16.64,\n",
       "  '1989': 12.969999999999999},\n",
       " 'Solomon Islands': {'1984': 1.09,\n",
       "  '1985': 1.1300000000000001,\n",
       "  '1986': 0.9000000000000001,\n",
       "  '1987': 0.7,\n",
       "  '1989': 0.5800000000000001},\n",
       " 'Somalia': {'1984': 0.01,\n",
       "  '1985': 0.01,\n",
       "  '1986': 0.01,\n",
       "  '1987': 0.02,\n",
       "  '1989': 0.0},\n",
       " 'South Africa': {'1984': 8.77,\n",
       "  '1985': 8.4,\n",
       "  '1986': 8.85,\n",
       "  '1987': 8.97,\n",
       "  '1989': 9.21},\n",
       " 'Spain': {'1984': 14.490000000000002,\n",
       "  '1985': 14.47,\n",
       "  '1986': 14.370000000000001,\n",
       "  '1987': 14.41,\n",
       "  '1989': 13.280000000000001},\n",
       " 'Sri Lanka': {'1984': 0.28,\n",
       "  '1985': 0.26,\n",
       "  '1986': 0.19,\n",
       "  '1987': 0.18000000000000002,\n",
       "  '1989': 0.14},\n",
       " 'Sudan': {'1984': 0.26,\n",
       "  '1985': 0.25,\n",
       "  '1986': 0.25,\n",
       "  '1987': 0.25,\n",
       "  '1989': 0.15},\n",
       " 'Suriname': {'1984': 6.970000000000001,\n",
       "  '1985': 6.24,\n",
       "  '1986': 5.26,\n",
       "  '1987': 3.4800000000000004,\n",
       "  '1989': 3.67},\n",
       " 'Swaziland': {'1984': 7.33,\n",
       "  '1985': 9.69,\n",
       "  '1986': 6.470000000000001,\n",
       "  '1987': 3.4699999999999998,\n",
       "  '1989': 6.68},\n",
       " 'Sweden': {'1984': 6.82,\n",
       "  '1985': 6.9,\n",
       "  '1986': 7.210000000000001,\n",
       "  '1987': 7.07,\n",
       "  '1989': 7.47},\n",
       " 'Switzerland': {'1984': 14.33,\n",
       "  '1985': 14.37,\n",
       "  '1986': 14.07,\n",
       "  '1987': 14.02,\n",
       "  '1989': 13.849999999999998},\n",
       " 'Syrian Arab Republic': {'1984': 0.8600000000000001,\n",
       "  '1985': 1.01,\n",
       "  '1986': 1.02,\n",
       "  '1987': 0.77,\n",
       "  '1989': 0.54},\n",
       " 'Thailand': {'1984': 6.03,\n",
       "  '1985': 2.46,\n",
       "  '1986': 2.44,\n",
       "  '1987': 2.58,\n",
       "  '1989': 3.92},\n",
       " 'Togo': {'1984': 2.6100000000000003,\n",
       "  '1985': 2.85,\n",
       "  '1986': 2.8,\n",
       "  '1987': 2.6499999999999995,\n",
       "  '1989': 2.2199999999999998},\n",
       " 'Trinidad and Tobago': {'1984': 5.88,\n",
       "  '1985': 4.9399999999999995,\n",
       "  '1986': 5.199999999999999,\n",
       "  '1987': 4.349999999999999,\n",
       "  '1989': 4.68},\n",
       " 'Tunisia': {'1984': 1.1600000000000001,\n",
       "  '1985': 1.16,\n",
       "  '1986': 1.15,\n",
       "  '1987': 0.98,\n",
       "  '1989': 0.95},\n",
       " 'Turkey': {'1984': 1.0,\n",
       "  '1985': 0.98,\n",
       "  '1986': 0.8500000000000001,\n",
       "  '1987': 0.89,\n",
       "  '1989': 0.72},\n",
       " 'Uganda': {'1984': 7.84,\n",
       "  '1985': 7.01,\n",
       "  '1986': 7.47,\n",
       "  '1987': 7.5200000000000005,\n",
       "  '1989': 7.8},\n",
       " 'Ukraine': {'1984': 7.08,\n",
       "  '1985': 6.620000000000001,\n",
       "  '1986': 4.390000000000001,\n",
       "  '1987': 4.01,\n",
       "  '1989': 5.32},\n",
       " 'United Arab Emirates': {'1984': 12.43,\n",
       "  '1985': 8.34,\n",
       "  '1986': 6.74,\n",
       "  '1987': 5.36,\n",
       "  '1989': 4.43},\n",
       " 'United Kingdom of Great Britain and Northern Ireland': {'1984': 10.16,\n",
       "  '1985': 10.239999999999998,\n",
       "  '1986': 10.260000000000002,\n",
       "  '1987': 9.530000000000001,\n",
       "  '1989': 9.99},\n",
       " 'United Republic of Tanzania': {'1984': 6.56,\n",
       "  '1985': 8.25,\n",
       "  '1986': 7.29,\n",
       "  '1987': 6.89,\n",
       "  '1989': 5.9},\n",
       " 'United States of America': {'1984': 10.18,\n",
       "  '1985': 9.879999999999999,\n",
       "  '1986': 9.73,\n",
       "  '1987': 9.61,\n",
       "  '1989': 9.16},\n",
       " 'Uruguay': {'1984': 7.67,\n",
       "  '1985': 7.239999999999999,\n",
       "  '1986': 7.2299999999999995,\n",
       "  '1987': 7.64,\n",
       "  '1989': 7.4399999999999995},\n",
       " 'Vanuatu': {'1984': 2.2399999999999998,\n",
       "  '1985': 2.14,\n",
       "  '1986': 1.74,\n",
       "  '1987': 1.4300000000000002,\n",
       "  '1989': 1.74},\n",
       " 'Venezuela (Bolivarian Republic of)': {'1984': 9.02,\n",
       "  '1985': 7.93,\n",
       "  '1986': 8.32,\n",
       "  '1987': 9.16,\n",
       "  '1989': 7.87},\n",
       " 'Viet Nam': {'1984': 0.17,\n",
       "  '1985': 0.16999999999999998,\n",
       "  '1986': 0.16999999999999998,\n",
       "  '1987': 0.16,\n",
       "  '1989': 0.16},\n",
       " 'Yemen': {'1984': 0.22,\n",
       "  '1985': 0.28,\n",
       "  '1986': 0.22,\n",
       "  '1987': 0.16999999999999998,\n",
       "  '1989': 0.2},\n",
       " 'Zambia': {'1984': 2.8299999999999996,\n",
       "  '1985': 3.11,\n",
       "  '1986': 3.07,\n",
       "  '1987': 3.12,\n",
       "  '1989': 3.37},\n",
       " 'Zimbabwe': {'1984': 7.27,\n",
       "  '1985': 6.61,\n",
       "  '1986': 7.24,\n",
       "  '1987': 5.029999999999999,\n",
       "  '1989': 4.92}}"
      ]
     },
     "execution_count": 66,
     "metadata": {},
     "output_type": "execute_result"
    }
   ],
   "source": [
    "# une solution possibe parmi les 100aines qui existent : chacun la sienne donc !\n",
    "# on va créer un dictionnaire de la forme :\n",
    "# conso = {pays1 :{annee1 : conso1,\n",
    "#                  annee2 : conso2,\n",
    "#                  etc},\n",
    "#           pays2 :{annee1 : conso1,\n",
    "#                   annee2 : conso2,\n",
    "#                   etc},\n",
    "#            ...}\n",
    "conso = {}\n",
    "\n",
    "for pays in np.unique(data[:, 2]):\n",
    "    conso[pays] = {}\n",
    "    for annee in np.unique(data[:,0]):\n",
    "        filtre = (data[:,0]==annee) & (data[:,2]==pays)\n",
    "        conso[pays][annee] = data[filtre,4].astype(float).sum()\n",
    "    \n",
    "conso\n",
    "  "
   ]
  },
  {
   "cell_type": "code",
   "execution_count": 73,
   "metadata": {},
   "outputs": [
    {
     "data": {
      "text/plain": [
       "{'1984': 16.89, '1985': 16.59, '1986': 16.13, '1987': 15.9, '1989': 16.05}"
      ]
     },
     "execution_count": 73,
     "metadata": {},
     "output_type": "execute_result"
    }
   ],
   "source": [
    "conso['France']"
   ]
  },
  {
   "cell_type": "markdown",
   "metadata": {},
   "source": [
    "Pour déterminer le pays avec la plus grande consommation d'alcool, il y a plusieurs mesures possibles :\n",
    " - le plus grand consommateur annuel (la plus grande consommation sur une année) ? *réponse le recordman : tel pays a consommé tant en telle année*\n",
    " - le plus grand consommateur annuel en moyenne sur toute la période ? *plus grande consommation consommation annuelle moyenne calculée sur 84-89*\n",
    " - le plus grand en consommation totale sur la période ?\n",
    " - celui qui a été plus grand consommateur annuel le plus de fois sur la période ?\n",
    " - système de classement par points avec des points attribués chaque année en fonction de la position\n",
    " - etc...\n",
    "\n",
    "On en implémente quelques unes"
   ]
  },
  {
   "cell_type": "code",
   "execution_count": 76,
   "metadata": {},
   "outputs": [
    {
     "data": {
      "text/plain": [
       "18.13"
      ]
     },
     "execution_count": 76,
     "metadata": {},
     "output_type": "execute_result"
    }
   ],
   "source": [
    "### Plus grand en consommation annuelle\n",
    "\n",
    "# calcul la conso max pour chaque pays\n",
    "conso_max = {}\n",
    "for pays in conso:\n",
    "    conso_max[pays] = max(conso[pays].values())\n",
    "    \n",
    "\n",
    "# récupérer la consommation record\n",
    "conso_record = max(conso_max.values())\n",
    "conso_record"
   ]
  },
  {
   "cell_type": "code",
   "execution_count": 77,
   "metadata": {},
   "outputs": [
    {
     "name": "stdout",
     "output_type": "stream",
     "text": [
      "Slovenia a consommé 18.13 L/hab en 1986\n"
     ]
    }
   ],
   "source": [
    "# récuéprer le pays et l'année ayant atteint ce record\n",
    "for pays in conso:\n",
    "    for ann in conso[pays]:\n",
    "        if conso_record == conso[pays][ann]:\n",
    "            pays_record = pays\n",
    "            annee_record = ann\n",
    "\n",
    "print(f\"{pays_record} a consommé {conso_record} L/hab en {annee_record}\")"
   ]
  },
  {
   "cell_type": "code",
   "execution_count": 78,
   "metadata": {},
   "outputs": [
    {
     "name": "stdout",
     "output_type": "stream",
     "text": [
      "Hungary a la plus grande consommation moyenne sur la période 84-89 avec 16.444 L/hab consommés en moyenne\n"
     ]
    }
   ],
   "source": [
    "### Plus grand en consommation myenne sur la période\n",
    "\n",
    "# calcul la conso moyenne pour chaque pays\n",
    "conso_moy = {}\n",
    "for pays in conso:\n",
    "    conso_moy[pays] = sum(conso[pays].values())/len(conso[pays].values())\n",
    "\n",
    "# récupérer la plus grande conso moyenne\n",
    "conso_moy_max = max(conso_moy.values())\n",
    "\n",
    "# récupérer le pays qui a cette moyenne\n",
    "for pays in conso_moy:\n",
    "    if conso_moy[pays] == conso_moy_max:\n",
    "        pays_max = pays\n",
    "        break\n",
    "                \n",
    "print(f\"{pays_max} a la plus grande consommation moyenne sur la période 84-89 avec {conso_moy_max} L/hab consommés en moyenne\")"
   ]
  },
  {
   "cell_type": "code",
   "execution_count": 79,
   "metadata": {},
   "outputs": [
    {
     "name": "stdout",
     "output_type": "stream",
     "text": [
      "Hungary est le champion sur la période 84-89 avec au total 82.22 L/hab consommés\n"
     ]
    }
   ],
   "source": [
    "### Plus grand en consommation totale sur toute la période\n",
    "\n",
    "#calcul la conso totale\n",
    "conso_tot = {}\n",
    "for pays in conso:\n",
    "    conso_tot[pays] = sum(conso[pays].values())\n",
    "    \n",
    "# récupérer la conso totale max ET le pays associé\n",
    "pays_max = ''\n",
    "conso_max = 0\n",
    "\n",
    "for pays in conso_tot:\n",
    "    if conso_tot[pays] > conso_max:\n",
    "        conso_max = conso_tot[pays]\n",
    "        pays_max = pays\n",
    "\n",
    "print(f\"{pays_max} est le champion sur la période 84-89 avec au total {conso_max} L/hab consommés\")"
   ]
  },
  {
   "cell_type": "code",
   "execution_count": 80,
   "metadata": {},
   "outputs": [
    {
     "name": "stdout",
     "output_type": "stream",
     "text": [
      "1984 Portugal 17.5\n",
      "1985 Hungary 16.740000000000002\n",
      "1986 Slovenia 18.13\n",
      "1987 Slovenia 16.64\n",
      "1989 Hungary 16.29\n"
     ]
    }
   ],
   "source": [
    "# récupérer le pays \"vainqueur\" et sa consommation pour chaque année\n",
    "for ann in np.unique(data[:,0]):\n",
    "    max_ann = 0\n",
    "    pays_ann = ''\n",
    "\n",
    "    for pays in conso:\n",
    "        if conso[pays][ann] > max_ann:\n",
    "            pays_ann = pays\n",
    "            max_ann = conso[pays][ann]\n",
    "\n",
    "    print(ann, pays_ann, max_ann)"
   ]
  },
  {
   "cell_type": "code",
   "execution_count": null,
   "metadata": {},
   "outputs": [],
   "source": []
  }
 ],
 "metadata": {
  "kernelspec": {
   "display_name": "Python 3 (ipykernel)",
   "language": "python",
   "name": "python3"
  },
  "language_info": {
   "codemirror_mode": {
    "name": "ipython",
    "version": 3
   },
   "file_extension": ".py",
   "mimetype": "text/x-python",
   "name": "python",
   "nbconvert_exporter": "python",
   "pygments_lexer": "ipython3",
   "version": "3.8.13"
  }
 },
 "nbformat": 4,
 "nbformat_minor": 4
}
