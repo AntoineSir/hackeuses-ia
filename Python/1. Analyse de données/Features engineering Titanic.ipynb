{
 "cells": [
  {
   "cell_type": "markdown",
   "id": "bdd3bb5c",
   "metadata": {},
   "source": [
    "# Préparation du dataset Titanic pour le Machine Learning\n",
    "\n",
    "On veut entraîner un modèle de prédiction de survie sur le dataset Titanic. \n",
    "Pour cela, on a besoin de passer par plusieurs étapes"
   ]
  },
  {
   "cell_type": "markdown",
   "id": "c62fd36b",
   "metadata": {},
   "source": [
    "## Choix des variables de prédiction en fonction de notre variable d'intérêt\n",
    "\n",
    "Regardez si vous trouvez des corrélations entre les différentes variables du dataset et le fait de survivre au nauffrage.\n",
    "Proposez en conséquence Les variables que vous souhaiteriez utiliser"
   ]
  },
  {
   "cell_type": "markdown",
   "id": "52ba4bd0",
   "metadata": {},
   "source": [
    "## Passage des variables de mon modèle au bon type  \n",
    "Les variables catégorielles ne sont pas utilisables en l'état pour entraîner un modèle de Machine Learning, il faut les transformer en un ensemble de variables indicatrices.\n",
    "Renseignez vous sur la méthode `pandas.get_dummies()` et appliquez là aux variables concernées.  \n",
    "Appliquez le paramètre de la fonction `drop_first = True`. À quoi sert-il?"
   ]
  },
  {
   "cell_type": "markdown",
   "id": "65985fa0",
   "metadata": {},
   "source": [
    "## Standardisation des données  \n",
    "Renseignez-vous sur ce que sont la standardisation/la normalisation des données. \n",
    "À quoi servent ces méthodes?\n",
    "Utilisez le package `scikit-learn` pour appliquer une standardisation à vos données numériques."
   ]
  },
  {
   "cell_type": "code",
   "execution_count": null,
   "id": "bc0dff60",
   "metadata": {},
   "outputs": [],
   "source": []
  }
 ],
 "metadata": {
  "kernelspec": {
   "display_name": "Python 3 (ipykernel)",
   "language": "python",
   "name": "python3"
  },
  "language_info": {
   "codemirror_mode": {
    "name": "ipython",
    "version": 3
   },
   "file_extension": ".py",
   "mimetype": "text/x-python",
   "name": "python",
   "nbconvert_exporter": "python",
   "pygments_lexer": "ipython3",
   "version": "3.8.13"
  }
 },
 "nbformat": 4,
 "nbformat_minor": 5
}
