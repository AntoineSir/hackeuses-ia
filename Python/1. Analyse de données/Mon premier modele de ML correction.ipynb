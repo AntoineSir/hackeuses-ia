{
 "cells": [
  {
   "cell_type": "markdown",
   "id": "bdd3bb5c",
   "metadata": {},
   "source": [
    "# Entraînement de mon premier modèle de ML\n",
    "\n",
    "On a préparé notre dataset, maintenant il faut entraîner notre modèle. On va le faire étape par étape.\n",
    "- Commencez d'abord par créer un objet X contenant vos __variables prédictives__\n",
    "- Créez un objet Y contenant votre __variable d'intérêt__"
   ]
  },
  {
   "cell_type": "code",
   "execution_count": 15,
   "id": "3c0e37e0",
   "metadata": {},
   "outputs": [],
   "source": [
    "import pandas as pd\n",
    "import numpy as np\n",
    "titanic = pd.read_csv(\"Data/titanic-survival.csv\")\n",
    "titanic = titanic.loc[:, [\"survived\", \"pclass\", \"sex\", \"age\", \"sibsp\", \"parch\", \"fare\"]].dropna()"
   ]
  },
  {
   "cell_type": "code",
   "execution_count": 16,
   "id": "58268b73",
   "metadata": {},
   "outputs": [],
   "source": [
    "X = titanic.drop(\"survived\", axis = 1)\n",
    "Y = titanic.loc[:, \"survived\"]"
   ]
  },
  {
   "cell_type": "code",
   "execution_count": 17,
   "id": "36efe98e",
   "metadata": {},
   "outputs": [],
   "source": [
    "X = pd.get_dummies(X, columns = [\"sex\", \"pclass\"], drop_first = True)"
   ]
  },
  {
   "cell_type": "code",
   "execution_count": 18,
   "id": "f43c60e4",
   "metadata": {},
   "outputs": [
    {
     "name": "stdout",
     "output_type": "stream",
     "text": [
      "(1045, 7) (1045,)\n"
     ]
    }
   ],
   "source": [
    "print(X.shape, Y.shape)"
   ]
  },
  {
   "cell_type": "code",
   "execution_count": 19,
   "id": "d4bbc8d8",
   "metadata": {},
   "outputs": [],
   "source": [
    "# On refait le standard scaler\n",
    "# import de la fonction\n",
    "from sklearn.preprocessing import StandardScaler\n",
    "\n",
    "# on initialise l'objet\n",
    "sc = StandardScaler()\n",
    "X = sc.fit_transform(X)"
   ]
  },
  {
   "cell_type": "markdown",
   "id": "ffe95fd8",
   "metadata": {},
   "source": [
    "## Split de mon dataset\n",
    "On l'a vu ensemble, on entraîne notre modèle sur des données mais on l'évalue sur des données qui n'ont pas été \"vues\" par le modèle, pour éviter l'__overfitting__.  \n",
    "Renseignez vous sur la méthode `sklearn.model_selection.train_test_split` et appliquez là à vos objets `X` et `Y` pour créer `x_train`, `x_test`, `y_train` et `y_test`"
   ]
  },
  {
   "cell_type": "code",
   "execution_count": 20,
   "id": "92a59949",
   "metadata": {},
   "outputs": [],
   "source": [
    "from sklearn.model_selection import train_test_split\n",
    "\n",
    "X_train, X_test, y_train, y_test = train_test_split(X, Y, test_size=0.3)"
   ]
  },
  {
   "cell_type": "markdown",
   "id": "c62fd36b",
   "metadata": {},
   "source": [
    "## Entraînement du modèle\n",
    "\n",
    "Nous sommes sur un problème de __classification__. Renseignez vous sur l'algorithme `Decision Tree` et trouvez le moyen de le créer avec `scikit-learn`.  \n",
    "Utilisez la méthode `.fit()` pour l'entraîner __sur vos données d'entraînement__.  \n",
    "Utilisez la méthode `.predict()` sur `x_test` pour créer les valeurs prédites de survie sur vos données de test. "
   ]
  },
  {
   "cell_type": "code",
   "execution_count": 25,
   "id": "a88746fd",
   "metadata": {},
   "outputs": [],
   "source": [
    "from sklearn.tree import DecisionTreeClassifier\n",
    "\n",
    "# on initialise\n",
    "tree_classifier = DecisionTreeClassifier()\n",
    "\n",
    "tree_classifier.fit(X_train, y_train)\n",
    "\n",
    "\n",
    "# On l'utilise pour prédire sur les données de test\n",
    "y_test_predict= tree_classifier.predict(X_test)\n"
   ]
  },
  {
   "cell_type": "markdown",
   "id": "52ba4bd0",
   "metadata": {},
   "source": [
    "## Évaluation du modèle\n",
    "Renseignez vous sur la fonction `sklearn.metrics.accuracy_score`.   \n",
    "Que représente cet indicateur?  \n",
    "Calculez l'accuracy de votre modèle sur les données de test\n"
   ]
  },
  {
   "cell_type": "code",
   "execution_count": 26,
   "id": "bc0dff60",
   "metadata": {},
   "outputs": [
    {
     "name": "stdout",
     "output_type": "stream",
     "text": [
      "0.7707006369426752\n"
     ]
    }
   ],
   "source": [
    "from sklearn.metrics import accuracy_score\n",
    "\n",
    "# On calcule l'accuracy du modèle  \n",
    "acc = accuracy_score(y_test_predict, y_test)\n",
    "print(acc)"
   ]
  },
  {
   "cell_type": "code",
   "execution_count": null,
   "id": "adc02912",
   "metadata": {},
   "outputs": [],
   "source": []
  }
 ],
 "metadata": {
  "kernelspec": {
   "display_name": "Python 3 (ipykernel)",
   "language": "python",
   "name": "python3"
  },
  "language_info": {
   "codemirror_mode": {
    "name": "ipython",
    "version": 3
   },
   "file_extension": ".py",
   "mimetype": "text/x-python",
   "name": "python",
   "nbconvert_exporter": "python",
   "pygments_lexer": "ipython3",
   "version": "3.10.12"
  }
 },
 "nbformat": 4,
 "nbformat_minor": 5
}
