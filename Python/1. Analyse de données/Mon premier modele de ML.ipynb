{
 "cells": [
  {
   "cell_type": "markdown",
   "id": "bdd3bb5c",
   "metadata": {},
   "source": [
    "# Entraînement de mon premier modèle de ML\n",
    "\n",
    "On a préparé notre dataset, maintenant il faut entraîner notre modèle. On va le faire étape par étape.\n",
    "- Commencez d'abord par créer un objet X contenant vos __variables prédictives__\n",
    "- Créez un objet Y contenant votre __variable d'intérêt__"
   ]
  },
  {
   "cell_type": "markdown",
   "id": "ffe95fd8",
   "metadata": {},
   "source": [
    "## Split de mon dataset\n",
    "On l'a vu ensemble, on entraîne notre modèle sur des données mais on l'évalue sur des données qui n'ont pas été \"vues\" par le modèle, pour éviter l'__overfitting__.  \n",
    "Renseignez vous sur la méthode `sklearn.model_selection.train_test_split` et appliquez là à vos objets `X` et `Y` pour créer `x_train`, `x_test`, `y_train` et `y_test`"
   ]
  },
  {
   "cell_type": "markdown",
   "id": "c62fd36b",
   "metadata": {},
   "source": [
    "## Entraînement du modèle\n",
    "\n",
    "Nous sommes sur un problème de __classification__. Renseignez vous sur l'algorithme `Decision Tree` et trouvez le moyen de le créer avec `scikit-learn`.  \n",
    "Utilisez la méthode `.fit()` pour l'entraîner __sur vos données d'entraînement__.  \n",
    "Utilisez la méthode `.predict()` sur `x_test` pour créer les valeurs prédites de survie sur vos données de test. "
   ]
  },
  {
   "cell_type": "markdown",
   "id": "52ba4bd0",
   "metadata": {},
   "source": [
    "## Évaluation du modèle\n",
    "Renseignez vous sur la fonction `sklearn.metrics.accuracy_score`.   \n",
    "Que représente cet indicateur?  \n",
    "Calculez l'accuracy de votre modèle sur les données de test\n"
   ]
  },
  {
   "cell_type": "code",
   "execution_count": null,
   "id": "bc0dff60",
   "metadata": {},
   "outputs": [],
   "source": []
  }
 ],
 "metadata": {
  "kernelspec": {
   "display_name": "Python 3 (ipykernel)",
   "language": "python",
   "name": "python3"
  },
  "language_info": {
   "codemirror_mode": {
    "name": "ipython",
    "version": 3
   },
   "file_extension": ".py",
   "mimetype": "text/x-python",
   "name": "python",
   "nbconvert_exporter": "python",
   "pygments_lexer": "ipython3",
   "version": "3.8.13"
  }
 },
 "nbformat": 4,
 "nbformat_minor": 5
}
